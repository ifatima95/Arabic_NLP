{
  "nbformat": 4,
  "nbformat_minor": 5,
  "metadata": {
    "kernelspec": {
      "display_name": "Python 3",
      "language": "python",
      "name": "python3"
    },
    "language_info": {
      "codemirror_mode": {
        "name": "ipython",
        "version": 3
      },
      "file_extension": ".py",
      "mimetype": "text/x-python",
      "name": "python",
      "nbconvert_exporter": "python",
      "pygments_lexer": "ipython3",
      "version": "3.8.2"
    },
    "colab": {
      "name": "sent_improvments_final.ipynb",
      "provenance": [],
      "collapsed_sections": []
    },
    "accelerator": "GPU"
  },
  "cells": [
    {
      "cell_type": "code",
      "metadata": {
        "id": "modular-inspiration"
      },
      "source": [
        ""
      ],
      "id": "modular-inspiration",
      "execution_count": null,
      "outputs": []
    },
    {
      "cell_type": "code",
      "metadata": {
        "colab": {
          "base_uri": "https://localhost:8080/"
        },
        "id": "7lnlzuij0aqu",
        "outputId": "73f35660-21d4-4f4f-d4c4-281b01af1279"
      },
      "source": [
        "!wget https://dl.fbaipublicfiles.com/fasttext/vectors-wiki/wiki.ar.vec"
      ],
      "id": "7lnlzuij0aqu",
      "execution_count": null,
      "outputs": [
        {
          "output_type": "stream",
          "text": [
            "--2021-02-13 17:37:51--  https://dl.fbaipublicfiles.com/fasttext/vectors-wiki/wiki.ar.vec\n",
            "Resolving dl.fbaipublicfiles.com (dl.fbaipublicfiles.com)... 104.22.75.142, 172.67.9.4, 104.22.74.142, ...\n",
            "Connecting to dl.fbaipublicfiles.com (dl.fbaipublicfiles.com)|104.22.75.142|:443... connected.\n",
            "HTTP request sent, awaiting response... 200 OK\n",
            "Length: 1610017300 (1.5G) [binary/octet-stream]\n",
            "Saving to: ‘wiki.ar.vec’\n",
            "\n",
            "wiki.ar.vec         100%[===================>]   1.50G  24.4MB/s    in 64s     \n",
            "\n",
            "2021-02-13 17:38:55 (24.1 MB/s) - ‘wiki.ar.vec’ saved [1610017300/1610017300]\n",
            "\n"
          ],
          "name": "stdout"
        }
      ]
    },
    {
      "cell_type": "code",
      "metadata": {
        "id": "TiX2lWIA0a9Y"
      },
      "source": [
        "from gensim.models import KeyedVectors"
      ],
      "id": "TiX2lWIA0a9Y",
      "execution_count": null,
      "outputs": []
    },
    {
      "cell_type": "code",
      "metadata": {
        "colab": {
          "base_uri": "https://localhost:8080/"
        },
        "id": "ecological-snowboard",
        "outputId": "e4e91e98-e3ae-4930-aa0e-e271b8d3923d"
      },
      "source": [
        "filepath = \"wiki.ar.vec\"\n",
        "w2v = KeyedVectors.load_word2vec_format(filepath, binary=False)\n",
        "print(len(w2v.vocab))"
      ],
      "id": "ecological-snowboard",
      "execution_count": null,
      "outputs": [
        {
          "output_type": "stream",
          "text": [
            "610977\n"
          ],
          "name": "stdout"
        }
      ]
    },
    {
      "cell_type": "code",
      "metadata": {
        "id": "ecological-yellow"
      },
      "source": [
        "MAX_SEQUENCE_LENGTH = 85 #176 # based on our inputs; TODO: remove outliers? dynamically calculate!\n",
        "MAX_NB_WORDS = len(w2v.vocab)\n",
        "EMBEDDING_DIM = 300 # w2v, fastText; GloVe=50"
      ],
      "id": "ecological-yellow",
      "execution_count": null,
      "outputs": []
    },
    {
      "cell_type": "code",
      "metadata": {
        "colab": {
          "base_uri": "https://localhost:8080/"
        },
        "id": "genuine-bolivia",
        "outputId": "c861fc72-e64e-4266-870c-69fbc422bc64"
      },
      "source": [
        "sample = w2v[\"حسن\"]\n",
        "print(sample.shape)\n",
        "print(w2v.most_similar(\"حسن\"))"
      ],
      "id": "genuine-bolivia",
      "execution_count": null,
      "outputs": [
        {
          "output_type": "stream",
          "text": [
            "(300,)\n",
            "[('،حسن', 0.6795670390129089), ('أبوحسن', 0.6792263388633728), ('#حسن', 0.6771581172943115), ('وحسن', 0.6517007946968079), ('لحسن', 0.6505534648895264), ('\\u200fحسن', 0.6446623206138611), ('كحسن', 0.6202388405799866), ('عبدالحسن', 0.6161733865737915), ('بوحسن', 0.6157495975494385), ('د/حسن', 0.6062546968460083)]\n"
          ],
          "name": "stdout"
        }
      ]
    },
    {
      "cell_type": "code",
      "metadata": {
        "id": "superb-bracket"
      },
      "source": [
        "import pandas as pd\n",
        "import numpy as np\n",
        "import tensorflow as tf"
      ],
      "id": "superb-bracket",
      "execution_count": null,
      "outputs": []
    },
    {
      "cell_type": "code",
      "metadata": {
        "colab": {
          "base_uri": "https://localhost:8080/",
          "height": 204
        },
        "id": "sunset-poverty",
        "outputId": "48a8961c-3e61-4c25-f2ad-5a33711d05b1"
      },
      "source": [
        "df = pd.read_csv('text.csv')\n",
        "df.head()"
      ],
      "id": "sunset-poverty",
      "execution_count": null,
      "outputs": [
        {
          "output_type": "execute_result",
          "data": {
            "text/html": [
              "<div>\n",
              "<style scoped>\n",
              "    .dataframe tbody tr th:only-of-type {\n",
              "        vertical-align: middle;\n",
              "    }\n",
              "\n",
              "    .dataframe tbody tr th {\n",
              "        vertical-align: top;\n",
              "    }\n",
              "\n",
              "    .dataframe thead th {\n",
              "        text-align: right;\n",
              "    }\n",
              "</style>\n",
              "<table border=\"1\" class=\"dataframe\">\n",
              "  <thead>\n",
              "    <tr style=\"text-align: right;\">\n",
              "      <th></th>\n",
              "      <th>Tweet_id</th>\n",
              "      <th>Text</th>\n",
              "      <th>sentiment</th>\n",
              "    </tr>\n",
              "  </thead>\n",
              "  <tbody>\n",
              "    <tr>\n",
              "      <th>0</th>\n",
              "      <td>1221875106206638080</td>\n",
              "      <td>@nas_alharbi8 والله حسب الأرقام سيكون مخيب للآ...</td>\n",
              "      <td>Positive</td>\n",
              "    </tr>\n",
              "    <tr>\n",
              "      <th>1</th>\n",
              "      <td>1221884257490042887</td>\n",
              "      <td>\"الزعل بيغير ملامحك ، بيغير نظرة العين ، بيغير...</td>\n",
              "      <td>Neutral</td>\n",
              "    </tr>\n",
              "    <tr>\n",
              "      <th>2</th>\n",
              "      <td>1226422627436310528</td>\n",
              "      <td>الحب الحقيقي هو اقتسام بعض نفسك مع شخص أخر أقر...</td>\n",
              "      <td>Positive</td>\n",
              "    </tr>\n",
              "    <tr>\n",
              "      <th>3</th>\n",
              "      <td>1221880820815798277</td>\n",
              "      <td>@Mo_Fat7 النهضة في فتيل 😂</td>\n",
              "      <td>Positive</td>\n",
              "    </tr>\n",
              "    <tr>\n",
              "      <th>4</th>\n",
              "      <td>1221884400377499651</td>\n",
              "      <td>@halgawi @DmfMohe ليس حباً في ايران بقدر ماهو ...</td>\n",
              "      <td>Neutral</td>\n",
              "    </tr>\n",
              "  </tbody>\n",
              "</table>\n",
              "</div>"
            ],
            "text/plain": [
              "              Tweet_id  ... sentiment\n",
              "0  1221875106206638080  ...  Positive\n",
              "1  1221884257490042887  ...   Neutral\n",
              "2  1226422627436310528  ...  Positive\n",
              "3  1221880820815798277  ...  Positive\n",
              "4  1221884400377499651  ...   Neutral\n",
              "\n",
              "[5 rows x 3 columns]"
            ]
          },
          "metadata": {
            "tags": []
          },
          "execution_count": 111
        }
      ]
    },
    {
      "cell_type": "code",
      "metadata": {
        "colab": {
          "base_uri": "https://localhost:8080/",
          "height": 204
        },
        "id": "empirical-wrapping",
        "outputId": "fa27b033-3fcc-4083-9d6a-bfb77d3b118f"
      },
      "source": [
        "conditions = [\r\n",
        "    (df['sentiment'] == 'Positive'),\r\n",
        "    (df['sentiment'] == 'Negative'),\r\n",
        "    (df['sentiment'] == 'Neutral'),\r\n",
        "    ]\r\n",
        "values = [0, 1, 2]\r\n",
        "classes = [\"Positive\", \"Negative\", \"Neutral\"]\r\n",
        "df['sentiment_classes'] = np.select(conditions, values)\r\n",
        "df.head()"
      ],
      "id": "empirical-wrapping",
      "execution_count": null,
      "outputs": [
        {
          "output_type": "execute_result",
          "data": {
            "text/html": [
              "<div>\n",
              "<style scoped>\n",
              "    .dataframe tbody tr th:only-of-type {\n",
              "        vertical-align: middle;\n",
              "    }\n",
              "\n",
              "    .dataframe tbody tr th {\n",
              "        vertical-align: top;\n",
              "    }\n",
              "\n",
              "    .dataframe thead th {\n",
              "        text-align: right;\n",
              "    }\n",
              "</style>\n",
              "<table border=\"1\" class=\"dataframe\">\n",
              "  <thead>\n",
              "    <tr style=\"text-align: right;\">\n",
              "      <th></th>\n",
              "      <th>Tweet_id</th>\n",
              "      <th>Text</th>\n",
              "      <th>sentiment</th>\n",
              "      <th>sentiment_classes</th>\n",
              "    </tr>\n",
              "  </thead>\n",
              "  <tbody>\n",
              "    <tr>\n",
              "      <th>0</th>\n",
              "      <td>1221875106206638080</td>\n",
              "      <td>@nas_alharbi8 والله حسب الأرقام سيكون مخيب للآ...</td>\n",
              "      <td>Positive</td>\n",
              "      <td>0</td>\n",
              "    </tr>\n",
              "    <tr>\n",
              "      <th>1</th>\n",
              "      <td>1221884257490042887</td>\n",
              "      <td>\"الزعل بيغير ملامحك ، بيغير نظرة العين ، بيغير...</td>\n",
              "      <td>Neutral</td>\n",
              "      <td>2</td>\n",
              "    </tr>\n",
              "    <tr>\n",
              "      <th>2</th>\n",
              "      <td>1226422627436310528</td>\n",
              "      <td>الحب الحقيقي هو اقتسام بعض نفسك مع شخص أخر أقر...</td>\n",
              "      <td>Positive</td>\n",
              "      <td>0</td>\n",
              "    </tr>\n",
              "    <tr>\n",
              "      <th>3</th>\n",
              "      <td>1221880820815798277</td>\n",
              "      <td>@Mo_Fat7 النهضة في فتيل 😂</td>\n",
              "      <td>Positive</td>\n",
              "      <td>0</td>\n",
              "    </tr>\n",
              "    <tr>\n",
              "      <th>4</th>\n",
              "      <td>1221884400377499651</td>\n",
              "      <td>@halgawi @DmfMohe ليس حباً في ايران بقدر ماهو ...</td>\n",
              "      <td>Neutral</td>\n",
              "      <td>2</td>\n",
              "    </tr>\n",
              "  </tbody>\n",
              "</table>\n",
              "</div>"
            ],
            "text/plain": [
              "              Tweet_id  ... sentiment_classes\n",
              "0  1221875106206638080  ...                 0\n",
              "1  1221884257490042887  ...                 2\n",
              "2  1226422627436310528  ...                 0\n",
              "3  1221880820815798277  ...                 0\n",
              "4  1221884400377499651  ...                 2\n",
              "\n",
              "[5 rows x 4 columns]"
            ]
          },
          "metadata": {
            "tags": []
          },
          "execution_count": 112
        }
      ]
    },
    {
      "cell_type": "code",
      "metadata": {
        "colab": {
          "base_uri": "https://localhost:8080/",
          "height": 204
        },
        "id": "WdnXkzRh2uAs",
        "outputId": "67d54c8f-6a57-416c-f2e9-92816703d8e1"
      },
      "source": [
        "df.drop('Tweet_id',1,inplace= True)\r\n",
        "df.drop('sentiment',1,inplace= True)\r\n",
        "df.head()"
      ],
      "id": "WdnXkzRh2uAs",
      "execution_count": null,
      "outputs": [
        {
          "output_type": "execute_result",
          "data": {
            "text/html": [
              "<div>\n",
              "<style scoped>\n",
              "    .dataframe tbody tr th:only-of-type {\n",
              "        vertical-align: middle;\n",
              "    }\n",
              "\n",
              "    .dataframe tbody tr th {\n",
              "        vertical-align: top;\n",
              "    }\n",
              "\n",
              "    .dataframe thead th {\n",
              "        text-align: right;\n",
              "    }\n",
              "</style>\n",
              "<table border=\"1\" class=\"dataframe\">\n",
              "  <thead>\n",
              "    <tr style=\"text-align: right;\">\n",
              "      <th></th>\n",
              "      <th>Text</th>\n",
              "      <th>sentiment_classes</th>\n",
              "    </tr>\n",
              "  </thead>\n",
              "  <tbody>\n",
              "    <tr>\n",
              "      <th>0</th>\n",
              "      <td>@nas_alharbi8 والله حسب الأرقام سيكون مخيب للآ...</td>\n",
              "      <td>0</td>\n",
              "    </tr>\n",
              "    <tr>\n",
              "      <th>1</th>\n",
              "      <td>\"الزعل بيغير ملامحك ، بيغير نظرة العين ، بيغير...</td>\n",
              "      <td>2</td>\n",
              "    </tr>\n",
              "    <tr>\n",
              "      <th>2</th>\n",
              "      <td>الحب الحقيقي هو اقتسام بعض نفسك مع شخص أخر أقر...</td>\n",
              "      <td>0</td>\n",
              "    </tr>\n",
              "    <tr>\n",
              "      <th>3</th>\n",
              "      <td>@Mo_Fat7 النهضة في فتيل 😂</td>\n",
              "      <td>0</td>\n",
              "    </tr>\n",
              "    <tr>\n",
              "      <th>4</th>\n",
              "      <td>@halgawi @DmfMohe ليس حباً في ايران بقدر ماهو ...</td>\n",
              "      <td>2</td>\n",
              "    </tr>\n",
              "  </tbody>\n",
              "</table>\n",
              "</div>"
            ],
            "text/plain": [
              "                                                Text  sentiment_classes\n",
              "0  @nas_alharbi8 والله حسب الأرقام سيكون مخيب للآ...                  0\n",
              "1  \"الزعل بيغير ملامحك ، بيغير نظرة العين ، بيغير...                  2\n",
              "2  الحب الحقيقي هو اقتسام بعض نفسك مع شخص أخر أقر...                  0\n",
              "3                          @Mo_Fat7 النهضة في فتيل 😂                  0\n",
              "4  @halgawi @DmfMohe ليس حباً في ايران بقدر ماهو ...                  2"
            ]
          },
          "metadata": {
            "tags": []
          },
          "execution_count": 113
        }
      ]
    },
    {
      "cell_type": "code",
      "metadata": {
        "id": "under-relationship"
      },
      "source": [
        "texts = list(df.Text)\r\n",
        "labels = list(df.sentiment_classes)"
      ],
      "id": "under-relationship",
      "execution_count": null,
      "outputs": []
    },
    {
      "cell_type": "code",
      "metadata": {
        "colab": {
          "base_uri": "https://localhost:8080/"
        },
        "id": "novel-violin",
        "outputId": "1140bb20-d1e4-43f3-a841-1e396bfce814"
      },
      "source": [
        "print('Found %s texts.' % len(texts))\n",
        "print(texts[0], labels[0])"
      ],
      "id": "novel-violin",
      "execution_count": null,
      "outputs": [
        {
          "output_type": "stream",
          "text": [
            "Found 32761 texts.\n",
            "@nas_alharbi8 والله حسب الأرقام سيكون مخيب للآمال\r\n",
            "ولكن الأهلي قدها برجاله في الملعب 💚🤍 0\n"
          ],
          "name": "stdout"
        }
      ]
    },
    {
      "cell_type": "code",
      "metadata": {
        "id": "FZTvl4p8mILI"
      },
      "source": [
        ""
      ],
      "id": "FZTvl4p8mILI",
      "execution_count": null,
      "outputs": []
    },
    {
      "cell_type": "code",
      "metadata": {
        "id": "neither-investing"
      },
      "source": [
        "from keras.preprocessing.text import Tokenizer\r\n",
        "from keras.preprocessing.sequence import pad_sequences\r\n",
        "from keras.utils import to_categorical"
      ],
      "id": "neither-investing",
      "execution_count": null,
      "outputs": []
    },
    {
      "cell_type": "code",
      "metadata": {
        "colab": {
          "base_uri": "https://localhost:8080/"
        },
        "id": "devoted-pitch",
        "outputId": "c1c7bea3-5cc3-42a2-c2f7-ebbfdf57dfd5"
      },
      "source": [
        "MAX_NUM_WORDS = 200\n",
        "\n",
        "# finally, vectorize the text samples into a 2D integer tensor\n",
        "tokenizer = Tokenizer(num_words=MAX_NUM_WORDS)\n",
        "tokenizer.fit_on_texts(texts)\n",
        "sequences = tokenizer.texts_to_sequences(texts)\n",
        "\n",
        "print(\"sequence***\", len(sequences[0]), sequences[0])\n",
        "word_index = tokenizer.word_index\n",
        "\n",
        "print('Found %s unique tokens.' % len(word_index))\n",
        "\n",
        "MAX_SEQUENCE_LENGTH = 1000\n",
        "\n",
        "data = pad_sequences(sequences, maxlen=MAX_SEQUENCE_LENGTH)\n",
        "\n",
        "labels = to_categorical(np.asarray(labels))\n",
        "print('Shape of data tensor:', data.shape)\n",
        "print('Shape of label tensor:', labels.shape)"
      ],
      "id": "devoted-pitch",
      "execution_count": null,
      "outputs": [
        {
          "output_type": "stream",
          "text": [
            "sequence*** 2 [45, 2]\n",
            "Found 101363 unique tokens.\n",
            "Shape of data tensor: (32761, 1000)\n",
            "Shape of label tensor: (32761, 3)\n"
          ],
          "name": "stdout"
        }
      ]
    },
    {
      "cell_type": "code",
      "metadata": {
        "id": "modular-scotland"
      },
      "source": [
        "from sklearn.model_selection import train_test_split\n",
        "x_train, x_val, y_train, y_val = train_test_split(data, labels, test_size=0.2, random_state=42)\n",
        "x_test, x_val, y_test, y_val = train_test_split(data, labels, test_size=0.5, random_state=42)"
      ],
      "id": "modular-scotland",
      "execution_count": null,
      "outputs": []
    },
    {
      "cell_type": "code",
      "metadata": {
        "colab": {
          "base_uri": "https://localhost:8080/"
        },
        "id": "occupied-contemporary",
        "outputId": "14091baa-e84c-4a6d-961c-ba86665e12de"
      },
      "source": [
        "EMBEDDING_DIM = 300\n",
        "\n",
        "print('Preparing embedding matrix.')\n",
        "\n",
        "# prepare embedding matrix\n",
        "num_words = min(MAX_NUM_WORDS, len(word_index) + 1)\n",
        "embedding_matrix = np.zeros((num_words, EMBEDDING_DIM))\n",
        "for word, i in word_index.items():\n",
        "    if i >= MAX_NUM_WORDS:\n",
        "        continue\n",
        "    if word in w2v.vocab:\n",
        "        embedding_vector = w2v[word]\n",
        "        embedding_vector = np.array(embedding_vector)\n",
        "        if embedding_vector is not None:\n",
        "          # words not found in embedding index will be all-zeros.\n",
        "            embedding_matrix[i] = embedding_vector\n",
        "print(embedding_matrix.shape)"
      ],
      "id": "occupied-contemporary",
      "execution_count": null,
      "outputs": [
        {
          "output_type": "stream",
          "text": [
            "Preparing embedding matrix.\n",
            "(200, 300)\n"
          ],
          "name": "stdout"
        }
      ]
    },
    {
      "cell_type": "code",
      "metadata": {
        "id": "mIGn1J178RLP"
      },
      "source": [
        "from keras.models import Sequential\r\n",
        "from keras.layers import Dense, Embedding, Bidirectional, LSTM\r\n",
        "from keras.layers import Flatten\r\n",
        "from keras.initializers import Constant"
      ],
      "id": "mIGn1J178RLP",
      "execution_count": null,
      "outputs": []
    },
    {
      "cell_type": "code",
      "metadata": {
        "colab": {
          "base_uri": "https://localhost:8080/"
        },
        "id": "sound-briefs",
        "outputId": "abb43984-9ff8-4601-c00d-21b96000ad9b"
      },
      "source": [
        "print('Training model.')\n",
        "\n",
        "# define the model\n",
        "model = Sequential()\n",
        "model.add(Embedding(num_words,\n",
        "                            EMBEDDING_DIM,\n",
        "                            embeddings_initializer=Constant(embedding_matrix),\n",
        "                            input_length=MAX_SEQUENCE_LENGTH,\n",
        "                            trainable=False))\n",
        "\n",
        "model.add(Flatten())\n",
        "model.add(Dense(512, activation='relu'))\n",
        "model.add(tf.keras.layers.Dropout(0.1))\n",
        "model.add(Dense(256, activation='relu'))\n",
        "model.add(tf.keras.layers.Dropout(0.1))\n",
        "model.add(Dense(128, activation='relu'))\n",
        "model.add(tf.keras.layers.Dropout(0.1))\n",
        "model.add(Dense(3, activation='softmax'))\n"
      ],
      "id": "sound-briefs",
      "execution_count": null,
      "outputs": [
        {
          "output_type": "stream",
          "text": [
            "Training model.\n"
          ],
          "name": "stdout"
        }
      ]
    },
    {
      "cell_type": "code",
      "metadata": {
        "id": "mi-I8xFz5Qc5"
      },
      "source": [
        "# compile the model\r\n",
        "model.compile(loss='categorical_crossentropy',\r\n",
        "              optimizer='rmsprop',\r\n",
        "              metrics=['acc'])"
      ],
      "id": "mi-I8xFz5Qc5",
      "execution_count": null,
      "outputs": []
    },
    {
      "cell_type": "code",
      "metadata": {
        "colab": {
          "base_uri": "https://localhost:8080/"
        },
        "id": "KL_BESHz7mU6",
        "outputId": "77db2005-04eb-47ee-931f-6a19eea09f47"
      },
      "source": [
        "# summarize the model\r\n",
        "model.summary()"
      ],
      "id": "KL_BESHz7mU6",
      "execution_count": null,
      "outputs": [
        {
          "output_type": "stream",
          "text": [
            "Model: \"sequential_5\"\n",
            "_________________________________________________________________\n",
            "Layer (type)                 Output Shape              Param #   \n",
            "=================================================================\n",
            "embedding_3 (Embedding)      (None, 1000, 300)         60000     \n",
            "_________________________________________________________________\n",
            "flatten_1 (Flatten)          (None, 300000)            0         \n",
            "_________________________________________________________________\n",
            "dense_8 (Dense)              (None, 512)               153600512 \n",
            "_________________________________________________________________\n",
            "dropout_5 (Dropout)          (None, 512)               0         \n",
            "_________________________________________________________________\n",
            "dense_9 (Dense)              (None, 256)               131328    \n",
            "_________________________________________________________________\n",
            "dropout_6 (Dropout)          (None, 256)               0         \n",
            "_________________________________________________________________\n",
            "dense_10 (Dense)             (None, 128)               32896     \n",
            "_________________________________________________________________\n",
            "dropout_7 (Dropout)          (None, 128)               0         \n",
            "_________________________________________________________________\n",
            "dense_11 (Dense)             (None, 3)                 387       \n",
            "=================================================================\n",
            "Total params: 153,825,123\n",
            "Trainable params: 153,765,123\n",
            "Non-trainable params: 60,000\n",
            "_________________________________________________________________\n"
          ],
          "name": "stdout"
        }
      ]
    },
    {
      "cell_type": "code",
      "metadata": {
        "colab": {
          "base_uri": "https://localhost:8080/"
        },
        "id": "How8Z_t35QgD",
        "outputId": "ce8b0c65-164c-4a84-f272-897d1825c54c"
      },
      "source": [
        "history = model.fit(x_train, y_train,\r\n",
        "          batch_size=512,\r\n",
        "          epochs=30,\r\n",
        "          validation_data=(x_val, y_val))"
      ],
      "id": "How8Z_t35QgD",
      "execution_count": null,
      "outputs": [
        {
          "output_type": "stream",
          "text": [
            "Epoch 1/30\n",
            "52/52 [==============================] - 18s 346ms/step - loss: 0.8715 - acc: 0.6771 - val_loss: 0.7154 - val_acc: 0.6992\n",
            "Epoch 2/30\n",
            "52/52 [==============================] - 18s 348ms/step - loss: 0.7015 - acc: 0.7055 - val_loss: 0.6852 - val_acc: 0.7048\n",
            "Epoch 3/30\n",
            "52/52 [==============================] - 18s 352ms/step - loss: 0.6826 - acc: 0.7050 - val_loss: 0.6705 - val_acc: 0.7150\n",
            "Epoch 4/30\n",
            "52/52 [==============================] - 18s 349ms/step - loss: 0.6475 - acc: 0.7237 - val_loss: 0.6611 - val_acc: 0.7134\n",
            "Epoch 5/30\n",
            "52/52 [==============================] - 18s 347ms/step - loss: 0.6118 - acc: 0.7378 - val_loss: 0.6369 - val_acc: 0.7338\n",
            "Epoch 6/30\n",
            "52/52 [==============================] - 18s 346ms/step - loss: 0.5699 - acc: 0.7565 - val_loss: 0.6320 - val_acc: 0.7410\n",
            "Epoch 7/30\n",
            "52/52 [==============================] - 18s 344ms/step - loss: 0.5359 - acc: 0.7693 - val_loss: 0.6189 - val_acc: 0.7548\n",
            "Epoch 8/30\n",
            "52/52 [==============================] - 18s 345ms/step - loss: 0.4939 - acc: 0.7909 - val_loss: 0.6391 - val_acc: 0.7506\n",
            "Epoch 9/30\n",
            "52/52 [==============================] - 18s 347ms/step - loss: 0.4437 - acc: 0.8120 - val_loss: 0.6057 - val_acc: 0.7764\n",
            "Epoch 10/30\n",
            "52/52 [==============================] - 18s 348ms/step - loss: 0.4176 - acc: 0.8241 - val_loss: 0.6430 - val_acc: 0.7623\n",
            "Epoch 11/30\n",
            "52/52 [==============================] - 18s 345ms/step - loss: 0.3817 - acc: 0.8403 - val_loss: 0.6439 - val_acc: 0.7826\n",
            "Epoch 12/30\n",
            "52/52 [==============================] - 18s 345ms/step - loss: 0.3539 - acc: 0.8526 - val_loss: 0.7284 - val_acc: 0.7865\n",
            "Epoch 13/30\n",
            "52/52 [==============================] - 18s 345ms/step - loss: 0.3333 - acc: 0.8605 - val_loss: 0.6887 - val_acc: 0.7876\n",
            "Epoch 14/30\n",
            "52/52 [==============================] - 18s 345ms/step - loss: 0.3189 - acc: 0.8651 - val_loss: 0.7308 - val_acc: 0.7826\n",
            "Epoch 15/30\n",
            "52/52 [==============================] - 18s 345ms/step - loss: 0.3074 - acc: 0.8688 - val_loss: 0.7604 - val_acc: 0.7936\n",
            "Epoch 16/30\n",
            "52/52 [==============================] - 18s 344ms/step - loss: 0.2868 - acc: 0.8783 - val_loss: 0.7583 - val_acc: 0.8034\n",
            "Epoch 17/30\n",
            "52/52 [==============================] - 18s 346ms/step - loss: 0.2789 - acc: 0.8800 - val_loss: 0.8411 - val_acc: 0.8025\n",
            "Epoch 18/30\n",
            "52/52 [==============================] - 18s 346ms/step - loss: 0.2632 - acc: 0.8892 - val_loss: 0.8070 - val_acc: 0.8006\n",
            "Epoch 19/30\n",
            "52/52 [==============================] - 18s 344ms/step - loss: 0.2585 - acc: 0.8899 - val_loss: 0.8715 - val_acc: 0.8025\n",
            "Epoch 20/30\n",
            "52/52 [==============================] - 18s 344ms/step - loss: 0.2532 - acc: 0.8920 - val_loss: 0.8625 - val_acc: 0.8022\n",
            "Epoch 21/30\n",
            "52/52 [==============================] - 18s 345ms/step - loss: 0.2407 - acc: 0.8931 - val_loss: 0.9079 - val_acc: 0.8119\n",
            "Epoch 22/30\n",
            "52/52 [==============================] - 18s 345ms/step - loss: 0.2376 - acc: 0.8976 - val_loss: 0.9184 - val_acc: 0.8059\n",
            "Epoch 23/30\n",
            "52/52 [==============================] - 18s 346ms/step - loss: 0.2340 - acc: 0.8992 - val_loss: 0.9509 - val_acc: 0.8108\n",
            "Epoch 24/30\n",
            "52/52 [==============================] - 18s 345ms/step - loss: 0.2252 - acc: 0.9029 - val_loss: 0.8525 - val_acc: 0.8103\n",
            "Epoch 25/30\n",
            "52/52 [==============================] - 18s 346ms/step - loss: 0.2216 - acc: 0.9062 - val_loss: 0.9730 - val_acc: 0.8151\n",
            "Epoch 26/30\n",
            "52/52 [==============================] - 18s 344ms/step - loss: 0.2141 - acc: 0.9077 - val_loss: 1.0038 - val_acc: 0.8084\n",
            "Epoch 27/30\n",
            "52/52 [==============================] - 18s 345ms/step - loss: 0.2196 - acc: 0.9054 - val_loss: 1.0335 - val_acc: 0.8132\n",
            "Epoch 28/30\n",
            "52/52 [==============================] - 18s 346ms/step - loss: 0.2167 - acc: 0.9057 - val_loss: 1.1040 - val_acc: 0.8075\n",
            "Epoch 29/30\n",
            "52/52 [==============================] - 18s 346ms/step - loss: 0.2102 - acc: 0.9097 - val_loss: 1.0335 - val_acc: 0.8092\n",
            "Epoch 30/30\n",
            "52/52 [==============================] - 18s 347ms/step - loss: 0.2106 - acc: 0.9105 - val_loss: 0.9961 - val_acc: 0.8164\n"
          ],
          "name": "stdout"
        }
      ]
    },
    {
      "cell_type": "code",
      "metadata": {
        "colab": {
          "base_uri": "https://localhost:8080/"
        },
        "id": "consistent-inquiry",
        "outputId": "a7a5414a-6bba-4a27-e21f-69bc52f03471"
      },
      "source": [
        "loss, accuracy = model.evaluate(x_test, y_test, verbose=1)\n",
        "\n",
        "print('Accuracy: %f' % (accuracy))\n",
        "print('Loss: %f' % (loss))"
      ],
      "id": "consistent-inquiry",
      "execution_count": null,
      "outputs": [
        {
          "output_type": "stream",
          "text": [
            "512/512 [==============================] - 7s 14ms/step - loss: 0.1823 - acc: 0.9195\n",
            "Accuracy: 0.919475\n",
            "Loss: 0.182267\n"
          ],
          "name": "stdout"
        }
      ]
    },
    {
      "cell_type": "code",
      "metadata": {
        "colab": {
          "base_uri": "https://localhost:8080/",
          "height": 856
        },
        "id": "operational-matter",
        "outputId": "50226b5c-f7b9-4c2b-fb7b-5b81f9d690bf"
      },
      "source": [
        "import matplotlib.pyplot as plt\r\n",
        "acc = history.history['acc']\r\n",
        "val_acc = history.history['val_acc']\r\n",
        "\r\n",
        "loss=history.history['loss']\r\n",
        "val_loss=history.history['val_loss']\r\n",
        "\r\n",
        "#epochs_range = range(22)\r\n",
        "\r\n",
        "plt.figure(figsize=(15, 15))\r\n",
        "plt.subplot(1, 2, 1)\r\n",
        "plt.plot(acc, label='Training Accuracy')\r\n",
        "plt.plot(val_acc, label='Validation Accuracy')\r\n",
        "plt.legend(loc='lower right')\r\n",
        "plt.title('Training and Validation Accuracy')\r\n",
        "\r\n",
        "plt.subplot(1, 2, 2)\r\n",
        "plt.plot(loss, label='Training Loss')\r\n",
        "plt.plot(val_loss, label='Validation Loss')\r\n",
        "plt.legend(loc='upper right')\r\n",
        "plt.title('Training and Validation Loss')\r\n",
        "plt.show()"
      ],
      "id": "operational-matter",
      "execution_count": null,
      "outputs": [
        {
          "output_type": "display_data",
          "data": {
            "image/png": "[encoded data removed]",
            "text/plain": [
              "<Figure size 1080x1080 with 2 Axes>"
            ]
          },
          "metadata": {
            "tags": [],
            "needs_background": "light"
          }
        }
      ]
    },
    {
      "cell_type": "code",
      "metadata": {
        "id": "l0hukm3e4C9P"
      },
      "source": [
        "model.save('improved_model.h5')"
      ],
      "id": "l0hukm3e4C9P",
      "execution_count": null,
      "outputs": []
    },
    {
      "cell_type": "code",
      "metadata": {
        "id": "8NHRM3EC5KQp"
      },
      "source": [
        "test_file = pd.read_csv('/content/test1_with_text.csv')\r\n",
        "test_file.head()"
      ],
      "id": "8NHRM3EC5KQp",
      "execution_count": null,
      "outputs": []
    },
    {
      "cell_type": "code",
      "metadata": {
        "colab": {
          "base_uri": "https://localhost:8080/"
        },
        "id": "JUmVaQvpth2D",
        "outputId": "411fbbcd-5326-47a8-d64b-1f7a42ab1022"
      },
      "source": [
        "test_text = list(test_file.Text)\r\n",
        "# finally, vectorize the text samples into a 2D integer tensor\r\n",
        "tokenizer = Tokenizer(num_words=MAX_NUM_WORDS)\r\n",
        "tokenizer.fit_on_texts(test_text)\r\n",
        "sequences = tokenizer.texts_to_sequences(test_text)\r\n",
        "\r\n",
        "print(\"sequence***\", len(sequences[0]), sequences[0])\r\n",
        "word_index = tokenizer.word_index\r\n",
        "\r\n",
        "print('Found %s unique tokens.' % len(word_index))\r\n",
        "\r\n",
        "MAX_SEQUENCE_LENGTH = 1000\r\n",
        "\r\n",
        "data = pad_sequences(sequences, maxlen=MAX_SEQUENCE_LENGTH)\r\n",
        "\r\n",
        "#labels = to_categorical(np.asarray(labels))\r\n",
        "print('Shape of data tensor:', data.shape)\r\n",
        "#print('Shape of label tensor:', labels.shape)"
      ],
      "id": "JUmVaQvpth2D",
      "execution_count": null,
      "outputs": [
        {
          "output_type": "stream",
          "text": [
            "sequence*** 5 [43, 102, 33, 32, 11]\n",
            "Found 67700 unique tokens.\n",
            "Shape of data tensor: (20000, 1000)\n"
          ],
          "name": "stdout"
        }
      ]
    },
    {
      "cell_type": "code",
      "metadata": {
        "colab": {
          "base_uri": "https://localhost:8080/"
        },
        "id": "uc0p8Tsmth-q",
        "outputId": "d29114c0-1df6-4136-87e2-f2902ce3663b"
      },
      "source": [
        "predictions = np.argmax(model.predict(data), axis=1)\r\n",
        "predictions[0]"
      ],
      "id": "uc0p8Tsmth-q",
      "execution_count": null,
      "outputs": [
        {
          "output_type": "execute_result",
          "data": {
            "text/plain": [
              "1"
            ]
          },
          "metadata": {
            "tags": []
          },
          "execution_count": 171
        }
      ]
    },
    {
      "cell_type": "code",
      "metadata": {
        "id": "zM-i0DiI7ku8"
      },
      "source": [
        "lp = list(predictions)\r\n",
        "dframe=pd.DataFrame({'col1':lp})\r\n",
        "dframe['Sentiment'] = 'NAN'\r\n",
        "dframe.loc[(dframe['col1'] == 0), 'Sentiment'] = 'Positive'\r\n",
        "dframe.loc[(dframe['col1'] == 1), 'Sentiment'] = 'Negative'\r\n",
        "dframe.loc[(dframe['col1'] == 2), 'Sentiment'] = 'Neutral'\r\n",
        "dframe = pd.concat([test_file, dframe], axis=1)\r\n",
        "dframe.drop('col1',1,inplace=True)\r\n",
        "dframe.to_csv('/content/test_file_prediction.csv', index=False)"
      ],
      "id": "zM-i0DiI7ku8",
      "execution_count": null,
      "outputs": []
    },
    {
      "cell_type": "code",
      "metadata": {
        "colab": {
          "base_uri": "https://localhost:8080/",
          "height": 204
        },
        "id": "AQTJ5HVK9PZX",
        "outputId": "3a846446-62a2-40e8-92a3-bd0dd233777a"
      },
      "source": [
        "dt = pd.read_csv('test_file_prediction.csv')\r\n",
        "dt.head()"
      ],
      "id": "AQTJ5HVK9PZX",
      "execution_count": null,
      "outputs": [
        {
          "output_type": "execute_result",
          "data": {
            "text/html": [
              "<div>\n",
              "<style scoped>\n",
              "    .dataframe tbody tr th:only-of-type {\n",
              "        vertical-align: middle;\n",
              "    }\n",
              "\n",
              "    .dataframe tbody tr th {\n",
              "        vertical-align: top;\n",
              "    }\n",
              "\n",
              "    .dataframe thead th {\n",
              "        text-align: right;\n",
              "    }\n",
              "</style>\n",
              "<table border=\"1\" class=\"dataframe\">\n",
              "  <thead>\n",
              "    <tr style=\"text-align: right;\">\n",
              "      <th></th>\n",
              "      <th>Tweet_id</th>\n",
              "      <th>Text</th>\n",
              "      <th>Sentiment</th>\n",
              "    </tr>\n",
              "  </thead>\n",
              "  <tbody>\n",
              "    <tr>\n",
              "      <th>0</th>\n",
              "      <td>1251608623798722560</td>\n",
              "      <td>@kamnapp @bip_ksa @nazaha_gov_sa @MCgovSA شوفو...</td>\n",
              "      <td>Negative</td>\n",
              "    </tr>\n",
              "    <tr>\n",
              "      <th>1</th>\n",
              "      <td>1221535162539872256</td>\n",
              "      <td>\\ربما الموت يقترب مني وانا لا اشعر به لطفك يا ...</td>\n",
              "      <td>Neutral</td>\n",
              "    </tr>\n",
              "    <tr>\n",
              "      <th>2</th>\n",
              "      <td>1252203833385779200</td>\n",
              "      <td>@mhrsd_care السلام عليكم\\r\\nلوسمحت تحديث ملف ا...</td>\n",
              "      <td>Neutral</td>\n",
              "    </tr>\n",
              "    <tr>\n",
              "      <th>3</th>\n",
              "      <td>1221884276636938240</td>\n",
              "      <td>”لقد نام تاركاً حلمهُ في ودائع الله فأيقظهُ ال...</td>\n",
              "      <td>Neutral</td>\n",
              "    </tr>\n",
              "    <tr>\n",
              "      <th>4</th>\n",
              "      <td>1252686719461273602</td>\n",
              "      <td>@nahdihope \\r\\nطالبه طلبيه منكم من امس ولحد ال...</td>\n",
              "      <td>Neutral</td>\n",
              "    </tr>\n",
              "  </tbody>\n",
              "</table>\n",
              "</div>"
            ],
            "text/plain": [
              "              Tweet_id  ... Sentiment\n",
              "0  1251608623798722560  ...  Negative\n",
              "1  1221535162539872256  ...   Neutral\n",
              "2  1252203833385779200  ...   Neutral\n",
              "3  1221884276636938240  ...   Neutral\n",
              "4  1252686719461273602  ...   Neutral\n",
              "\n",
              "[5 rows x 3 columns]"
            ]
          },
          "metadata": {
            "tags": []
          },
          "execution_count": 177
        }
      ]
    },
    {
      "cell_type": "code",
      "metadata": {
        "id": "Z4NRSB0p-Z1u"
      },
      "source": [
        ""
      ],
      "id": "Z4NRSB0p-Z1u",
      "execution_count": null,
      "outputs": []
    },
    {
      "cell_type": "code",
      "metadata": {
        "id": "-X4lW_y2-bjb"
      },
      "source": [
        ""
      ],
      "id": "-X4lW_y2-bjb",
      "execution_count": null,
      "outputs": []
    },
    {
      "cell_type": "code",
      "metadata": {
        "id": "19-6RXwy_g-x"
      },
      "source": [
        ""
      ],
      "id": "19-6RXwy_g-x",
      "execution_count": null,
      "outputs": []
    }
  ]
}