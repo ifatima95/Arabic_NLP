{
  "nbformat": 4,
  "nbformat_minor": 0,
  "metadata": {
    "anaconda-cloud": {},
    "kernelspec": {
      "display_name": "Python 3",
      "language": "python",
      "name": "python3"
    },
    "language_info": {
      "codemirror_mode": {
        "name": "ipython",
        "version": 3
      },
      "file_extension": ".py",
      "mimetype": "text/x-python",
      "name": "python",
      "nbconvert_exporter": "python",
      "pygments_lexer": "ipython3",
      "version": "3.6.3"
    },
    "colab": {
      "name": "Topic-modelling-Arabic.ipynb",
      "provenance": []
    }
  },
  "cells": [
    {
      "cell_type": "code",
      "metadata": {
        "_cell_guid": "5a7c334d-3afa-4508-874f-3366da0a9c2c",
        "_uuid": "1139f2793448fc6a647e9a0c8e8679963d9f206d",
        "collapsed": true,
        "id": "Uk67kXhnERf_"
      },
      "source": [
        "#https://www.kaggle.com/errearanhas/topic-modelling-lda-on-elon-tweets/notebook\n",
        "import os\n",
        "import numpy as np \n",
        "#from plotly.offline import download_plotlyjs, init_notebook_mode, plot, iplot\n",
        "import plotly as py\n",
        "import plotly.graph_objs as go\n",
        "\n",
        "#init_notebook_mode(connected=True) #do not miss this line\n",
        "\n",
        "from gensim import corpora, models, similarities\n",
        "\n",
        "import warnings\n",
        "warnings.filterwarnings(\"ignore\")"
      ],
      "execution_count": 1,
      "outputs": []
    },
    {
      "cell_type": "code",
      "metadata": {
        "_cell_guid": "7cdec987-42d7-495d-8aed-d904f430707a",
        "_uuid": "2ab794b9bdd2400c1eb349493361f325fef51eee",
        "collapsed": true,
        "id": "Tbb4gK1LERgE"
      },
      "source": [
        "#datafile = 'Bahrain_tweets_cleaned.csv'\n",
        "datafile = '/content/Sentiments_and_Topic.csv'"
      ],
      "execution_count": 2,
      "outputs": []
    },
    {
      "cell_type": "code",
      "metadata": {
        "_cell_guid": "52abb44e-881a-4fa5-aaad-cca178c148b4",
        "_uuid": "3247c5f08df034b7afe4be36e52a99baa625a5ba",
        "id": "PNlDaONDERgF",
        "outputId": "ba333cae-a2ef-43be-e889-0e4e7597ab2d",
        "colab": {
          "base_uri": "https://localhost:8080/",
          "height": 362
        }
      },
      "source": [
        "import pandas as pd\n",
        "tweets = pd.read_csv(datafile)\n",
        "tweets.head(10)"
      ],
      "execution_count": 3,
      "outputs": [
        {
          "output_type": "execute_result",
          "data": {
            "text/html": [
              "<div>\n",
              "<style scoped>\n",
              "    .dataframe tbody tr th:only-of-type {\n",
              "        vertical-align: middle;\n",
              "    }\n",
              "\n",
              "    .dataframe tbody tr th {\n",
              "        vertical-align: top;\n",
              "    }\n",
              "\n",
              "    .dataframe thead th {\n",
              "        text-align: right;\n",
              "    }\n",
              "</style>\n",
              "<table border=\"1\" class=\"dataframe\">\n",
              "  <thead>\n",
              "    <tr style=\"text-align: right;\">\n",
              "      <th></th>\n",
              "      <th>Tweet_id</th>\n",
              "      <th>Text</th>\n",
              "      <th>sentiment(Target)</th>\n",
              "      <th>Topic (Target)</th>\n",
              "      <th>sentiment (Predicted)</th>\n",
              "      <th>Topic (Predicted)</th>\n",
              "    </tr>\n",
              "  </thead>\n",
              "  <tbody>\n",
              "    <tr>\n",
              "      <th>0</th>\n",
              "      <td>1221875106206638080</td>\n",
              "      <td>@nas_alharbi8 والله حسب الأرقام سيكون مخيب للآ...</td>\n",
              "      <td>Positive</td>\n",
              "      <td>politics</td>\n",
              "      <td>Positive</td>\n",
              "      <td>Politics</td>\n",
              "    </tr>\n",
              "    <tr>\n",
              "      <th>1</th>\n",
              "      <td>1221884257490042887</td>\n",
              "      <td>\"الزعل بيغير ملامحك ، بيغير نظرة العين ، بيغير...</td>\n",
              "      <td>Neutral</td>\n",
              "      <td>Health</td>\n",
              "      <td>Neutral</td>\n",
              "      <td>Politics</td>\n",
              "    </tr>\n",
              "    <tr>\n",
              "      <th>2</th>\n",
              "      <td>1226422627436310528</td>\n",
              "      <td>الحب الحقيقي هو اقتسام بعض نفسك مع شخص أخر أقر...</td>\n",
              "      <td>Positive</td>\n",
              "      <td>Health</td>\n",
              "      <td>Positive</td>\n",
              "      <td>Politics</td>\n",
              "    </tr>\n",
              "    <tr>\n",
              "      <th>3</th>\n",
              "      <td>1221880820815798277</td>\n",
              "      <td>@Mo_Fat7 النهضة في فتيل 😂</td>\n",
              "      <td>Positive</td>\n",
              "      <td>politics</td>\n",
              "      <td>Positive</td>\n",
              "      <td>business-and-economy</td>\n",
              "    </tr>\n",
              "    <tr>\n",
              "      <th>4</th>\n",
              "      <td>1221884400377499651</td>\n",
              "      <td>@halgawi @DmfMohe ليس حباً في ايران بقدر ماهو ...</td>\n",
              "      <td>Neutral</td>\n",
              "      <td>politics</td>\n",
              "      <td>Neutral</td>\n",
              "      <td>Politics</td>\n",
              "    </tr>\n",
              "    <tr>\n",
              "      <th>5</th>\n",
              "      <td>1221881406168731649</td>\n",
              "      <td>@adalfahadduwail أبي أعرف الحاكم العربي المسلم...</td>\n",
              "      <td>Neutral</td>\n",
              "      <td>politics</td>\n",
              "      <td>Neutral</td>\n",
              "      <td>Politics</td>\n",
              "    </tr>\n",
              "    <tr>\n",
              "      <th>6</th>\n",
              "      <td>1221882066561830912</td>\n",
              "      <td>ثقي قلباً وقالباً معاكِ وفخورين فيكِ وين مارحت...</td>\n",
              "      <td>Positive</td>\n",
              "      <td>Health</td>\n",
              "      <td>Positive</td>\n",
              "      <td>Politics</td>\n",
              "    </tr>\n",
              "    <tr>\n",
              "      <th>7</th>\n",
              "      <td>1221882047691657217</td>\n",
              "      <td>@sarmadbouchamou @DimaSadek في الخطاب تبع سليم...</td>\n",
              "      <td>Neutral</td>\n",
              "      <td>politics</td>\n",
              "      <td>Neutral</td>\n",
              "      <td>Politics</td>\n",
              "    </tr>\n",
              "    <tr>\n",
              "      <th>8</th>\n",
              "      <td>1221880371773673474</td>\n",
              "      <td>@FofaMahmouddd مفيش الكلام ده في الزمن</td>\n",
              "      <td>Neutral</td>\n",
              "      <td>Health</td>\n",
              "      <td>Neutral</td>\n",
              "      <td>Politics</td>\n",
              "    </tr>\n",
              "    <tr>\n",
              "      <th>9</th>\n",
              "      <td>1226410076623245313</td>\n",
              "      <td>@elm عندي مشكله لما تبي اجدد إقامة عامل حاولت ...</td>\n",
              "      <td>Neutral</td>\n",
              "      <td>Politics</td>\n",
              "      <td>Neutral</td>\n",
              "      <td>Politics</td>\n",
              "    </tr>\n",
              "  </tbody>\n",
              "</table>\n",
              "</div>"
            ],
            "text/plain": [
              "              Tweet_id  ...     Topic (Predicted)\n",
              "0  1221875106206638080  ...              Politics\n",
              "1  1221884257490042887  ...              Politics\n",
              "2  1226422627436310528  ...              Politics\n",
              "3  1221880820815798277  ...  business-and-economy\n",
              "4  1221884400377499651  ...              Politics\n",
              "5  1221881406168731649  ...              Politics\n",
              "6  1221882066561830912  ...              Politics\n",
              "7  1221882047691657217  ...              Politics\n",
              "8  1221880371773673474  ...              Politics\n",
              "9  1226410076623245313  ...              Politics\n",
              "\n",
              "[10 rows x 6 columns]"
            ]
          },
          "metadata": {},
          "execution_count": 3
        }
      ]
    },
    {
      "cell_type": "code",
      "metadata": {
        "id": "70rvTgNvERgG",
        "outputId": "6ab75337-7077-43fc-ec18-a11d384401ec",
        "colab": {
          "base_uri": "https://localhost:8080/"
        }
      },
      "source": [
        "tweets.info()"
      ],
      "execution_count": 4,
      "outputs": [
        {
          "output_type": "stream",
          "name": "stdout",
          "text": [
            "<class 'pandas.core.frame.DataFrame'>\n",
            "RangeIndex: 32763 entries, 0 to 32762\n",
            "Data columns (total 6 columns):\n",
            " #   Column                 Non-Null Count  Dtype \n",
            "---  ------                 --------------  ----- \n",
            " 0   Tweet_id               32762 non-null  object\n",
            " 1   Text                   32762 non-null  object\n",
            " 2   sentiment(Target)      32761 non-null  object\n",
            " 3   Topic (Target)         32760 non-null  object\n",
            " 4   sentiment (Predicted)  32761 non-null  object\n",
            " 5   Topic (Predicted)      32760 non-null  object\n",
            "dtypes: object(6)\n",
            "memory usage: 1.5+ MB\n"
          ]
        }
      ]
    },
    {
      "cell_type": "code",
      "metadata": {
        "_cell_guid": "fdadead9-8dea-4c34-8bf2-1c4652418f36",
        "_uuid": "a9bbf206e9d8b2b17c15da0df8c67f1365f03dab",
        "scrolled": true,
        "id": "60iqkQdeERgG",
        "outputId": "fbbfb03b-79e1-4e61-ecdd-89735457021e",
        "colab": {
          "base_uri": "https://localhost:8080/"
        }
      },
      "source": [
        "range(len(tweets['Text']))"
      ],
      "execution_count": 6,
      "outputs": [
        {
          "output_type": "execute_result",
          "data": {
            "text/plain": [
              "range(0, 32763)"
            ]
          },
          "metadata": {},
          "execution_count": 6
        }
      ]
    },
    {
      "cell_type": "markdown",
      "metadata": {
        "_cell_guid": "556c0eec-994f-4f72-82af-9da59e590a1b",
        "_uuid": "940eb7b9c8715792165ad73a40400e8c06c7b775",
        "id": "14RKf8FSERgH"
      },
      "source": [
        "***Tweet Activity Over Years***"
      ]
    },
    {
      "cell_type": "code",
      "metadata": {
        "_cell_guid": "b06b4ca0-f1ab-45a1-9550-1492a30c3c74",
        "_uuid": "ffb58f64bee55b852c07d0bc87be430d1258d976",
        "collapsed": true,
        "id": "xcdIT04sERgI"
      },
      "source": [
        "corpus=[]\n",
        "a=[]\n",
        "for i in range(len(tweets['Text'])):\n",
        "        a=tweets['Text'][i]\n",
        "        corpus.append(a)"
      ],
      "execution_count": 7,
      "outputs": []
    },
    {
      "cell_type": "code",
      "metadata": {
        "_cell_guid": "e943c950-1007-46ff-a868-412100b6830f",
        "_uuid": "eeb90a8ffa5442ee9e32a456b227df1f61be706f",
        "id": "9k1QC3_rERgI",
        "outputId": "b93e277c-fbed-4ee8-a1a0-cdffe78affba",
        "colab": {
          "base_uri": "https://localhost:8080/"
        }
      },
      "source": [
        "corpus[0:5]"
      ],
      "execution_count": 8,
      "outputs": [
        {
          "output_type": "execute_result",
          "data": {
            "text/plain": [
              "['@nas_alharbi8 والله حسب الأرقام سيكون مخيب للآمال\\r\\nولكن الأهلي قدها برجاله في الملعب 💚\\U0001f90d',\n",
              " '\"الزعل بيغير ملامحك ، بيغير نظرة العين ، بيغير شكلك في الصور ، الزعل ممكن يطفيك تماما.\"',\n",
              " 'الحب الحقيقي هو اقتسام بعض نفسك مع شخص أخر أقرب إليك من نفسك. - احلام مستغانمي\\r\\n #صباح_الخير',\n",
              " '@Mo_Fat7 النهضة في فتيل 😂',\n",
              " '@halgawi @DmfMohe ليس حباً في ايران بقدر ماهو نكايه بترامب وحزبه']"
            ]
          },
          "metadata": {},
          "execution_count": 8
        }
      ]
    },
    {
      "cell_type": "code",
      "metadata": {
        "_cell_guid": "d117ab5e-3395-4430-8dad-0750a520c313",
        "_uuid": "e6f1dd9faefafd8045c94fc71a033c201c5443ff",
        "id": "IaNFxJbKERgI",
        "outputId": "9b40dfb1-6c3e-4f95-f463-2cba38edb77d",
        "colab": {
          "base_uri": "https://localhost:8080/"
        }
      },
      "source": [
        "import gensim\n",
        "import logging\n",
        "import tempfile\n",
        "\n",
        "TEMP_FOLDER = tempfile.gettempdir()\n",
        "print('Folder \"{}\" will be used to save temporary dictionary and corpus.'.format(TEMP_FOLDER))\n",
        "\n",
        "from gensim import corpora\n",
        "logging.basicConfig(format='%(asctime)s : %(levelname)s : %(message)s', level=logging.INFO)"
      ],
      "execution_count": 9,
      "outputs": [
        {
          "output_type": "stream",
          "name": "stdout",
          "text": [
            "Folder \"/tmp\" will be used to save temporary dictionary and corpus.\n"
          ]
        }
      ]
    },
    {
      "cell_type": "code",
      "metadata": {
        "_cell_guid": "068cfe59-dbc2-4481-a20f-6cd321cbc4bb",
        "_uuid": "df0a72a7a17efcf0da96a51753855ec2039cffb8",
        "collapsed": true,
        "id": "TLu4tPjQERgJ",
        "outputId": "71bb484e-4ba4-4e4d-d7a9-f7aa9a2c777c",
        "colab": {
          "base_uri": "https://localhost:8080/"
        }
      },
      "source": [
        "from nltk.corpus import stopwords\n",
        "from string import punctuation\n",
        "import nltk\n",
        "nltk.download('stopwords')\n",
        "  \n",
        "\n",
        "# remove common words and tokenize\n",
        "list1 = ['RT','rt']\n",
        "stoplist = stopwords.words('english') + list(punctuation) + list1\n",
        "\n",
        "texts = [[word for word in str(document).lower().split() if word not in stoplist] for document in corpus]"
      ],
      "execution_count": 11,
      "outputs": [
        {
          "output_type": "stream",
          "name": "stdout",
          "text": [
            "[nltk_data] Downloading package stopwords to /root/nltk_data...\n",
            "[nltk_data]   Unzipping corpora/stopwords.zip.\n"
          ]
        }
      ]
    },
    {
      "cell_type": "code",
      "metadata": {
        "_cell_guid": "41eea25d-97f6-478c-97bb-8073cecb3101",
        "_uuid": "c9824ceb1efd0895923b23ff8d058a86a43b9c54",
        "id": "XrA7gLPzERgJ",
        "outputId": "335cc3bf-711f-424b-a6bb-cbb465c12b28",
        "colab": {
          "base_uri": "https://localhost:8080/"
        }
      },
      "source": [
        "dictionary = corpora.Dictionary(texts)\n",
        "dictionary.save(os.path.join(TEMP_FOLDER, 'bahrain.dict'))  # store the dictionary, for future reference\n",
        "#print(dictionary)"
      ],
      "execution_count": 12,
      "outputs": [
        {
          "output_type": "stream",
          "name": "stderr",
          "text": [
            "2021-12-01 13:09:57,974 : INFO : adding document #0 to Dictionary(0 unique tokens: [])\n",
            "2021-12-01 13:09:58,237 : INFO : adding document #10000 to Dictionary(48138 unique tokens: ['@nas_alharbi8', 'الأرقام', 'الأهلي', 'الملعب', 'برجاله']...)\n",
            "2021-12-01 13:09:58,512 : INFO : adding document #20000 to Dictionary(78930 unique tokens: ['@nas_alharbi8', 'الأرقام', 'الأهلي', 'الملعب', 'برجاله']...)\n",
            "2021-12-01 13:09:58,814 : INFO : adding document #30000 to Dictionary(101490 unique tokens: ['@nas_alharbi8', 'الأرقام', 'الأهلي', 'الملعب', 'برجاله']...)\n",
            "2021-12-01 13:09:58,897 : INFO : built Dictionary(105572 unique tokens: ['@nas_alharbi8', 'الأرقام', 'الأهلي', 'الملعب', 'برجاله']...) from 32763 documents (total 480714 corpus positions)\n",
            "2021-12-01 13:09:58,899 : INFO : saving Dictionary object under /tmp/bahrain.dict, separately None\n",
            "2021-12-01 13:09:58,958 : INFO : saved /tmp/bahrain.dict\n"
          ]
        }
      ]
    },
    {
      "cell_type": "code",
      "metadata": {
        "_cell_guid": "38f1a502-a6fe-4c3d-b8bf-27c9272c3753",
        "_uuid": "3944206c06ca0af2822f81c3ef0dadf994f5e023",
        "collapsed": true,
        "id": "kUjgBsloERgK"
      },
      "source": [
        "#print(dictionary.token2id)"
      ],
      "execution_count": 13,
      "outputs": []
    },
    {
      "cell_type": "code",
      "metadata": {
        "_cell_guid": "b80d4a62-6126-48e5-aba8-8de557c5d00d",
        "_uuid": "040914ec58061f9f66a39df81c8c1ae4cb9dbeb5",
        "id": "nkVSZocyERgK",
        "outputId": "1aff4cff-a318-480b-f8a3-67a8754368f5",
        "colab": {
          "base_uri": "https://localhost:8080/"
        }
      },
      "source": [
        "corpus = [dictionary.doc2bow(text) for text in texts]\n",
        "corpora.MmCorpus.serialize(os.path.join(TEMP_FOLDER, 'elon.mm'), corpus)  # store to disk, for later use"
      ],
      "execution_count": 14,
      "outputs": [
        {
          "output_type": "stream",
          "name": "stderr",
          "text": [
            "2021-12-01 13:10:04,854 : INFO : storing corpus in Matrix Market format to /tmp/elon.mm\n",
            "2021-12-01 13:10:04,857 : INFO : saving sparse matrix to /tmp/elon.mm\n",
            "2021-12-01 13:10:04,860 : INFO : PROGRESS: saving document #0\n",
            "2021-12-01 13:10:04,884 : INFO : PROGRESS: saving document #1000\n",
            "2021-12-01 13:10:04,908 : INFO : PROGRESS: saving document #2000\n",
            "2021-12-01 13:10:04,936 : INFO : PROGRESS: saving document #3000\n",
            "2021-12-01 13:10:04,960 : INFO : PROGRESS: saving document #4000\n",
            "2021-12-01 13:10:04,984 : INFO : PROGRESS: saving document #5000\n",
            "2021-12-01 13:10:05,009 : INFO : PROGRESS: saving document #6000\n",
            "2021-12-01 13:10:05,035 : INFO : PROGRESS: saving document #7000\n",
            "2021-12-01 13:10:05,072 : INFO : PROGRESS: saving document #8000\n",
            "2021-12-01 13:10:05,106 : INFO : PROGRESS: saving document #9000\n",
            "2021-12-01 13:10:05,136 : INFO : PROGRESS: saving document #10000\n",
            "2021-12-01 13:10:05,163 : INFO : PROGRESS: saving document #11000\n",
            "2021-12-01 13:10:05,193 : INFO : PROGRESS: saving document #12000\n",
            "2021-12-01 13:10:05,229 : INFO : PROGRESS: saving document #13000\n",
            "2021-12-01 13:10:05,258 : INFO : PROGRESS: saving document #14000\n",
            "2021-12-01 13:10:05,285 : INFO : PROGRESS: saving document #15000\n",
            "2021-12-01 13:10:05,314 : INFO : PROGRESS: saving document #16000\n",
            "2021-12-01 13:10:05,351 : INFO : PROGRESS: saving document #17000\n",
            "2021-12-01 13:10:05,378 : INFO : PROGRESS: saving document #18000\n",
            "2021-12-01 13:10:05,406 : INFO : PROGRESS: saving document #19000\n",
            "2021-12-01 13:10:05,433 : INFO : PROGRESS: saving document #20000\n",
            "2021-12-01 13:10:05,460 : INFO : PROGRESS: saving document #21000\n",
            "2021-12-01 13:10:05,487 : INFO : PROGRESS: saving document #22000\n",
            "2021-12-01 13:10:05,519 : INFO : PROGRESS: saving document #23000\n",
            "2021-12-01 13:10:05,548 : INFO : PROGRESS: saving document #24000\n",
            "2021-12-01 13:10:05,577 : INFO : PROGRESS: saving document #25000\n",
            "2021-12-01 13:10:05,608 : INFO : PROGRESS: saving document #26000\n",
            "2021-12-01 13:10:05,637 : INFO : PROGRESS: saving document #27000\n",
            "2021-12-01 13:10:05,667 : INFO : PROGRESS: saving document #28000\n",
            "2021-12-01 13:10:05,694 : INFO : PROGRESS: saving document #29000\n",
            "2021-12-01 13:10:05,722 : INFO : PROGRESS: saving document #30000\n",
            "2021-12-01 13:10:05,756 : INFO : PROGRESS: saving document #31000\n",
            "2021-12-01 13:10:05,795 : INFO : PROGRESS: saving document #32000\n",
            "2021-12-01 13:10:05,821 : INFO : saved 32763x105572 matrix, density=0.013% (464455/3458855436)\n",
            "2021-12-01 13:10:05,822 : INFO : saving MmCorpus index to /tmp/elon.mm.index\n"
          ]
        }
      ]
    },
    {
      "cell_type": "markdown",
      "metadata": {
        "_cell_guid": "30731758-2dd0-482c-8ad8-995ebf37b686",
        "_uuid": "547b528b1af3eac74eed647c6013c67304a44f42",
        "id": "A_VnDRzHERgL"
      },
      "source": [
        "In the previous cells, we created a corpus of documents represented as a stream of vectors. To continue, let’s fire up gensim and use that corpus:"
      ]
    },
    {
      "cell_type": "code",
      "metadata": {
        "_cell_guid": "c654c601-bf99-4ca3-8fcd-c035dbe8af8f",
        "_uuid": "b446ef66b9fb10675b0b8c0216527a35cddb5fa4",
        "collapsed": true,
        "id": "v_SESr6bERgL"
      },
      "source": [
        "from gensim import corpora, models, similarities"
      ],
      "execution_count": 15,
      "outputs": []
    },
    {
      "cell_type": "markdown",
      "metadata": {
        "_cell_guid": "8c2fae3e-3c57-4a1b-b302-7f9bfe2fb5a0",
        "_uuid": "516974a573c993c655cec2ea8ccda4a3e4e3d899",
        "id": "hXICg4qSERgL"
      },
      "source": [
        "### Creating a transformation"
      ]
    },
    {
      "cell_type": "markdown",
      "metadata": {
        "_cell_guid": "c8cc6eba-dfde-4078-93aa-49ec66b79483",
        "_uuid": "95d9a030b86689a097ff84cf988ce6bfee42b6d6",
        "id": "LCqjvDThERgL"
      },
      "source": [
        "\n",
        "The transformations are standard Python objects, typically initialized by means of a training corpus:\n",
        "\n",
        "Different transformations may require different initialization parameters; in case of TfIdf, the “training” consists simply of\n",
        "going through the supplied corpus once and computing document frequencies of all its features.\n",
        "Training other models, such as Latent Semantic Analysis or Latent Dirichlet Allocation, is much more involved and,\n",
        "consequently, takes much more time."
      ]
    },
    {
      "cell_type": "code",
      "metadata": {
        "_cell_guid": "a7966606-dc6a-44a8-8fe5-d1a79929e203",
        "_uuid": "91cd194bf43c84b564c693c6e0ea109d28724abc",
        "id": "D7FcsqhqERgM",
        "outputId": "e358aec7-7475-475c-c56d-c5411dc8c14a",
        "colab": {
          "base_uri": "https://localhost:8080/"
        }
      },
      "source": [
        "tfidf = models.TfidfModel(corpus) # step 1 -- initialize a model"
      ],
      "execution_count": 16,
      "outputs": [
        {
          "output_type": "stream",
          "name": "stderr",
          "text": [
            "2021-12-01 13:10:13,766 : INFO : collecting document frequencies\n",
            "2021-12-01 13:10:13,768 : INFO : PROGRESS: processing document #0\n",
            "2021-12-01 13:10:13,829 : INFO : PROGRESS: processing document #10000\n",
            "2021-12-01 13:10:13,884 : INFO : PROGRESS: processing document #20000\n",
            "2021-12-01 13:10:13,936 : INFO : PROGRESS: processing document #30000\n",
            "2021-12-01 13:10:13,957 : INFO : calculating IDF weights for 32763 documents and 105571 features (464455 matrix non-zeros)\n"
          ]
        }
      ]
    },
    {
      "cell_type": "markdown",
      "metadata": {
        "_cell_guid": "47a7ad12-9917-4a74-b190-b6f039e87baf",
        "_uuid": "902cd861d68967c9d6d78f7d074fe6e4d31e4547",
        "id": "EDjVqEXLERgM"
      },
      "source": [
        "### Note\n",
        "Transformations always convert between two specific vector spaces. The same vector space (= the same set of feature ids) must be used for training as well as for subsequent vector transformations. Failure to use the same input feature space, such as applying a different string preprocessing, using different feature ids, or using bag-of-words input vectors where TfIdf vectors are expected, will result in feature mismatch during transformation calls and consequently in either garbage output and/or runtime exceptions."
      ]
    },
    {
      "cell_type": "markdown",
      "metadata": {
        "_cell_guid": "31035482-743c-4143-a016-af6e7aafa8b2",
        "_uuid": "12084cb081ffae38fd076b271f748faa6e3ff5af",
        "id": "NVqwxE4DERgN"
      },
      "source": [
        "From now on, tfidf is treated as a read-only object that can be used to apply a transformation to a whole corpus:"
      ]
    },
    {
      "cell_type": "code",
      "metadata": {
        "_cell_guid": "8d3211bd-a12d-4518-b822-eb92df9a564d",
        "_uuid": "6ccc9986f35d02916c62139410d0cbc6455e3149",
        "collapsed": true,
        "id": "xcvDKISFERgN"
      },
      "source": [
        "corpus_tfidf = tfidf[corpus]  # step 2 -- use the model to transform vectors"
      ],
      "execution_count": 17,
      "outputs": []
    },
    {
      "cell_type": "markdown",
      "metadata": {
        "_cell_guid": "6096b0ef-bb2b-40d1-aac4-f538dae0f1e3",
        "_uuid": "39f769bd5e8fea11c952a7c33bf32b329618f837",
        "id": "Ae3BUL9RERgN"
      },
      "source": [
        "### LDA:\n",
        "https://en.wikipedia.org/wiki/Latent_Dirichlet_allocation"
      ]
    },
    {
      "cell_type": "markdown",
      "metadata": {
        "_cell_guid": "7c793905-48bb-4526-9e78-1d5d1a9ed70b",
        "_uuid": "8aca0810b66308f947046dd9689409fc56067b1a",
        "id": "shJ1pmQ8ERgN"
      },
      "source": [
        "Latent Dirichlet Allocation, LDA is yet another transformation from bag-of-words counts into a topic space of lower dimensionality. LDA is a probabilistic extension of LSA (also called multinomial PCA), so LDA’s topics can be interpreted as probability distributions over words. These distributions are, just like with LSA, inferred automatically from a training corpus. Documents are in turn interpreted as a (soft) mixture of these topics (again, just like with LSA)."
      ]
    },
    {
      "cell_type": "code",
      "metadata": {
        "_cell_guid": "cc49ccb3-bd68-4359-8fec-7f6cbff2a182",
        "_uuid": "5771a4cc1b5f20878d52409e11f3fecaa59a9ac6",
        "collapsed": true,
        "id": "yOSTGY7RERgN"
      },
      "source": [
        "total_topics = 5"
      ],
      "execution_count": 18,
      "outputs": []
    },
    {
      "cell_type": "code",
      "metadata": {
        "_cell_guid": "8fb9df90-fdc2-491b-a2aa-02c0eca4c29a",
        "_uuid": "db447043098a7546237bbaf4c7d1145103209160",
        "id": "Mpxa_6PvERgO",
        "outputId": "6adc77bc-c22b-4b10-a5c6-49260f3fd3e8",
        "colab": {
          "base_uri": "https://localhost:8080/"
        }
      },
      "source": [
        "lda = models.LdaModel(corpus, id2word=dictionary, num_topics=total_topics)\n",
        "corpus_lda = lda[corpus_tfidf] # create a double wrapper over the original corpus: bow->tfidf->fold-in-lsi"
      ],
      "execution_count": 19,
      "outputs": [
        {
          "output_type": "stream",
          "name": "stderr",
          "text": [
            "2021-12-01 13:10:24,934 : INFO : using symmetric alpha at 0.2\n",
            "2021-12-01 13:10:24,936 : INFO : using symmetric eta at 0.2\n",
            "2021-12-01 13:10:24,970 : INFO : using serial LDA version on this node\n",
            "2021-12-01 13:10:25,045 : INFO : running online (single-pass) LDA training, 5 topics, 1 passes over the supplied corpus of 32763 documents, updating model once every 2000 documents, evaluating perplexity every 20000 documents, iterating 50x with a convergence threshold of 0.001000\n",
            "2021-12-01 13:10:25,049 : INFO : PROGRESS: pass 0, at document #2000/32763\n",
            "2021-12-01 13:10:26,257 : INFO : merging changes from 2000 documents into a model of 32763 documents\n",
            "2021-12-01 13:10:26,364 : INFO : topic #0 (0.200): 0.058*\"في\" + 0.010*\"لا\" + 0.010*\"و\" + 0.007*\"من\" + 0.005*\"ولا\" + 0.004*\"ما\" + 0.004*\"،\" + 0.004*\"..\" + 0.004*\"كل\" + 0.004*\"على\"\n",
            "2021-12-01 13:10:26,368 : INFO : topic #1 (0.200): 0.057*\"في\" + 0.017*\"الله\" + 0.010*\"من\" + 0.007*\"،\" + 0.006*\"لا\" + 0.004*\"ما\" + 0.004*\"اللي\" + 0.004*\"كل\" + 0.004*\"على\" + 0.004*\"و\"\n",
            "2021-12-01 13:10:26,372 : INFO : topic #2 (0.200): 0.040*\"في\" + 0.017*\"من\" + 0.009*\"و\" + 0.009*\"ما\" + 0.007*\"كل\" + 0.007*\"لا\" + 0.005*\"على\" + 0.005*\"ولا\" + 0.004*\"الله\" + 0.004*\"لي\"\n",
            "2021-12-01 13:10:26,376 : INFO : topic #3 (0.200): 0.036*\"في\" + 0.010*\"الله\" + 0.007*\"على\" + 0.005*\"من\" + 0.005*\"ما\" + 0.004*\"بس\" + 0.004*\"كان\" + 0.003*\"و\" + 0.003*\"..\" + 0.003*\"لو\"\n",
            "2021-12-01 13:10:26,380 : INFO : topic #4 (0.200): 0.051*\"في\" + 0.022*\"من\" + 0.009*\"و\" + 0.008*\"ما\" + 0.008*\"،\" + 0.008*\"لا\" + 0.008*\"..\" + 0.007*\"كل\" + 0.006*\"الله\" + 0.005*\"على\"\n",
            "2021-12-01 13:10:26,384 : INFO : topic diff=4.602552, rho=1.000000\n",
            "2021-12-01 13:10:26,387 : INFO : PROGRESS: pass 0, at document #4000/32763\n",
            "2021-12-01 13:10:27,323 : INFO : merging changes from 2000 documents into a model of 32763 documents\n",
            "2021-12-01 13:10:27,394 : INFO : topic #0 (0.200): 0.053*\"في\" + 0.009*\"لا\" + 0.008*\"و\" + 0.008*\"من\" + 0.005*\"انا\" + 0.004*\"ما\" + 0.004*\"كل\" + 0.004*\"ولا\" + 0.004*\"على\" + 0.004*\"بس\"\n",
            "2021-12-01 13:10:27,398 : INFO : topic #1 (0.200): 0.050*\"في\" + 0.021*\"الله\" + 0.012*\"من\" + 0.008*\"،\" + 0.007*\"لا\" + 0.006*\"ان\" + 0.006*\"كل\" + 0.005*\"أن\" + 0.005*\"على\" + 0.005*\"ما\"\n",
            "2021-12-01 13:10:27,401 : INFO : topic #2 (0.200): 0.037*\"في\" + 0.020*\"من\" + 0.011*\"ما\" + 0.010*\"و\" + 0.009*\"كل\" + 0.007*\"لا\" + 0.006*\"على\" + 0.006*\"يا\" + 0.005*\"ولا\" + 0.004*\"اللي\"\n",
            "2021-12-01 13:10:27,405 : INFO : topic #3 (0.200): 0.038*\"في\" + 0.012*\"الله\" + 0.009*\"على\" + 0.008*\"من\" + 0.005*\"ما\" + 0.004*\"انا\" + 0.004*\"بس\" + 0.004*\"و\" + 0.003*\"هذا\" + 0.003*\"كل\"\n",
            "2021-12-01 13:10:27,408 : INFO : topic #4 (0.200): 0.046*\"في\" + 0.025*\"من\" + 0.009*\"ما\" + 0.009*\"..\" + 0.009*\"كل\" + 0.008*\"،\" + 0.008*\"و\" + 0.008*\"لا\" + 0.007*\"الله\" + 0.006*\"#صباح_الخير\"\n",
            "2021-12-01 13:10:27,411 : INFO : topic diff=0.576212, rho=0.707107\n",
            "2021-12-01 13:10:27,414 : INFO : PROGRESS: pass 0, at document #6000/32763\n",
            "2021-12-01 13:10:28,322 : INFO : merging changes from 2000 documents into a model of 32763 documents\n",
            "2021-12-01 13:10:28,393 : INFO : topic #0 (0.200): 0.032*\"في\" + 0.012*\"من\" + 0.011*\"انا\" + 0.009*\"و\" + 0.008*\"لا\" + 0.006*\"ما\" + 0.006*\"كل\" + 0.005*\"بس\" + 0.005*\"على\" + 0.004*\"اللي\"\n",
            "2021-12-01 13:10:28,397 : INFO : topic #1 (0.200): 0.030*\"في\" + 0.027*\"الله\" + 0.016*\"من\" + 0.008*\"كل\" + 0.007*\"على\" + 0.007*\"لا\" + 0.007*\"،\" + 0.006*\"ما\" + 0.006*\"ان\" + 0.005*\"يا\"\n",
            "2021-12-01 13:10:28,402 : INFO : topic #2 (0.200): 0.025*\"في\" + 0.024*\"من\" + 0.015*\"ما\" + 0.012*\"و\" + 0.011*\"كل\" + 0.007*\"يا\" + 0.007*\"على\" + 0.005*\"اللي\" + 0.005*\"لا\" + 0.004*\"ولا\"\n",
            "2021-12-01 13:10:28,406 : INFO : topic #3 (0.200): 0.026*\"في\" + 0.013*\"الله\" + 0.010*\"على\" + 0.009*\"من\" + 0.007*\"انا\" + 0.006*\"ما\" + 0.005*\"بس\" + 0.004*\"كل\" + 0.003*\"و\" + 0.003*\"كان\"\n",
            "2021-12-01 13:10:28,409 : INFO : topic #4 (0.200): 0.034*\"من\" + 0.029*\"في\" + 0.013*\"ما\" + 0.010*\"كل\" + 0.010*\"و\" + 0.008*\"لا\" + 0.008*\"..\" + 0.008*\"،\" + 0.007*\"الله\" + 0.006*\"على\"\n",
            "2021-12-01 13:10:28,412 : INFO : topic diff=0.400569, rho=0.577350\n",
            "2021-12-01 13:10:28,416 : INFO : PROGRESS: pass 0, at document #8000/32763\n",
            "2021-12-01 13:10:29,311 : INFO : merging changes from 2000 documents into a model of 32763 documents\n",
            "2021-12-01 13:10:29,381 : INFO : topic #0 (0.200): 0.026*\"في\" + 0.013*\"من\" + 0.010*\"انا\" + 0.008*\"و\" + 0.007*\"لا\" + 0.005*\"بس\" + 0.005*\"كل\" + 0.005*\"على\" + 0.005*\"العربية\" + 0.005*\"ما\"\n",
            "2021-12-01 13:10:29,385 : INFO : topic #1 (0.200): 0.025*\"الله\" + 0.025*\"في\" + 0.016*\"من\" + 0.008*\"كل\" + 0.007*\"على\" + 0.007*\"لا\" + 0.006*\"ان\" + 0.006*\"،\" + 0.005*\"ما\" + 0.005*\"يا\"\n",
            "2021-12-01 13:10:29,389 : INFO : topic #2 (0.200): 0.023*\"من\" + 0.019*\"في\" + 0.013*\"ما\" + 0.011*\"و\" + 0.008*\"كل\" + 0.007*\"على\" + 0.006*\"يا\" + 0.005*\"عليكم\" + 0.005*\"ولا\" + 0.005*\"السلام\"\n",
            "2021-12-01 13:10:29,394 : INFO : topic #3 (0.200): 0.021*\"في\" + 0.011*\"الله\" + 0.010*\"على\" + 0.009*\"من\" + 0.006*\"انا\" + 0.005*\"ما\" + 0.004*\"#موسم_الرياض\" + 0.004*\"بس\" + 0.003*\"جدة\" + 0.003*\"هذا\"\n",
            "2021-12-01 13:10:29,399 : INFO : topic #4 (0.200): 0.034*\"من\" + 0.023*\"في\" + 0.011*\"ما\" + 0.009*\"و\" + 0.009*\"كل\" + 0.008*\"،\" + 0.008*\"لا\" + 0.008*\"..\" + 0.006*\"على\" + 0.006*\"الله\"\n",
            "2021-12-01 13:10:29,405 : INFO : topic diff=0.384980, rho=0.500000\n",
            "2021-12-01 13:10:29,409 : INFO : PROGRESS: pass 0, at document #10000/32763\n",
            "2021-12-01 13:10:30,267 : INFO : merging changes from 2000 documents into a model of 32763 documents\n",
            "2021-12-01 13:10:30,338 : INFO : topic #0 (0.200): 0.026*\"في\" + 0.012*\"من\" + 0.008*\"انا\" + 0.008*\"و\" + 0.006*\"جدة\" + 0.005*\"لا\" + 0.005*\"على\" + 0.005*\"العربية\" + 0.005*\"هل\" + 0.004*\"بس\"\n",
            "2021-12-01 13:10:30,342 : INFO : topic #1 (0.200): 0.025*\"في\" + 0.024*\"الله\" + 0.014*\"من\" + 0.007*\"كل\" + 0.007*\"على\" + 0.006*\"،\" + 0.006*\"ان\" + 0.006*\"لا\" + 0.005*\"يا\" + 0.004*\"ما\"\n",
            "2021-12-01 13:10:30,346 : INFO : topic #2 (0.200): 0.021*\"من\" + 0.019*\"في\" + 0.010*\"ما\" + 0.010*\"و\" + 0.009*\"عليكم\" + 0.009*\"السلام\" + 0.007*\"على\" + 0.006*\"كل\" + 0.006*\"مصر\" + 0.005*\"يا\"\n",
            "2021-12-01 13:10:30,350 : INFO : topic #3 (0.200): 0.021*\"في\" + 0.010*\"الله\" + 0.009*\"على\" + 0.008*\"من\" + 0.005*\"مكة\" + 0.005*\"جدة\" + 0.005*\"#نيوم\" + 0.005*\"انا\" + 0.004*\"#موسم_الرياض\" + 0.004*\"ما\"\n",
            "2021-12-01 13:10:30,360 : INFO : topic #4 (0.200): 0.030*\"من\" + 0.025*\"في\" + 0.009*\"مصر\" + 0.009*\"..\" + 0.009*\"ما\" + 0.009*\"،\" + 0.008*\"و\" + 0.008*\"لا\" + 0.008*\"كل\" + 0.006*\"على\"\n",
            "2021-12-01 13:10:30,366 : INFO : topic diff=0.409028, rho=0.447214\n",
            "2021-12-01 13:10:30,371 : INFO : PROGRESS: pass 0, at document #12000/32763\n",
            "2021-12-01 13:10:31,155 : INFO : merging changes from 2000 documents into a model of 32763 documents\n",
            "2021-12-01 13:10:31,226 : INFO : topic #0 (0.200): 0.023*\"في\" + 0.011*\"من\" + 0.010*\"جدة\" + 0.008*\"مصر\" + 0.008*\"و\" + 0.007*\"انا\" + 0.006*\"هل\" + 0.005*\"على\" + 0.005*\"مكة\" + 0.005*\"لا\"\n",
            "2021-12-01 13:10:31,230 : INFO : topic #1 (0.200): 0.023*\"الله\" + 0.022*\"في\" + 0.013*\"من\" + 0.007*\"،\" + 0.007*\"كل\" + 0.006*\"على\" + 0.005*\"ان\" + 0.005*\"لا\" + 0.005*\"يا\" + 0.004*\"يارب\"\n",
            "2021-12-01 13:10:31,234 : INFO : topic #2 (0.200): 0.020*\"من\" + 0.016*\"في\" + 0.012*\"السلام\" + 0.012*\"عليكم\" + 0.010*\"مصر\" + 0.009*\"و\" + 0.008*\"ما\" + 0.006*\"على\" + 0.006*\"يا\" + 0.005*\"كل\"\n",
            "2021-12-01 13:10:31,237 : INFO : topic #3 (0.200): 0.018*\"في\" + 0.017*\"مكة\" + 0.012*\"#اي_مدينه_سعوديه_تحبها\" + 0.010*\"جدة\" + 0.009*\"الله\" + 0.008*\"على\" + 0.008*\"من\" + 0.004*\"مصر\" + 0.004*\"المكرمة\" + 0.004*\"انا\"\n",
            "2021-12-01 13:10:31,241 : INFO : topic #4 (0.200): 0.028*\"من\" + 0.023*\"في\" + 0.018*\"مصر\" + 0.009*\"..\" + 0.009*\"و\" + 0.008*\"لا\" + 0.008*\"ما\" + 0.008*\"،\" + 0.007*\"كل\" + 0.005*\"على\"\n",
            "2021-12-01 13:10:31,244 : INFO : topic diff=0.367864, rho=0.408248\n",
            "2021-12-01 13:10:31,249 : INFO : PROGRESS: pass 0, at document #14000/32763\n",
            "2021-12-01 13:10:32,085 : INFO : merging changes from 2000 documents into a model of 32763 documents\n",
            "2021-12-01 13:10:32,159 : INFO : topic #0 (0.200): 0.022*\"في\" + 0.011*\"من\" + 0.011*\"جدة\" + 0.009*\"هل\" + 0.007*\"و\" + 0.007*\"انا\" + 0.006*\"@emoroor\" + 0.005*\"مصر\" + 0.005*\"على\" + 0.005*\"؟\"\n",
            "2021-12-01 13:10:32,162 : INFO : topic #1 (0.200): 0.022*\"الله\" + 0.020*\"في\" + 0.013*\"من\" + 0.011*\"#فايبر_stc_ب99ريال\" + 0.007*\"،\" + 0.007*\"على\" + 0.006*\"كل\" + 0.005*\"لا\" + 0.005*\"يا\" + 0.005*\"ان\"\n",
            "2021-12-01 13:10:32,167 : INFO : topic #2 (0.200): 0.019*\"من\" + 0.018*\"عليكم\" + 0.018*\"السلام\" + 0.014*\"في\" + 0.010*\"@emoroor\" + 0.009*\"و\" + 0.007*\"ما\" + 0.006*\"هل\" + 0.006*\"على\" + 0.006*\"مصر\"\n",
            "2021-12-01 13:10:32,171 : INFO : topic #3 (0.200): 0.016*\"في\" + 0.015*\"مكة\" + 0.010*\"جدة\" + 0.008*\"على\" + 0.008*\"الله\" + 0.008*\"#اي_مدينه_سعوديه_تحبها\" + 0.008*\"من\" + 0.004*\"@emoroor\" + 0.003*\"انا\" + 0.003*\"🔴\"\n",
            "2021-12-01 13:10:32,174 : INFO : topic #4 (0.200): 0.027*\"من\" + 0.022*\"في\" + 0.012*\"مصر\" + 0.009*\"و\" + 0.009*\"..\" + 0.008*\"لا\" + 0.008*\"،\" + 0.007*\"ما\" + 0.007*\"كل\" + 0.006*\"#فايبر_stc_ب99ريال\"\n",
            "2021-12-01 13:10:32,178 : INFO : topic diff=0.377679, rho=0.377964\n",
            "2021-12-01 13:10:32,181 : INFO : PROGRESS: pass 0, at document #16000/32763\n",
            "2021-12-01 13:10:32,954 : INFO : merging changes from 2000 documents into a model of 32763 documents\n",
            "2021-12-01 13:10:33,027 : INFO : topic #0 (0.200): 0.021*\"في\" + 0.012*\"من\" + 0.008*\"هل\" + 0.007*\"جدة\" + 0.007*\"و\" + 0.007*\"انا\" + 0.006*\"كورونا\" + 0.006*\"على\" + 0.005*\"او\" + 0.005*\"عن\"\n",
            "2021-12-01 13:10:33,030 : INFO : topic #1 (0.200): 0.023*\"الله\" + 0.019*\"في\" + 0.012*\"من\" + 0.008*\"#فايبر_stc_ب99ريال\" + 0.007*\"،\" + 0.006*\"على\" + 0.006*\"كل\" + 0.005*\"لا\" + 0.005*\"ان\" + 0.004*\"يا\"\n",
            "2021-12-01 13:10:33,034 : INFO : topic #2 (0.200): 0.020*\"من\" + 0.020*\"عليكم\" + 0.020*\"السلام\" + 0.013*\"في\" + 0.008*\"و\" + 0.007*\"@emoroor\" + 0.007*\"هل\" + 0.007*\"ما\" + 0.007*\"على\" + 0.006*\"؟\"\n",
            "2021-12-01 13:10:33,039 : INFO : topic #3 (0.200): 0.015*\"في\" + 0.011*\"مكة\" + 0.009*\"من\" + 0.008*\"على\" + 0.008*\"الله\" + 0.008*\"جدة\" + 0.005*\"#اي_مدينه_سعوديه_تحبها\" + 0.004*\"الى\" + 0.004*\"انا\" + 0.003*\"@saudihousingcc\"\n",
            "2021-12-01 13:10:33,043 : INFO : topic #4 (0.200): 0.027*\"من\" + 0.022*\"في\" + 0.016*\"كورونا\" + 0.008*\"..\" + 0.008*\"لا\" + 0.008*\"و\" + 0.008*\"مصر\" + 0.007*\"،\" + 0.007*\"ما\" + 0.006*\"كل\"\n",
            "2021-12-01 13:10:33,047 : INFO : topic diff=0.372840, rho=0.353553\n",
            "2021-12-01 13:10:33,050 : INFO : PROGRESS: pass 0, at document #18000/32763\n",
            "2021-12-01 13:10:33,790 : INFO : merging changes from 2000 documents into a model of 32763 documents\n",
            "2021-12-01 13:10:33,863 : INFO : topic #0 (0.200): 0.024*\"في\" + 0.012*\"من\" + 0.008*\"هل\" + 0.008*\"كورونا\" + 0.007*\"و\" + 0.006*\"انا\" + 0.005*\"على\" + 0.005*\"جدة\" + 0.005*\"عن\" + 0.005*\"؟\"\n",
            "2021-12-01 13:10:33,866 : INFO : topic #1 (0.200): 0.025*\"في\" + 0.022*\"الله\" + 0.012*\"من\" + 0.007*\"،\" + 0.006*\"على\" + 0.006*\"كل\" + 0.006*\"لا\" + 0.005*\"#فايبر_stc_ب99ريال\" + 0.005*\"يا\" + 0.004*\"ان\"\n",
            "2021-12-01 13:10:33,870 : INFO : topic #2 (0.200): 0.020*\"من\" + 0.019*\"عليكم\" + 0.018*\"السلام\" + 0.015*\"في\" + 0.008*\"و\" + 0.007*\"هل\" + 0.007*\"ما\" + 0.007*\"على\" + 0.006*\"؟\" + 0.005*\"@emoroor\"\n",
            "2021-12-01 13:10:33,875 : INFO : topic #3 (0.200): 0.018*\"في\" + 0.008*\"من\" + 0.008*\"على\" + 0.007*\"مكة\" + 0.007*\"الله\" + 0.006*\"جدة\" + 0.004*\"@saudihousingcc\" + 0.004*\"#اي_مدينه_سعوديه_تحبها\" + 0.004*\"الى\" + 0.003*\"إلى\"\n",
            "2021-12-01 13:10:33,879 : INFO : topic #4 (0.200): 0.031*\"في\" + 0.026*\"من\" + 0.016*\"كورونا\" + 0.010*\"لا\" + 0.009*\"و\" + 0.008*\"..\" + 0.008*\"ما\" + 0.007*\"،\" + 0.006*\"كل\" + 0.006*\"#كورونا\"\n",
            "2021-12-01 13:10:33,882 : INFO : topic diff=0.393796, rho=0.333333\n",
            "2021-12-01 13:10:34,982 : INFO : -11.258 per-word bound, 2449.4 perplexity estimate based on a held-out corpus of 2000 documents with 30194 words\n",
            "2021-12-01 13:10:34,983 : INFO : PROGRESS: pass 0, at document #20000/32763\n",
            "2021-12-01 13:10:35,805 : INFO : merging changes from 2000 documents into a model of 32763 documents\n",
            "2021-12-01 13:10:35,875 : INFO : topic #0 (0.200): 0.028*\"في\" + 0.011*\"من\" + 0.008*\"كورونا\" + 0.008*\"و\" + 0.006*\"انا\" + 0.006*\"هل\" + 0.005*\"على\" + 0.005*\"عن\" + 0.004*\"جديدة\" + 0.004*\"بفيروس\"\n",
            "2021-12-01 13:10:35,879 : INFO : topic #1 (0.200): 0.034*\"في\" + 0.020*\"الله\" + 0.011*\"من\" + 0.007*\"،\" + 0.006*\"لا\" + 0.006*\"كل\" + 0.006*\"على\" + 0.005*\"يا\" + 0.004*\"ان\" + 0.004*\"اللهم\"\n",
            "2021-12-01 13:10:35,884 : INFO : topic #2 (0.200): 0.019*\"من\" + 0.018*\"في\" + 0.016*\"عليكم\" + 0.016*\"السلام\" + 0.008*\"و\" + 0.007*\"ما\" + 0.007*\"هل\" + 0.006*\"على\" + 0.005*\"؟\" + 0.004*\"ولا\"\n",
            "2021-12-01 13:10:35,887 : INFO : topic #3 (0.200): 0.021*\"في\" + 0.008*\"من\" + 0.008*\"على\" + 0.007*\"الله\" + 0.005*\"مكة\" + 0.004*\"جدة\" + 0.003*\"@saudihousingcc\" + 0.003*\"إلى\" + 0.003*\"الى\" + 0.003*\"انا\"\n",
            "2021-12-01 13:10:35,892 : INFO : topic #4 (0.200): 0.042*\"في\" + 0.025*\"من\" + 0.014*\"كورونا\" + 0.011*\"لا\" + 0.010*\"و\" + 0.009*\"..\" + 0.009*\"ما\" + 0.008*\"،\" + 0.008*\"كل\" + 0.006*\"أن\"\n",
            "2021-12-01 13:10:35,896 : INFO : topic diff=0.407985, rho=0.316228\n",
            "2021-12-01 13:10:35,899 : INFO : PROGRESS: pass 0, at document #22000/32763\n",
            "2021-12-01 13:10:36,669 : INFO : merging changes from 2000 documents into a model of 32763 documents\n",
            "2021-12-01 13:10:36,740 : INFO : topic #0 (0.200): 0.030*\"في\" + 0.012*\"من\" + 0.007*\"و\" + 0.007*\"كورونا\" + 0.007*\"انا\" + 0.006*\"هل\" + 0.005*\"على\" + 0.005*\"عن\" + 0.004*\"بس\" + 0.004*\"؟\"\n",
            "2021-12-01 13:10:36,744 : INFO : topic #1 (0.200): 0.038*\"في\" + 0.021*\"الله\" + 0.011*\"من\" + 0.007*\"،\" + 0.006*\"على\" + 0.006*\"لا\" + 0.006*\"كل\" + 0.005*\"يا\" + 0.005*\"اللهم\" + 0.004*\"أن\"\n",
            "2021-12-01 13:10:36,748 : INFO : topic #2 (0.200): 0.019*\"من\" + 0.019*\"في\" + 0.015*\"عليكم\" + 0.014*\"السلام\" + 0.008*\"ما\" + 0.008*\"و\" + 0.007*\"على\" + 0.006*\"هل\" + 0.005*\"؟\" + 0.004*\"اللي\"\n",
            "2021-12-01 13:10:36,753 : INFO : topic #3 (0.200): 0.021*\"في\" + 0.008*\"من\" + 0.008*\"على\" + 0.008*\"الله\" + 0.004*\"مكة\" + 0.003*\"@saudihousingcc\" + 0.003*\"جدة\" + 0.003*\"انا\" + 0.003*\"الى\" + 0.003*\"إلى\"\n",
            "2021-12-01 13:10:36,756 : INFO : topic #4 (0.200): 0.047*\"في\" + 0.025*\"من\" + 0.012*\"لا\" + 0.011*\"كورونا\" + 0.010*\"ما\" + 0.010*\"و\" + 0.009*\"كل\" + 0.009*\"..\" + 0.008*\"،\" + 0.006*\"أن\"\n",
            "2021-12-01 13:10:36,760 : INFO : topic diff=0.358246, rho=0.301511\n",
            "2021-12-01 13:10:36,762 : INFO : PROGRESS: pass 0, at document #24000/32763\n",
            "2021-12-01 13:10:37,426 : INFO : merging changes from 2000 documents into a model of 32763 documents\n",
            "2021-12-01 13:10:37,499 : INFO : topic #0 (0.200): 0.025*\"في\" + 0.013*\"من\" + 0.008*\"هل\" + 0.008*\"انا\" + 0.007*\"و\" + 0.007*\"كورونا\" + 0.006*\"عن\" + 0.006*\"على\" + 0.004*\"؟\" + 0.004*\"او\"\n",
            "2021-12-01 13:10:37,503 : INFO : topic #1 (0.200): 0.033*\"في\" + 0.022*\"الله\" + 0.012*\"من\" + 0.007*\"،\" + 0.007*\"على\" + 0.007*\"لا\" + 0.006*\"كل\" + 0.005*\"يا\" + 0.005*\"ما\" + 0.004*\"اللهم\"\n",
            "2021-12-01 13:10:37,507 : INFO : topic #2 (0.200): 0.023*\"عليكم\" + 0.023*\"السلام\" + 0.020*\"من\" + 0.016*\"في\" + 0.011*\"هل\" + 0.008*\"على\" + 0.007*\"ما\" + 0.007*\"و\" + 0.006*\"؟\" + 0.006*\"كيف\"\n",
            "2021-12-01 13:10:37,511 : INFO : topic #3 (0.200): 0.018*\"في\" + 0.013*\"@saudihousingcc\" + 0.009*\"من\" + 0.008*\"على\" + 0.008*\"الله\" + 0.007*\"@saudihousing\" + 0.004*\"الى\" + 0.003*\"؟؟\" + 0.003*\"الان\" + 0.003*\"انا\"\n",
            "2021-12-01 13:10:37,515 : INFO : topic #4 (0.200): 0.043*\"في\" + 0.026*\"من\" + 0.012*\"لا\" + 0.011*\"ما\" + 0.011*\"كورونا\" + 0.010*\"و\" + 0.009*\"..\" + 0.009*\"كل\" + 0.008*\"،\" + 0.006*\"أن\"\n",
            "2021-12-01 13:10:37,519 : INFO : topic diff=0.359188, rho=0.288675\n",
            "2021-12-01 13:10:37,522 : INFO : PROGRESS: pass 0, at document #26000/32763\n",
            "2021-12-01 13:10:38,219 : INFO : merging changes from 2000 documents into a model of 32763 documents\n",
            "2021-12-01 13:10:38,291 : INFO : topic #0 (0.200): 0.022*\"في\" + 0.013*\"من\" + 0.011*\"كورونا\" + 0.009*\"هل\" + 0.007*\"انا\" + 0.007*\"عن\" + 0.006*\"و\" + 0.006*\"على\" + 0.005*\"بفيروس\" + 0.005*\"او\"\n",
            "2021-12-01 13:10:38,296 : INFO : topic #1 (0.200): 0.029*\"في\" + 0.022*\"الله\" + 0.011*\"من\" + 0.007*\"على\" + 0.006*\"،\" + 0.006*\"لا\" + 0.006*\"الدعم\" + 0.006*\"كل\" + 0.005*\"وزارة\" + 0.005*\"يا\"\n",
            "2021-12-01 13:10:38,300 : INFO : topic #2 (0.200): 0.027*\"عليكم\" + 0.026*\"السلام\" + 0.021*\"من\" + 0.014*\"في\" + 0.013*\"هل\" + 0.008*\"على\" + 0.007*\"؟\" + 0.006*\"كيف\" + 0.006*\"ما\" + 0.006*\"و\"\n",
            "2021-12-01 13:10:38,304 : INFO : topic #3 (0.200): 0.018*\"@saudihousingcc\" + 0.016*\"في\" + 0.009*\"@saudihousing\" + 0.009*\"من\" + 0.009*\"على\" + 0.008*\"الله\" + 0.005*\"@stc\" + 0.004*\"الان\" + 0.004*\"الى\" + 0.004*\"؟؟\"\n",
            "2021-12-01 13:10:38,308 : INFO : topic #4 (0.200): 0.038*\"في\" + 0.026*\"من\" + 0.018*\"كورونا\" + 0.011*\"لا\" + 0.010*\"ما\" + 0.010*\"#كورونا\" + 0.010*\"و\" + 0.008*\"..\" + 0.008*\"كل\" + 0.007*\"،\"\n",
            "2021-12-01 13:10:38,313 : INFO : topic diff=0.336861, rho=0.277350\n",
            "2021-12-01 13:10:38,316 : INFO : PROGRESS: pass 0, at document #28000/32763\n",
            "2021-12-01 13:10:38,930 : INFO : merging changes from 2000 documents into a model of 32763 documents\n",
            "2021-12-01 13:10:39,000 : INFO : topic #0 (0.200): 0.020*\"في\" + 0.013*\"من\" + 0.010*\"كورونا\" + 0.009*\"هل\" + 0.007*\"عن\" + 0.007*\"انا\" + 0.006*\"على\" + 0.006*\"و\" + 0.005*\"بفيروس\" + 0.005*\"او\"\n",
            "2021-12-01 13:10:39,003 : INFO : topic #1 (0.200): 0.026*\"في\" + 0.022*\"الله\" + 0.011*\"من\" + 0.007*\"وزارة\" + 0.007*\"على\" + 0.006*\"الدعم\" + 0.006*\"لا\" + 0.006*\"،\" + 0.005*\"كل\" + 0.005*\"يا\"\n",
            "2021-12-01 13:10:39,008 : INFO : topic #2 (0.200): 0.031*\"عليكم\" + 0.030*\"السلام\" + 0.020*\"من\" + 0.015*\"هل\" + 0.012*\"في\" + 0.008*\"على\" + 0.008*\"كيف\" + 0.008*\"؟\" + 0.006*\"عندي\" + 0.006*\"رقم\"\n",
            "2021-12-01 13:10:39,013 : INFO : topic #3 (0.200): 0.017*\"@saudihousingcc\" + 0.015*\"في\" + 0.009*\"من\" + 0.009*\"@saudihousing\" + 0.008*\"على\" + 0.008*\"الله\" + 0.007*\"@stc\" + 0.005*\"@moe_gov_sa\" + 0.005*\"الان\" + 0.004*\"لدي\"\n",
            "2021-12-01 13:10:39,017 : INFO : topic #4 (0.200): 0.034*\"في\" + 0.026*\"من\" + 0.019*\"كورونا\" + 0.011*\"#كورونا\" + 0.010*\"لا\" + 0.009*\"ما\" + 0.009*\"و\" + 0.008*\"..\" + 0.007*\"،\" + 0.007*\"كل\"\n",
            "2021-12-01 13:10:39,021 : INFO : topic diff=0.327518, rho=0.267261\n",
            "2021-12-01 13:10:39,025 : INFO : PROGRESS: pass 0, at document #30000/32763\n",
            "2021-12-01 13:10:39,691 : INFO : merging changes from 2000 documents into a model of 32763 documents\n",
            "2021-12-01 13:10:39,765 : INFO : topic #0 (0.200): 0.018*\"في\" + 0.013*\"من\" + 0.008*\"هل\" + 0.008*\"كورونا\" + 0.007*\"@mhrsd_care\" + 0.007*\"انا\" + 0.006*\"و\" + 0.006*\"عن\" + 0.006*\"او\" + 0.006*\"على\"\n",
            "2021-12-01 13:10:39,771 : INFO : topic #1 (0.200): 0.023*\"في\" + 0.021*\"الله\" + 0.010*\"من\" + 0.007*\"على\" + 0.006*\"وزارة\" + 0.006*\"،\" + 0.005*\"لا\" + 0.005*\"الدعم\" + 0.005*\"يا\" + 0.005*\"كل\"\n",
            "2021-12-01 13:10:39,775 : INFO : topic #2 (0.200): 0.029*\"عليكم\" + 0.029*\"السلام\" + 0.020*\"من\" + 0.014*\"هل\" + 0.011*\"في\" + 0.008*\"على\" + 0.008*\"؟\" + 0.007*\"كيف\" + 0.006*\"رقم\" + 0.006*\"عندي\"\n",
            "2021-12-01 13:10:39,780 : INFO : topic #3 (0.200): 0.013*\"في\" + 0.013*\"@saudihousingcc\" + 0.009*\"من\" + 0.008*\"على\" + 0.007*\"الله\" + 0.006*\"@saudihousing\" + 0.006*\"@moe_gov_sa\" + 0.006*\"@stc\" + 0.005*\"@mhrsd_care\" + 0.005*\"الان\"\n",
            "2021-12-01 13:10:39,784 : INFO : topic #4 (0.200): 0.030*\"في\" + 0.025*\"من\" + 0.014*\"كورونا\" + 0.011*\"و\" + 0.010*\"موسم\" + 0.010*\"لا\" + 0.010*\"ما\" + 0.008*\"..\" + 0.008*\"#كورونا\" + 0.007*\"كل\"\n",
            "2021-12-01 13:10:39,788 : INFO : topic diff=0.349371, rho=0.258199\n",
            "2021-12-01 13:10:39,791 : INFO : PROGRESS: pass 0, at document #32000/32763\n",
            "2021-12-01 13:10:40,357 : INFO : merging changes from 2000 documents into a model of 32763 documents\n",
            "2021-12-01 13:10:40,428 : INFO : topic #0 (0.200): 0.018*\"في\" + 0.017*\"@mhrsd_care\" + 0.013*\"من\" + 0.010*\"هل\" + 0.008*\"@mcgovsa\" + 0.006*\"كورونا\" + 0.006*\"انا\" + 0.006*\"او\" + 0.006*\"عن\" + 0.006*\"؟\"\n",
            "2021-12-01 13:10:40,431 : INFO : topic #1 (0.200): 0.022*\"في\" + 0.021*\"الله\" + 0.010*\"من\" + 0.008*\"وزارة\" + 0.006*\"على\" + 0.006*\"الدعم\" + 0.006*\"،\" + 0.005*\"ارجو\" + 0.005*\"لا\" + 0.004*\"يا\"\n",
            "2021-12-01 13:10:40,440 : INFO : topic #2 (0.200): 0.034*\"عليكم\" + 0.033*\"السلام\" + 0.021*\"من\" + 0.017*\"هل\" + 0.011*\"@mcgovsa\" + 0.011*\"في\" + 0.009*\"على\" + 0.009*\"؟\" + 0.009*\"كيف\" + 0.009*\"رقم\"\n",
            "2021-12-01 13:10:40,444 : INFO : topic #3 (0.200): 0.012*\"في\" + 0.012*\"@mhrsd_care\" + 0.010*\"@saudihousingcc\" + 0.009*\"من\" + 0.009*\"@moe_gov_sa\" + 0.008*\"على\" + 0.007*\"@saudimoh\" + 0.007*\"@saudimomra\" + 0.007*\"العمل\" + 0.006*\"الان\"\n",
            "2021-12-01 13:10:40,450 : INFO : topic #4 (0.200): 0.029*\"في\" + 0.024*\"من\" + 0.013*\"كورونا\" + 0.010*\"و\" + 0.010*\"لا\" + 0.009*\"ما\" + 0.009*\"موسم\" + 0.007*\"..\" + 0.007*\"ولا\" + 0.007*\"#كورونا\"\n",
            "2021-12-01 13:10:40,454 : INFO : topic diff=0.307744, rho=0.250000\n",
            "2021-12-01 13:10:40,839 : INFO : -9.554 per-word bound, 751.6 perplexity estimate based on a held-out corpus of 763 documents with 12509 words\n",
            "2021-12-01 13:10:40,840 : INFO : PROGRESS: pass 0, at document #32763/32763\n",
            "2021-12-01 13:10:41,060 : INFO : merging changes from 763 documents into a model of 32763 documents\n",
            "2021-12-01 13:10:41,133 : INFO : topic #0 (0.200): 0.026*\"@mhrsd_care\" + 0.018*\"في\" + 0.014*\"من\" + 0.011*\"هل\" + 0.010*\"@mcgovsa\" + 0.007*\"او\" + 0.006*\"؟\" + 0.006*\"انا\" + 0.006*\"يتم\" + 0.006*\"على\"\n",
            "2021-12-01 13:10:41,137 : INFO : topic #1 (0.200): 0.021*\"في\" + 0.019*\"الله\" + 0.010*\"وزارة\" + 0.010*\"من\" + 0.008*\"ارجو\" + 0.006*\"على\" + 0.006*\"الدعم\" + 0.005*\"،\" + 0.005*\"لا\" + 0.004*\"سمحت\"\n",
            "2021-12-01 13:10:41,142 : INFO : topic #2 (0.200): 0.036*\"عليكم\" + 0.035*\"السلام\" + 0.022*\"من\" + 0.018*\"هل\" + 0.016*\"@mcgovsa\" + 0.011*\"رقم\" + 0.010*\"في\" + 0.010*\"على\" + 0.010*\"؟\" + 0.009*\"كيف\"\n",
            "2021-12-01 13:10:41,146 : INFO : topic #3 (0.200): 0.017*\"@mhrsd_care\" + 0.012*\"في\" + 0.010*\"@saudimomra\" + 0.009*\"العمل\" + 0.009*\"من\" + 0.009*\"@saudimoh\" + 0.009*\"@saudihousingcc\" + 0.008*\"@moe_gov_sa\" + 0.008*\"على\" + 0.007*\"الان\"\n",
            "2021-12-01 13:10:41,153 : INFO : topic #4 (0.200): 0.028*\"في\" + 0.023*\"من\" + 0.011*\"كورونا\" + 0.010*\"لا\" + 0.010*\"و\" + 0.009*\"ما\" + 0.007*\"..\" + 0.007*\"موسم\" + 0.007*\"،\" + 0.007*\"ولا\"\n",
            "2021-12-01 13:10:41,163 : INFO : topic diff=0.234333, rho=0.242536\n"
          ]
        }
      ]
    },
    {
      "cell_type": "code",
      "metadata": {
        "_cell_guid": "dfbb2723-ec7e-490e-8abd-fb646335bc55",
        "_uuid": "53e59fb13b5f55abb2e8158cdd0b244bcb055b3f",
        "id": "-Y0iA1LnERgO",
        "outputId": "ebbe3a11-1e85-4786-9820-427756b2d8b8",
        "colab": {
          "base_uri": "https://localhost:8080/"
        }
      },
      "source": [
        "#Show first n important word in the topics:\n",
        "lda.show_topics(total_topics,6)"
      ],
      "execution_count": 20,
      "outputs": [
        {
          "output_type": "execute_result",
          "data": {
            "text/plain": [
              "[(0,\n",
              "  '0.026*\"@mhrsd_care\" + 0.018*\"في\" + 0.014*\"من\" + 0.011*\"هل\" + 0.010*\"@mcgovsa\" + 0.007*\"او\"'),\n",
              " (1,\n",
              "  '0.021*\"في\" + 0.019*\"الله\" + 0.010*\"وزارة\" + 0.010*\"من\" + 0.008*\"ارجو\" + 0.006*\"على\"'),\n",
              " (2,\n",
              "  '0.036*\"عليكم\" + 0.035*\"السلام\" + 0.022*\"من\" + 0.018*\"هل\" + 0.016*\"@mcgovsa\" + 0.011*\"رقم\"'),\n",
              " (3,\n",
              "  '0.017*\"@mhrsd_care\" + 0.012*\"في\" + 0.010*\"@saudimomra\" + 0.009*\"العمل\" + 0.009*\"من\" + 0.009*\"@saudimoh\"'),\n",
              " (4,\n",
              "  '0.028*\"في\" + 0.023*\"من\" + 0.011*\"كورونا\" + 0.010*\"لا\" + 0.010*\"و\" + 0.009*\"ما\"')]"
            ]
          },
          "metadata": {},
          "execution_count": 20
        }
      ]
    },
    {
      "cell_type": "code",
      "metadata": {
        "_cell_guid": "5e31a267-03c5-4a4e-8a73-c72f7abd4644",
        "_uuid": "25d66c5df87a0c365dcd0725e779dc8724ab63af",
        "collapsed": true,
        "scrolled": true,
        "id": "Q4YI1lbSERgO"
      },
      "source": [
        "from collections import OrderedDict\n",
        "\n",
        "data_lda = {i: OrderedDict(lda.show_topic(i,25)) for i in range(total_topics)}\n",
        "#data_lda"
      ],
      "execution_count": 21,
      "outputs": []
    },
    {
      "cell_type": "code",
      "metadata": {
        "_cell_guid": "409fed91-48dd-4355-9587-a6299b63f181",
        "_uuid": "edeb3eedc9a10cc135c7bbef50fda042f330482d",
        "id": "LeMd53ByERgP",
        "outputId": "c7f749d8-25a1-480f-c5f9-bf90dde71c28",
        "colab": {
          "base_uri": "https://localhost:8080/"
        }
      },
      "source": [
        "import pandas as pd\n",
        "\n",
        "df_lda = pd.DataFrame(data_lda)\n",
        "print(df_lda.shape)\n",
        "df_lda = df_lda.fillna(0).T\n",
        "print(df_lda.shape)"
      ],
      "execution_count": 22,
      "outputs": [
        {
          "output_type": "stream",
          "name": "stdout",
          "text": [
            "(88, 5)\n",
            "(5, 88)\n"
          ]
        }
      ]
    },
    {
      "cell_type": "code",
      "metadata": {
        "_cell_guid": "6410b413-a0d4-49be-a2c4-6844cfc8cb0c",
        "_uuid": "f81dd0ed3ef908b520c2416cf626473a4dd8acd6",
        "id": "ygBpZinBERgP",
        "outputId": "362f13c5-1f36-4739-8f09-89f0179f1740",
        "colab": {
          "base_uri": "https://localhost:8080/",
          "height": 256
        }
      },
      "source": [
        "df_lda"
      ],
      "execution_count": 23,
      "outputs": [
        {
          "output_type": "execute_result",
          "data": {
            "text/html": [
              "<div>\n",
              "<style scoped>\n",
              "    .dataframe tbody tr th:only-of-type {\n",
              "        vertical-align: middle;\n",
              "    }\n",
              "\n",
              "    .dataframe tbody tr th {\n",
              "        vertical-align: top;\n",
              "    }\n",
              "\n",
              "    .dataframe thead th {\n",
              "        text-align: right;\n",
              "    }\n",
              "</style>\n",
              "<table border=\"1\" class=\"dataframe\">\n",
              "  <thead>\n",
              "    <tr style=\"text-align: right;\">\n",
              "      <th></th>\n",
              "      <th>@mhrsd_care</th>\n",
              "      <th>في</th>\n",
              "      <th>من</th>\n",
              "      <th>هل</th>\n",
              "      <th>@mcgovsa</th>\n",
              "      <th>او</th>\n",
              "      <th>؟</th>\n",
              "      <th>انا</th>\n",
              "      <th>يتم</th>\n",
              "      <th>على</th>\n",
              "      <th>عن</th>\n",
              "      <th>كورونا</th>\n",
              "      <th>ولم</th>\n",
              "      <th>و</th>\n",
              "      <th>ولا</th>\n",
              "      <th>متى</th>\n",
              "      <th>تصريح</th>\n",
              "      <th>مع</th>\n",
              "      <th>اليوم</th>\n",
              "      <th>ساند</th>\n",
              "      <th>وش</th>\n",
              "      <th>الحل</th>\n",
              "      <th>بسبب</th>\n",
              "      <th>اكثر</th>\n",
              "      <th>بفيروس</th>\n",
              "      <th>الله</th>\n",
              "      <th>وزارة</th>\n",
              "      <th>ارجو</th>\n",
              "      <th>الدعم</th>\n",
              "      <th>،</th>\n",
              "      <th>لا</th>\n",
              "      <th>سمحت</th>\n",
              "      <th>يا</th>\n",
              "      <th>كل</th>\n",
              "      <th>ان</th>\n",
              "      <th>ما</th>\n",
              "      <th>الصحة</th>\n",
              "      <th>وهل</th>\n",
              "      <th>يرد</th>\n",
              "      <th>عمل</th>\n",
              "      <th>...</th>\n",
              "      <th>رقم</th>\n",
              "      <th>كيف</th>\n",
              "      <th>عندي</th>\n",
              "      <th>تم</th>\n",
              "      <th>لي</th>\n",
              "      <th>الرد</th>\n",
              "      <th>@saudimoh937</th>\n",
              "      <th>ورحمة</th>\n",
              "      <th>الخاص</th>\n",
              "      <th>وبركاته</th>\n",
              "      <th>لم</th>\n",
              "      <th>الطلب</th>\n",
              "      <th>@saudimomra</th>\n",
              "      <th>العمل</th>\n",
              "      <th>@saudihousingcc</th>\n",
              "      <th>@moe_gov_sa</th>\n",
              "      <th>الان</th>\n",
              "      <th>طلب</th>\n",
              "      <th>لدي</th>\n",
              "      <th>حل</th>\n",
              "      <th>استفسار</th>\n",
              "      <th>الى</th>\n",
              "      <th>؟؟</th>\n",
              "      <th>@stc</th>\n",
              "      <th>@saudihousing</th>\n",
              "      <th>نقل</th>\n",
              "      <th>المبلغ</th>\n",
              "      <th>تطبيق</th>\n",
              "      <th>وتم</th>\n",
              "      <th>..</th>\n",
              "      <th>موسم</th>\n",
              "      <th>#كورونا</th>\n",
              "      <th>فيروس</th>\n",
              "      <th>خدمة</th>\n",
              "      <th>رياضة</th>\n",
              "      <th>اللي</th>\n",
              "      <th>رمضان</th>\n",
              "      <th>بعد</th>\n",
              "      <th>خلال</th>\n",
              "      <th>كان</th>\n",
              "    </tr>\n",
              "  </thead>\n",
              "  <tbody>\n",
              "    <tr>\n",
              "      <th>0</th>\n",
              "      <td>0.026229</td>\n",
              "      <td>0.017764</td>\n",
              "      <td>0.013996</td>\n",
              "      <td>0.010628</td>\n",
              "      <td>0.009512</td>\n",
              "      <td>0.006691</td>\n",
              "      <td>0.006337</td>\n",
              "      <td>0.006333</td>\n",
              "      <td>0.006235</td>\n",
              "      <td>0.006073</td>\n",
              "      <td>0.006008</td>\n",
              "      <td>0.005612</td>\n",
              "      <td>0.005078</td>\n",
              "      <td>0.004975</td>\n",
              "      <td>0.004432</td>\n",
              "      <td>0.004203</td>\n",
              "      <td>0.0042</td>\n",
              "      <td>0.004119</td>\n",
              "      <td>0.003598</td>\n",
              "      <td>0.003488</td>\n",
              "      <td>0.003301</td>\n",
              "      <td>0.003227</td>\n",
              "      <td>0.002939</td>\n",
              "      <td>0.002893</td>\n",
              "      <td>0.002878</td>\n",
              "      <td>0.000000</td>\n",
              "      <td>0.000000</td>\n",
              "      <td>0.000000</td>\n",
              "      <td>0.000000</td>\n",
              "      <td>0.000000</td>\n",
              "      <td>0.000000</td>\n",
              "      <td>0.000000</td>\n",
              "      <td>0.000000</td>\n",
              "      <td>0.000000</td>\n",
              "      <td>0.000000</td>\n",
              "      <td>0.000000</td>\n",
              "      <td>0.000000</td>\n",
              "      <td>0.000000</td>\n",
              "      <td>0.000000</td>\n",
              "      <td>0.000000</td>\n",
              "      <td>...</td>\n",
              "      <td>0.000000</td>\n",
              "      <td>0.000000</td>\n",
              "      <td>0.000000</td>\n",
              "      <td>0.000000</td>\n",
              "      <td>0.000000</td>\n",
              "      <td>0.000000</td>\n",
              "      <td>0.000000</td>\n",
              "      <td>0.000000</td>\n",
              "      <td>0.000000</td>\n",
              "      <td>0.000000</td>\n",
              "      <td>0.000000</td>\n",
              "      <td>0.000000</td>\n",
              "      <td>0.000000</td>\n",
              "      <td>0.000000</td>\n",
              "      <td>0.000000</td>\n",
              "      <td>0.000000</td>\n",
              "      <td>0.000000</td>\n",
              "      <td>0.00000</td>\n",
              "      <td>0.000000</td>\n",
              "      <td>0.000000</td>\n",
              "      <td>0.000000</td>\n",
              "      <td>0.000000</td>\n",
              "      <td>0.00000</td>\n",
              "      <td>0.000000</td>\n",
              "      <td>0.000000</td>\n",
              "      <td>0.000000</td>\n",
              "      <td>0.000000</td>\n",
              "      <td>0.000000</td>\n",
              "      <td>0.000000</td>\n",
              "      <td>0.000000</td>\n",
              "      <td>0.00000</td>\n",
              "      <td>0.00000</td>\n",
              "      <td>0.000000</td>\n",
              "      <td>0.000000</td>\n",
              "      <td>0.000000</td>\n",
              "      <td>0.000000</td>\n",
              "      <td>0.000000</td>\n",
              "      <td>0.000000</td>\n",
              "      <td>0.000000</td>\n",
              "      <td>0.000000</td>\n",
              "    </tr>\n",
              "    <tr>\n",
              "      <th>1</th>\n",
              "      <td>0.000000</td>\n",
              "      <td>0.020775</td>\n",
              "      <td>0.009887</td>\n",
              "      <td>0.000000</td>\n",
              "      <td>0.000000</td>\n",
              "      <td>0.000000</td>\n",
              "      <td>0.000000</td>\n",
              "      <td>0.000000</td>\n",
              "      <td>0.000000</td>\n",
              "      <td>0.006302</td>\n",
              "      <td>0.000000</td>\n",
              "      <td>0.000000</td>\n",
              "      <td>0.000000</td>\n",
              "      <td>0.002470</td>\n",
              "      <td>0.000000</td>\n",
              "      <td>0.000000</td>\n",
              "      <td>0.0000</td>\n",
              "      <td>0.000000</td>\n",
              "      <td>0.000000</td>\n",
              "      <td>0.000000</td>\n",
              "      <td>0.000000</td>\n",
              "      <td>0.000000</td>\n",
              "      <td>0.000000</td>\n",
              "      <td>0.000000</td>\n",
              "      <td>0.000000</td>\n",
              "      <td>0.019227</td>\n",
              "      <td>0.009952</td>\n",
              "      <td>0.007621</td>\n",
              "      <td>0.005958</td>\n",
              "      <td>0.005470</td>\n",
              "      <td>0.005055</td>\n",
              "      <td>0.004254</td>\n",
              "      <td>0.004217</td>\n",
              "      <td>0.003939</td>\n",
              "      <td>0.003923</td>\n",
              "      <td>0.003774</td>\n",
              "      <td>0.003658</td>\n",
              "      <td>0.003186</td>\n",
              "      <td>0.003137</td>\n",
              "      <td>0.003034</td>\n",
              "      <td>...</td>\n",
              "      <td>0.000000</td>\n",
              "      <td>0.000000</td>\n",
              "      <td>0.000000</td>\n",
              "      <td>0.000000</td>\n",
              "      <td>0.000000</td>\n",
              "      <td>0.000000</td>\n",
              "      <td>0.000000</td>\n",
              "      <td>0.000000</td>\n",
              "      <td>0.000000</td>\n",
              "      <td>0.000000</td>\n",
              "      <td>0.000000</td>\n",
              "      <td>0.000000</td>\n",
              "      <td>0.000000</td>\n",
              "      <td>0.000000</td>\n",
              "      <td>0.000000</td>\n",
              "      <td>0.000000</td>\n",
              "      <td>0.000000</td>\n",
              "      <td>0.00000</td>\n",
              "      <td>0.000000</td>\n",
              "      <td>0.000000</td>\n",
              "      <td>0.000000</td>\n",
              "      <td>0.000000</td>\n",
              "      <td>0.00000</td>\n",
              "      <td>0.000000</td>\n",
              "      <td>0.000000</td>\n",
              "      <td>0.000000</td>\n",
              "      <td>0.000000</td>\n",
              "      <td>0.000000</td>\n",
              "      <td>0.000000</td>\n",
              "      <td>0.000000</td>\n",
              "      <td>0.00000</td>\n",
              "      <td>0.00000</td>\n",
              "      <td>0.000000</td>\n",
              "      <td>0.000000</td>\n",
              "      <td>0.000000</td>\n",
              "      <td>0.000000</td>\n",
              "      <td>0.000000</td>\n",
              "      <td>0.000000</td>\n",
              "      <td>0.000000</td>\n",
              "      <td>0.000000</td>\n",
              "    </tr>\n",
              "    <tr>\n",
              "      <th>2</th>\n",
              "      <td>0.000000</td>\n",
              "      <td>0.010387</td>\n",
              "      <td>0.021738</td>\n",
              "      <td>0.018357</td>\n",
              "      <td>0.016348</td>\n",
              "      <td>0.000000</td>\n",
              "      <td>0.009548</td>\n",
              "      <td>0.003536</td>\n",
              "      <td>0.000000</td>\n",
              "      <td>0.010130</td>\n",
              "      <td>0.000000</td>\n",
              "      <td>0.000000</td>\n",
              "      <td>0.000000</td>\n",
              "      <td>0.004938</td>\n",
              "      <td>0.004798</td>\n",
              "      <td>0.000000</td>\n",
              "      <td>0.0000</td>\n",
              "      <td>0.000000</td>\n",
              "      <td>0.000000</td>\n",
              "      <td>0.000000</td>\n",
              "      <td>0.000000</td>\n",
              "      <td>0.000000</td>\n",
              "      <td>0.000000</td>\n",
              "      <td>0.000000</td>\n",
              "      <td>0.000000</td>\n",
              "      <td>0.003703</td>\n",
              "      <td>0.000000</td>\n",
              "      <td>0.000000</td>\n",
              "      <td>0.000000</td>\n",
              "      <td>0.000000</td>\n",
              "      <td>0.000000</td>\n",
              "      <td>0.000000</td>\n",
              "      <td>0.000000</td>\n",
              "      <td>0.000000</td>\n",
              "      <td>0.000000</td>\n",
              "      <td>0.005267</td>\n",
              "      <td>0.000000</td>\n",
              "      <td>0.000000</td>\n",
              "      <td>0.000000</td>\n",
              "      <td>0.000000</td>\n",
              "      <td>...</td>\n",
              "      <td>0.010708</td>\n",
              "      <td>0.008723</td>\n",
              "      <td>0.007304</td>\n",
              "      <td>0.006705</td>\n",
              "      <td>0.005615</td>\n",
              "      <td>0.005228</td>\n",
              "      <td>0.004684</td>\n",
              "      <td>0.004638</td>\n",
              "      <td>0.003924</td>\n",
              "      <td>0.003664</td>\n",
              "      <td>0.003644</td>\n",
              "      <td>0.003464</td>\n",
              "      <td>0.000000</td>\n",
              "      <td>0.000000</td>\n",
              "      <td>0.000000</td>\n",
              "      <td>0.000000</td>\n",
              "      <td>0.000000</td>\n",
              "      <td>0.00000</td>\n",
              "      <td>0.000000</td>\n",
              "      <td>0.000000</td>\n",
              "      <td>0.000000</td>\n",
              "      <td>0.000000</td>\n",
              "      <td>0.00000</td>\n",
              "      <td>0.000000</td>\n",
              "      <td>0.000000</td>\n",
              "      <td>0.000000</td>\n",
              "      <td>0.000000</td>\n",
              "      <td>0.000000</td>\n",
              "      <td>0.000000</td>\n",
              "      <td>0.000000</td>\n",
              "      <td>0.00000</td>\n",
              "      <td>0.00000</td>\n",
              "      <td>0.000000</td>\n",
              "      <td>0.000000</td>\n",
              "      <td>0.000000</td>\n",
              "      <td>0.000000</td>\n",
              "      <td>0.000000</td>\n",
              "      <td>0.000000</td>\n",
              "      <td>0.000000</td>\n",
              "      <td>0.000000</td>\n",
              "    </tr>\n",
              "    <tr>\n",
              "      <th>3</th>\n",
              "      <td>0.017123</td>\n",
              "      <td>0.012070</td>\n",
              "      <td>0.009084</td>\n",
              "      <td>0.000000</td>\n",
              "      <td>0.000000</td>\n",
              "      <td>0.000000</td>\n",
              "      <td>0.000000</td>\n",
              "      <td>0.002656</td>\n",
              "      <td>0.003220</td>\n",
              "      <td>0.007896</td>\n",
              "      <td>0.000000</td>\n",
              "      <td>0.000000</td>\n",
              "      <td>0.000000</td>\n",
              "      <td>0.000000</td>\n",
              "      <td>0.000000</td>\n",
              "      <td>0.000000</td>\n",
              "      <td>0.0000</td>\n",
              "      <td>0.000000</td>\n",
              "      <td>0.000000</td>\n",
              "      <td>0.000000</td>\n",
              "      <td>0.000000</td>\n",
              "      <td>0.000000</td>\n",
              "      <td>0.000000</td>\n",
              "      <td>0.000000</td>\n",
              "      <td>0.000000</td>\n",
              "      <td>0.006342</td>\n",
              "      <td>0.000000</td>\n",
              "      <td>0.000000</td>\n",
              "      <td>0.000000</td>\n",
              "      <td>0.000000</td>\n",
              "      <td>0.000000</td>\n",
              "      <td>0.000000</td>\n",
              "      <td>0.000000</td>\n",
              "      <td>0.000000</td>\n",
              "      <td>0.000000</td>\n",
              "      <td>0.000000</td>\n",
              "      <td>0.000000</td>\n",
              "      <td>0.000000</td>\n",
              "      <td>0.000000</td>\n",
              "      <td>0.000000</td>\n",
              "      <td>...</td>\n",
              "      <td>0.000000</td>\n",
              "      <td>0.000000</td>\n",
              "      <td>0.000000</td>\n",
              "      <td>0.000000</td>\n",
              "      <td>0.000000</td>\n",
              "      <td>0.000000</td>\n",
              "      <td>0.000000</td>\n",
              "      <td>0.000000</td>\n",
              "      <td>0.000000</td>\n",
              "      <td>0.000000</td>\n",
              "      <td>0.000000</td>\n",
              "      <td>0.000000</td>\n",
              "      <td>0.009697</td>\n",
              "      <td>0.009434</td>\n",
              "      <td>0.008885</td>\n",
              "      <td>0.008459</td>\n",
              "      <td>0.007463</td>\n",
              "      <td>0.00606</td>\n",
              "      <td>0.005872</td>\n",
              "      <td>0.005451</td>\n",
              "      <td>0.004906</td>\n",
              "      <td>0.004761</td>\n",
              "      <td>0.00467</td>\n",
              "      <td>0.004271</td>\n",
              "      <td>0.004143</td>\n",
              "      <td>0.003993</td>\n",
              "      <td>0.003636</td>\n",
              "      <td>0.002995</td>\n",
              "      <td>0.002847</td>\n",
              "      <td>0.000000</td>\n",
              "      <td>0.00000</td>\n",
              "      <td>0.00000</td>\n",
              "      <td>0.000000</td>\n",
              "      <td>0.000000</td>\n",
              "      <td>0.000000</td>\n",
              "      <td>0.000000</td>\n",
              "      <td>0.000000</td>\n",
              "      <td>0.000000</td>\n",
              "      <td>0.000000</td>\n",
              "      <td>0.000000</td>\n",
              "    </tr>\n",
              "    <tr>\n",
              "      <th>4</th>\n",
              "      <td>0.000000</td>\n",
              "      <td>0.027637</td>\n",
              "      <td>0.023160</td>\n",
              "      <td>0.000000</td>\n",
              "      <td>0.000000</td>\n",
              "      <td>0.000000</td>\n",
              "      <td>0.000000</td>\n",
              "      <td>0.000000</td>\n",
              "      <td>0.000000</td>\n",
              "      <td>0.004932</td>\n",
              "      <td>0.003658</td>\n",
              "      <td>0.011181</td>\n",
              "      <td>0.000000</td>\n",
              "      <td>0.009644</td>\n",
              "      <td>0.006674</td>\n",
              "      <td>0.000000</td>\n",
              "      <td>0.0000</td>\n",
              "      <td>0.003070</td>\n",
              "      <td>0.000000</td>\n",
              "      <td>0.000000</td>\n",
              "      <td>0.000000</td>\n",
              "      <td>0.000000</td>\n",
              "      <td>0.000000</td>\n",
              "      <td>0.000000</td>\n",
              "      <td>0.000000</td>\n",
              "      <td>0.000000</td>\n",
              "      <td>0.000000</td>\n",
              "      <td>0.000000</td>\n",
              "      <td>0.000000</td>\n",
              "      <td>0.006919</td>\n",
              "      <td>0.009867</td>\n",
              "      <td>0.000000</td>\n",
              "      <td>0.002307</td>\n",
              "      <td>0.005405</td>\n",
              "      <td>0.000000</td>\n",
              "      <td>0.008696</td>\n",
              "      <td>0.000000</td>\n",
              "      <td>0.000000</td>\n",
              "      <td>0.000000</td>\n",
              "      <td>0.000000</td>\n",
              "      <td>...</td>\n",
              "      <td>0.000000</td>\n",
              "      <td>0.000000</td>\n",
              "      <td>0.000000</td>\n",
              "      <td>0.000000</td>\n",
              "      <td>0.000000</td>\n",
              "      <td>0.000000</td>\n",
              "      <td>0.000000</td>\n",
              "      <td>0.000000</td>\n",
              "      <td>0.000000</td>\n",
              "      <td>0.000000</td>\n",
              "      <td>0.000000</td>\n",
              "      <td>0.000000</td>\n",
              "      <td>0.000000</td>\n",
              "      <td>0.000000</td>\n",
              "      <td>0.000000</td>\n",
              "      <td>0.000000</td>\n",
              "      <td>0.000000</td>\n",
              "      <td>0.00000</td>\n",
              "      <td>0.000000</td>\n",
              "      <td>0.000000</td>\n",
              "      <td>0.000000</td>\n",
              "      <td>0.000000</td>\n",
              "      <td>0.00000</td>\n",
              "      <td>0.000000</td>\n",
              "      <td>0.000000</td>\n",
              "      <td>0.000000</td>\n",
              "      <td>0.000000</td>\n",
              "      <td>0.000000</td>\n",
              "      <td>0.000000</td>\n",
              "      <td>0.007227</td>\n",
              "      <td>0.00708</td>\n",
              "      <td>0.00557</td>\n",
              "      <td>0.004078</td>\n",
              "      <td>0.003641</td>\n",
              "      <td>0.003278</td>\n",
              "      <td>0.003051</td>\n",
              "      <td>0.002914</td>\n",
              "      <td>0.002548</td>\n",
              "      <td>0.002474</td>\n",
              "      <td>0.002275</td>\n",
              "    </tr>\n",
              "  </tbody>\n",
              "</table>\n",
              "<p>5 rows × 88 columns</p>\n",
              "</div>"
            ],
            "text/plain": [
              "   @mhrsd_care        في        من  ...       بعد      خلال       كان\n",
              "0     0.026229  0.017764  0.013996  ...  0.000000  0.000000  0.000000\n",
              "1     0.000000  0.020775  0.009887  ...  0.000000  0.000000  0.000000\n",
              "2     0.000000  0.010387  0.021738  ...  0.000000  0.000000  0.000000\n",
              "3     0.017123  0.012070  0.009084  ...  0.000000  0.000000  0.000000\n",
              "4     0.000000  0.027637  0.023160  ...  0.002548  0.002474  0.002275\n",
              "\n",
              "[5 rows x 88 columns]"
            ]
          },
          "metadata": {},
          "execution_count": 23
        }
      ]
    },
    {
      "cell_type": "code",
      "metadata": {
        "_cell_guid": "bc653426-6a63-4b41-887d-92d270dc1168",
        "_uuid": "415d0d14427e94f9900776f3126d5bf8c2391beb",
        "id": "BSaj5kZ0ERgP",
        "outputId": "11c8d0f1-066f-495f-85dd-7e4a210ef124",
        "colab": {
          "base_uri": "https://localhost:8080/",
          "height": 797
        }
      },
      "source": [
        "!pip install pandas --upgrade\n",
        "!pip install pyLDAvis\n",
        "\n",
        "import pyLDAvis\n",
        "import pyLDAvis.gensim_models as gm \n",
        "\n",
        "pyLDAvis.enable_notebook()\n",
        "panel = gm.prepare(lda, corpus_lda, dictionary, mds='tsne')\n",
        "panel\n",
        "\n"
      ],
      "execution_count": 32,
      "outputs": [
        {
          "output_type": "stream",
          "name": "stdout",
          "text": [
            "Requirement already satisfied: pandas in /usr/local/lib/python3.7/dist-packages (1.3.4)\n",
            "Requirement already satisfied: numpy>=1.17.3 in /usr/local/lib/python3.7/dist-packages (from pandas) (1.21.4)\n",
            "Requirement already satisfied: python-dateutil>=2.7.3 in /usr/local/lib/python3.7/dist-packages (from pandas) (2.8.2)\n",
            "Requirement already satisfied: pytz>=2017.3 in /usr/local/lib/python3.7/dist-packages (from pandas) (2018.9)\n",
            "Requirement already satisfied: six>=1.5 in /usr/local/lib/python3.7/dist-packages (from python-dateutil>=2.7.3->pandas) (1.15.0)\n",
            "Requirement already satisfied: pyLDAvis in /usr/local/lib/python3.7/dist-packages (3.3.1)\n",
            "Requirement already satisfied: pandas>=1.2.0 in /usr/local/lib/python3.7/dist-packages (from pyLDAvis) (1.3.4)\n",
            "Requirement already satisfied: scipy in /usr/local/lib/python3.7/dist-packages (from pyLDAvis) (1.4.1)\n",
            "Requirement already satisfied: numexpr in /usr/local/lib/python3.7/dist-packages (from pyLDAvis) (2.7.3)\n",
            "Requirement already satisfied: sklearn in /usr/local/lib/python3.7/dist-packages (from pyLDAvis) (0.0)\n",
            "Requirement already satisfied: setuptools in /usr/local/lib/python3.7/dist-packages (from pyLDAvis) (57.4.0)\n",
            "Requirement already satisfied: funcy in /usr/local/lib/python3.7/dist-packages (from pyLDAvis) (1.16)\n",
            "Requirement already satisfied: scikit-learn in /usr/local/lib/python3.7/dist-packages (from pyLDAvis) (1.0.1)\n",
            "Requirement already satisfied: numpy>=1.20.0 in /usr/local/lib/python3.7/dist-packages (from pyLDAvis) (1.21.4)\n",
            "Requirement already satisfied: gensim in /usr/local/lib/python3.7/dist-packages (from pyLDAvis) (3.6.0)\n",
            "Requirement already satisfied: future in /usr/local/lib/python3.7/dist-packages (from pyLDAvis) (0.16.0)\n",
            "Requirement already satisfied: joblib in /usr/local/lib/python3.7/dist-packages (from pyLDAvis) (1.1.0)\n",
            "Requirement already satisfied: jinja2 in /usr/local/lib/python3.7/dist-packages (from pyLDAvis) (2.11.3)\n",
            "Requirement already satisfied: pytz>=2017.3 in /usr/local/lib/python3.7/dist-packages (from pandas>=1.2.0->pyLDAvis) (2018.9)\n",
            "Requirement already satisfied: python-dateutil>=2.7.3 in /usr/local/lib/python3.7/dist-packages (from pandas>=1.2.0->pyLDAvis) (2.8.2)\n",
            "Requirement already satisfied: six>=1.5 in /usr/local/lib/python3.7/dist-packages (from python-dateutil>=2.7.3->pandas>=1.2.0->pyLDAvis) (1.15.0)\n",
            "Requirement already satisfied: smart-open>=1.2.1 in /usr/local/lib/python3.7/dist-packages (from gensim->pyLDAvis) (5.2.1)\n",
            "Requirement already satisfied: MarkupSafe>=0.23 in /usr/local/lib/python3.7/dist-packages (from jinja2->pyLDAvis) (2.0.1)\n",
            "Requirement already satisfied: threadpoolctl>=2.0.0 in /usr/local/lib/python3.7/dist-packages (from scikit-learn->pyLDAvis) (3.0.0)\n"
          ]
        },
        {
          "output_type": "error",
          "ename": "TypeError",
          "evalue": "ignored",
          "traceback": [
            "\u001b[0;31m---------------------------------------------------------------------------\u001b[0m",
            "\u001b[0;31mTypeError\u001b[0m                                 Traceback (most recent call last)",
            "\u001b[0;32m<ipython-input-32-8f97140f0ab7>\u001b[0m in \u001b[0;36m<module>\u001b[0;34m()\u001b[0m\n\u001b[1;32m      6\u001b[0m \u001b[0;34m\u001b[0m\u001b[0m\n\u001b[1;32m      7\u001b[0m \u001b[0mpyLDAvis\u001b[0m\u001b[0;34m.\u001b[0m\u001b[0menable_notebook\u001b[0m\u001b[0;34m(\u001b[0m\u001b[0;34m)\u001b[0m\u001b[0;34m\u001b[0m\u001b[0;34m\u001b[0m\u001b[0m\n\u001b[0;32m----> 8\u001b[0;31m \u001b[0mpanel\u001b[0m \u001b[0;34m=\u001b[0m \u001b[0mgm\u001b[0m\u001b[0;34m.\u001b[0m\u001b[0mprepare\u001b[0m\u001b[0;34m(\u001b[0m\u001b[0mlda\u001b[0m\u001b[0;34m,\u001b[0m \u001b[0mcorpus_lda\u001b[0m\u001b[0;34m,\u001b[0m \u001b[0mdictionary\u001b[0m\u001b[0;34m,\u001b[0m \u001b[0mmds\u001b[0m\u001b[0;34m=\u001b[0m\u001b[0;34m'tsne'\u001b[0m\u001b[0;34m)\u001b[0m\u001b[0;34m\u001b[0m\u001b[0;34m\u001b[0m\u001b[0m\n\u001b[0m\u001b[1;32m      9\u001b[0m \u001b[0mpanel\u001b[0m\u001b[0;34m\u001b[0m\u001b[0;34m\u001b[0m\u001b[0m\n\u001b[1;32m     10\u001b[0m \u001b[0;34m\u001b[0m\u001b[0m\n",
            "\u001b[0;32m/usr/local/lib/python3.7/dist-packages/pyLDAvis/gensim_models.py\u001b[0m in \u001b[0;36mprepare\u001b[0;34m(topic_model, corpus, dictionary, doc_topic_dist, **kwargs)\u001b[0m\n\u001b[1;32m    121\u001b[0m     \"\"\"\n\u001b[1;32m    122\u001b[0m     \u001b[0mopts\u001b[0m \u001b[0;34m=\u001b[0m \u001b[0mfp\u001b[0m\u001b[0;34m.\u001b[0m\u001b[0mmerge\u001b[0m\u001b[0;34m(\u001b[0m\u001b[0m_extract_data\u001b[0m\u001b[0;34m(\u001b[0m\u001b[0mtopic_model\u001b[0m\u001b[0;34m,\u001b[0m \u001b[0mcorpus\u001b[0m\u001b[0;34m,\u001b[0m \u001b[0mdictionary\u001b[0m\u001b[0;34m,\u001b[0m \u001b[0mdoc_topic_dist\u001b[0m\u001b[0;34m)\u001b[0m\u001b[0;34m,\u001b[0m \u001b[0mkwargs\u001b[0m\u001b[0;34m)\u001b[0m\u001b[0;34m\u001b[0m\u001b[0;34m\u001b[0m\u001b[0m\n\u001b[0;32m--> 123\u001b[0;31m     \u001b[0;32mreturn\u001b[0m \u001b[0mpyLDAvis\u001b[0m\u001b[0;34m.\u001b[0m\u001b[0mprepare\u001b[0m\u001b[0;34m(\u001b[0m\u001b[0;34m**\u001b[0m\u001b[0mopts\u001b[0m\u001b[0;34m)\u001b[0m\u001b[0;34m\u001b[0m\u001b[0;34m\u001b[0m\u001b[0m\n\u001b[0m",
            "\u001b[0;32m/usr/local/lib/python3.7/dist-packages/pyLDAvis/_prepare.py\u001b[0m in \u001b[0;36mprepare\u001b[0;34m(topic_term_dists, doc_topic_dists, doc_lengths, vocab, term_frequency, R, lambda_step, mds, n_jobs, plot_opts, sort_topics, start_index)\u001b[0m\n\u001b[1;32m    413\u001b[0m     \u001b[0mdoc_lengths\u001b[0m \u001b[0;34m=\u001b[0m \u001b[0m_series_with_name\u001b[0m\u001b[0;34m(\u001b[0m\u001b[0mdoc_lengths\u001b[0m\u001b[0;34m,\u001b[0m \u001b[0;34m'doc_length'\u001b[0m\u001b[0;34m)\u001b[0m\u001b[0;34m\u001b[0m\u001b[0;34m\u001b[0m\u001b[0m\n\u001b[1;32m    414\u001b[0m     \u001b[0mvocab\u001b[0m \u001b[0;34m=\u001b[0m \u001b[0m_series_with_name\u001b[0m\u001b[0;34m(\u001b[0m\u001b[0mvocab\u001b[0m\u001b[0;34m,\u001b[0m \u001b[0;34m'vocab'\u001b[0m\u001b[0;34m)\u001b[0m\u001b[0;34m\u001b[0m\u001b[0;34m\u001b[0m\u001b[0m\n\u001b[0;32m--> 415\u001b[0;31m     \u001b[0m_input_validate\u001b[0m\u001b[0;34m(\u001b[0m\u001b[0mtopic_term_dists\u001b[0m\u001b[0;34m,\u001b[0m \u001b[0mdoc_topic_dists\u001b[0m\u001b[0;34m,\u001b[0m \u001b[0mdoc_lengths\u001b[0m\u001b[0;34m,\u001b[0m \u001b[0mvocab\u001b[0m\u001b[0;34m,\u001b[0m \u001b[0mterm_frequency\u001b[0m\u001b[0;34m)\u001b[0m\u001b[0;34m\u001b[0m\u001b[0;34m\u001b[0m\u001b[0m\n\u001b[0m\u001b[1;32m    416\u001b[0m     \u001b[0mR\u001b[0m \u001b[0;34m=\u001b[0m \u001b[0mmin\u001b[0m\u001b[0;34m(\u001b[0m\u001b[0mR\u001b[0m\u001b[0;34m,\u001b[0m \u001b[0mlen\u001b[0m\u001b[0;34m(\u001b[0m\u001b[0mvocab\u001b[0m\u001b[0;34m)\u001b[0m\u001b[0;34m)\u001b[0m\u001b[0;34m\u001b[0m\u001b[0;34m\u001b[0m\u001b[0m\n\u001b[1;32m    417\u001b[0m \u001b[0;34m\u001b[0m\u001b[0m\n",
            "\u001b[0;32m/usr/local/lib/python3.7/dist-packages/pyLDAvis/_prepare.py\u001b[0m in \u001b[0;36m_input_validate\u001b[0;34m(*args)\u001b[0m\n\u001b[1;32m     70\u001b[0m \u001b[0;34m\u001b[0m\u001b[0m\n\u001b[1;32m     71\u001b[0m \u001b[0;32mdef\u001b[0m \u001b[0m_input_validate\u001b[0m\u001b[0;34m(\u001b[0m\u001b[0;34m*\u001b[0m\u001b[0margs\u001b[0m\u001b[0;34m)\u001b[0m\u001b[0;34m:\u001b[0m\u001b[0;34m\u001b[0m\u001b[0;34m\u001b[0m\u001b[0m\n\u001b[0;32m---> 72\u001b[0;31m     \u001b[0mres\u001b[0m \u001b[0;34m=\u001b[0m \u001b[0m_input_check\u001b[0m\u001b[0;34m(\u001b[0m\u001b[0;34m*\u001b[0m\u001b[0margs\u001b[0m\u001b[0;34m)\u001b[0m\u001b[0;34m\u001b[0m\u001b[0;34m\u001b[0m\u001b[0m\n\u001b[0m\u001b[1;32m     73\u001b[0m     \u001b[0;32mif\u001b[0m \u001b[0mres\u001b[0m\u001b[0;34m:\u001b[0m\u001b[0;34m\u001b[0m\u001b[0;34m\u001b[0m\u001b[0m\n\u001b[1;32m     74\u001b[0m         \u001b[0;32mraise\u001b[0m \u001b[0mValidationError\u001b[0m\u001b[0;34m(\u001b[0m\u001b[0;34m'\\n'\u001b[0m \u001b[0;34m+\u001b[0m \u001b[0;34m'\\n'\u001b[0m\u001b[0;34m.\u001b[0m\u001b[0mjoin\u001b[0m\u001b[0;34m(\u001b[0m\u001b[0;34m[\u001b[0m\u001b[0;34m' * '\u001b[0m \u001b[0;34m+\u001b[0m \u001b[0ms\u001b[0m \u001b[0;32mfor\u001b[0m \u001b[0ms\u001b[0m \u001b[0;32min\u001b[0m \u001b[0mres\u001b[0m\u001b[0;34m]\u001b[0m\u001b[0;34m)\u001b[0m\u001b[0;34m)\u001b[0m\u001b[0;34m\u001b[0m\u001b[0;34m\u001b[0m\u001b[0m\n",
            "\u001b[0;32m/usr/local/lib/python3.7/dist-packages/pyLDAvis/_prepare.py\u001b[0m in \u001b[0;36m_input_check\u001b[0;34m(topic_term_dists, doc_topic_dists, doc_lengths, vocab, term_frequency)\u001b[0m\n\u001b[1;32m     59\u001b[0m         \u001b[0merr\u001b[0m\u001b[0;34m(\u001b[0m\u001b[0merr_msg\u001b[0m\u001b[0;34m)\u001b[0m\u001b[0;34m\u001b[0m\u001b[0;34m\u001b[0m\u001b[0m\n\u001b[1;32m     60\u001b[0m \u001b[0;34m\u001b[0m\u001b[0m\n\u001b[0;32m---> 61\u001b[0;31m     \u001b[0;32mif\u001b[0m \u001b[0m__num_dist_rows__\u001b[0m\u001b[0;34m(\u001b[0m\u001b[0mtopic_term_dists\u001b[0m\u001b[0;34m)\u001b[0m \u001b[0;34m!=\u001b[0m \u001b[0mttds\u001b[0m\u001b[0;34m[\u001b[0m\u001b[0;36m0\u001b[0m\u001b[0;34m]\u001b[0m\u001b[0;34m:\u001b[0m\u001b[0;34m\u001b[0m\u001b[0;34m\u001b[0m\u001b[0m\n\u001b[0m\u001b[1;32m     62\u001b[0m         \u001b[0merr\u001b[0m\u001b[0;34m(\u001b[0m\u001b[0;34m'Not all rows (distributions) in topic_term_dists sum to 1.'\u001b[0m\u001b[0;34m)\u001b[0m\u001b[0;34m\u001b[0m\u001b[0;34m\u001b[0m\u001b[0m\n\u001b[1;32m     63\u001b[0m \u001b[0;34m\u001b[0m\u001b[0m\n",
            "\u001b[0;32m/usr/local/lib/python3.7/dist-packages/pyLDAvis/_prepare.py\u001b[0m in \u001b[0;36m__num_dist_rows__\u001b[0;34m(array, ndigits)\u001b[0m\n\u001b[1;32m     23\u001b[0m \u001b[0;34m\u001b[0m\u001b[0m\n\u001b[1;32m     24\u001b[0m \u001b[0;32mdef\u001b[0m \u001b[0m__num_dist_rows__\u001b[0m\u001b[0;34m(\u001b[0m\u001b[0marray\u001b[0m\u001b[0;34m,\u001b[0m \u001b[0mndigits\u001b[0m\u001b[0;34m=\u001b[0m\u001b[0;36m2\u001b[0m\u001b[0;34m)\u001b[0m\u001b[0;34m:\u001b[0m\u001b[0;34m\u001b[0m\u001b[0;34m\u001b[0m\u001b[0m\n\u001b[0;32m---> 25\u001b[0;31m     \u001b[0;32mreturn\u001b[0m \u001b[0marray\u001b[0m\u001b[0;34m.\u001b[0m\u001b[0mshape\u001b[0m\u001b[0;34m[\u001b[0m\u001b[0;36m0\u001b[0m\u001b[0;34m]\u001b[0m \u001b[0;34m-\u001b[0m \u001b[0mint\u001b[0m\u001b[0;34m(\u001b[0m\u001b[0;34m(\u001b[0m\u001b[0mpd\u001b[0m\u001b[0;34m.\u001b[0m\u001b[0mDataFrame\u001b[0m\u001b[0;34m(\u001b[0m\u001b[0marray\u001b[0m\u001b[0;34m)\u001b[0m\u001b[0;34m.\u001b[0m\u001b[0msum\u001b[0m\u001b[0;34m(\u001b[0m\u001b[0maxis\u001b[0m\u001b[0;34m=\u001b[0m\u001b[0;36m1\u001b[0m\u001b[0;34m)\u001b[0m \u001b[0;34m<\u001b[0m \u001b[0;36m0.999\u001b[0m\u001b[0;34m)\u001b[0m\u001b[0;34m.\u001b[0m\u001b[0msum\u001b[0m\u001b[0;34m(\u001b[0m\u001b[0;34m)\u001b[0m\u001b[0;34m)\u001b[0m\u001b[0;34m\u001b[0m\u001b[0;34m\u001b[0m\u001b[0m\n\u001b[0m\u001b[1;32m     26\u001b[0m \u001b[0;34m\u001b[0m\u001b[0m\n\u001b[1;32m     27\u001b[0m \u001b[0;34m\u001b[0m\u001b[0m\n",
            "\u001b[0;32m/usr/local/lib/python3.7/dist-packages/pandas/core/ops/common.py\u001b[0m in \u001b[0;36mnew_method\u001b[0;34m(self, other)\u001b[0m\n\u001b[1;32m     63\u001b[0m                     \u001b[0;32mbreak\u001b[0m\u001b[0;34m\u001b[0m\u001b[0;34m\u001b[0m\u001b[0m\n\u001b[1;32m     64\u001b[0m                 \u001b[0;32mif\u001b[0m \u001b[0misinstance\u001b[0m\u001b[0;34m(\u001b[0m\u001b[0mother\u001b[0m\u001b[0;34m,\u001b[0m \u001b[0mcls\u001b[0m\u001b[0;34m)\u001b[0m\u001b[0;34m:\u001b[0m\u001b[0;34m\u001b[0m\u001b[0;34m\u001b[0m\u001b[0m\n\u001b[0;32m---> 65\u001b[0;31m                     \u001b[0;32mreturn\u001b[0m \u001b[0mNotImplemented\u001b[0m\u001b[0;34m\u001b[0m\u001b[0;34m\u001b[0m\u001b[0m\n\u001b[0m\u001b[1;32m     66\u001b[0m \u001b[0;34m\u001b[0m\u001b[0m\n\u001b[1;32m     67\u001b[0m         \u001b[0mother\u001b[0m \u001b[0;34m=\u001b[0m \u001b[0mitem_from_zerodim\u001b[0m\u001b[0;34m(\u001b[0m\u001b[0mother\u001b[0m\u001b[0;34m)\u001b[0m\u001b[0;34m\u001b[0m\u001b[0;34m\u001b[0m\u001b[0m\n",
            "\u001b[0;32m/usr/local/lib/python3.7/dist-packages/pandas/core/ops/__init__.py\u001b[0m in \u001b[0;36mwrapper\u001b[0;34m(self, other)\u001b[0m\n\u001b[1;32m    368\u001b[0m     \u001b[0;31m#  to avoid constructing two potentially large/sparse DataFrames\u001b[0m\u001b[0;34m\u001b[0m\u001b[0;34m\u001b[0m\u001b[0;34m\u001b[0m\u001b[0m\n\u001b[1;32m    369\u001b[0m     join_columns, _, _ = left.columns.join(\n\u001b[0;32m--> 370\u001b[0;31m         \u001b[0mright\u001b[0m\u001b[0;34m.\u001b[0m\u001b[0mcolumns\u001b[0m\u001b[0;34m,\u001b[0m \u001b[0mhow\u001b[0m\u001b[0;34m=\u001b[0m\u001b[0;34m\"outer\"\u001b[0m\u001b[0;34m,\u001b[0m \u001b[0mlevel\u001b[0m\u001b[0;34m=\u001b[0m\u001b[0;32mNone\u001b[0m\u001b[0;34m,\u001b[0m \u001b[0mreturn_indexers\u001b[0m\u001b[0;34m=\u001b[0m\u001b[0;32mTrue\u001b[0m\u001b[0;34m\u001b[0m\u001b[0;34m\u001b[0m\u001b[0m\n\u001b[0m\u001b[1;32m    371\u001b[0m     )\n\u001b[1;32m    372\u001b[0m \u001b[0;34m\u001b[0m\u001b[0m\n",
            "\u001b[0;32m/usr/local/lib/python3.7/dist-packages/pandas/core/ops/array_ops.py\u001b[0m in \u001b[0;36mcomparison_op\u001b[0;34m(left, right, op)\u001b[0m\n\u001b[1;32m    249\u001b[0m     \u001b[0mrvalues\u001b[0m \u001b[0;34m=\u001b[0m \u001b[0mensure_wrapped_if_datetimelike\u001b[0m\u001b[0;34m(\u001b[0m\u001b[0mright\u001b[0m\u001b[0;34m)\u001b[0m\u001b[0;34m\u001b[0m\u001b[0;34m\u001b[0m\u001b[0m\n\u001b[1;32m    250\u001b[0m \u001b[0;34m\u001b[0m\u001b[0m\n\u001b[0;32m--> 251\u001b[0;31m     \u001b[0mrvalues\u001b[0m \u001b[0;34m=\u001b[0m \u001b[0mlib\u001b[0m\u001b[0;34m.\u001b[0m\u001b[0mitem_from_zerodim\u001b[0m\u001b[0;34m(\u001b[0m\u001b[0mrvalues\u001b[0m\u001b[0;34m)\u001b[0m\u001b[0;34m\u001b[0m\u001b[0;34m\u001b[0m\u001b[0m\n\u001b[0m\u001b[1;32m    252\u001b[0m     \u001b[0;32mif\u001b[0m \u001b[0misinstance\u001b[0m\u001b[0;34m(\u001b[0m\u001b[0mrvalues\u001b[0m\u001b[0;34m,\u001b[0m \u001b[0mlist\u001b[0m\u001b[0;34m)\u001b[0m\u001b[0;34m:\u001b[0m\u001b[0;34m\u001b[0m\u001b[0;34m\u001b[0m\u001b[0m\n\u001b[1;32m    253\u001b[0m         \u001b[0;31m# TODO: same for tuples?\u001b[0m\u001b[0;34m\u001b[0m\u001b[0;34m\u001b[0m\u001b[0;34m\u001b[0m\u001b[0m\n",
            "\u001b[0;32m/usr/local/lib/python3.7/dist-packages/pandas/core/ops/array_ops.py\u001b[0m in \u001b[0;36mna_arithmetic_op\u001b[0;34m(left, right, op, is_cmp)\u001b[0m\n\u001b[1;32m    138\u001b[0m \u001b[0;32mdef\u001b[0m \u001b[0m_na_arithmetic_op\u001b[0m\u001b[0;34m(\u001b[0m\u001b[0mleft\u001b[0m\u001b[0;34m,\u001b[0m \u001b[0mright\u001b[0m\u001b[0;34m,\u001b[0m \u001b[0mop\u001b[0m\u001b[0;34m,\u001b[0m \u001b[0mis_cmp\u001b[0m\u001b[0;34m:\u001b[0m \u001b[0mbool\u001b[0m \u001b[0;34m=\u001b[0m \u001b[0;32mFalse\u001b[0m\u001b[0;34m)\u001b[0m\u001b[0;34m:\u001b[0m\u001b[0;34m\u001b[0m\u001b[0;34m\u001b[0m\u001b[0m\n\u001b[1;32m    139\u001b[0m     \"\"\"\n\u001b[0;32m--> 140\u001b[0;31m     \u001b[0mReturn\u001b[0m \u001b[0mthe\u001b[0m \u001b[0mresult\u001b[0m \u001b[0mof\u001b[0m \u001b[0mevaluating\u001b[0m \u001b[0mop\u001b[0m \u001b[0mon\u001b[0m \u001b[0mthe\u001b[0m \u001b[0mpassed\u001b[0m \u001b[0;32min\u001b[0m \u001b[0mvalues\u001b[0m\u001b[0;34m.\u001b[0m\u001b[0;34m\u001b[0m\u001b[0;34m\u001b[0m\u001b[0m\n\u001b[0m\u001b[1;32m    141\u001b[0m \u001b[0;34m\u001b[0m\u001b[0m\n\u001b[1;32m    142\u001b[0m     \u001b[0mIf\u001b[0m \u001b[0mnative\u001b[0m \u001b[0mtypes\u001b[0m \u001b[0mare\u001b[0m \u001b[0;32mnot\u001b[0m \u001b[0mcompatible\u001b[0m\u001b[0;34m,\u001b[0m \u001b[0;32mtry\u001b[0m \u001b[0mcoercion\u001b[0m \u001b[0mto\u001b[0m \u001b[0mobject\u001b[0m \u001b[0mdtype\u001b[0m\u001b[0;34m.\u001b[0m\u001b[0;34m\u001b[0m\u001b[0;34m\u001b[0m\u001b[0m\n",
            "\u001b[0;32m/usr/local/lib/python3.7/dist-packages/pandas/core/computation/expressions.py\u001b[0m in \u001b[0;36m<module>\u001b[0;34m()\u001b[0m\n\u001b[1;32m     17\u001b[0m \u001b[0;32mfrom\u001b[0m \u001b[0mpandas\u001b[0m\u001b[0;34m.\u001b[0m\u001b[0m_typing\u001b[0m \u001b[0;32mimport\u001b[0m \u001b[0mFuncType\u001b[0m\u001b[0;34m\u001b[0m\u001b[0;34m\u001b[0m\u001b[0m\n\u001b[1;32m     18\u001b[0m \u001b[0;34m\u001b[0m\u001b[0m\n\u001b[0;32m---> 19\u001b[0;31m \u001b[0;32mfrom\u001b[0m \u001b[0mpandas\u001b[0m\u001b[0;34m.\u001b[0m\u001b[0mcore\u001b[0m\u001b[0;34m.\u001b[0m\u001b[0mcomputation\u001b[0m\u001b[0;34m.\u001b[0m\u001b[0mcheck\u001b[0m \u001b[0;32mimport\u001b[0m \u001b[0mNUMEXPR_INSTALLED\u001b[0m\u001b[0;34m\u001b[0m\u001b[0;34m\u001b[0m\u001b[0m\n\u001b[0m\u001b[1;32m     20\u001b[0m \u001b[0;32mfrom\u001b[0m \u001b[0mpandas\u001b[0m\u001b[0;34m.\u001b[0m\u001b[0mcore\u001b[0m\u001b[0;34m.\u001b[0m\u001b[0mops\u001b[0m \u001b[0;32mimport\u001b[0m \u001b[0mroperator\u001b[0m\u001b[0;34m\u001b[0m\u001b[0;34m\u001b[0m\u001b[0m\n\u001b[1;32m     21\u001b[0m \u001b[0;34m\u001b[0m\u001b[0m\n",
            "\u001b[0;32m/usr/local/lib/python3.7/dist-packages/pandas/core/computation/check.py\u001b[0m in \u001b[0;36m<module>\u001b[0;34m()\u001b[0m\n\u001b[1;32m      1\u001b[0m \u001b[0;32mfrom\u001b[0m \u001b[0mpandas\u001b[0m\u001b[0;34m.\u001b[0m\u001b[0mcompat\u001b[0m\u001b[0;34m.\u001b[0m\u001b[0m_optional\u001b[0m \u001b[0;32mimport\u001b[0m \u001b[0mimport_optional_dependency\u001b[0m\u001b[0;34m\u001b[0m\u001b[0;34m\u001b[0m\u001b[0m\n\u001b[1;32m      2\u001b[0m \u001b[0;34m\u001b[0m\u001b[0m\n\u001b[0;32m----> 3\u001b[0;31m \u001b[0mne\u001b[0m \u001b[0;34m=\u001b[0m \u001b[0mimport_optional_dependency\u001b[0m\u001b[0;34m(\u001b[0m\u001b[0;34m\"numexpr\"\u001b[0m\u001b[0;34m,\u001b[0m \u001b[0merrors\u001b[0m\u001b[0;34m=\u001b[0m\u001b[0;34m\"warn\"\u001b[0m\u001b[0;34m)\u001b[0m\u001b[0;34m\u001b[0m\u001b[0;34m\u001b[0m\u001b[0m\n\u001b[0m\u001b[1;32m      4\u001b[0m \u001b[0mNUMEXPR_INSTALLED\u001b[0m \u001b[0;34m=\u001b[0m \u001b[0mne\u001b[0m \u001b[0;32mis\u001b[0m \u001b[0;32mnot\u001b[0m \u001b[0;32mNone\u001b[0m\u001b[0;34m\u001b[0m\u001b[0;34m\u001b[0m\u001b[0m\n\u001b[1;32m      5\u001b[0m \u001b[0;32mif\u001b[0m \u001b[0mNUMEXPR_INSTALLED\u001b[0m\u001b[0;34m:\u001b[0m\u001b[0;34m\u001b[0m\u001b[0;34m\u001b[0m\u001b[0m\n",
            "\u001b[0;31mTypeError\u001b[0m: import_optional_dependency() got an unexpected keyword argument 'errors'"
          ]
        }
      ]
    },
    {
      "cell_type": "code",
      "metadata": {
        "id": "W5fUpZTFERgP",
        "outputId": "b4939c84-dd33-4b79-8b8f-b512da7835a2",
        "colab": {
          "base_uri": "https://localhost:8080/"
        }
      },
      "source": [
        "lda.print_topics(num_topics=7)"
      ],
      "execution_count": 33,
      "outputs": [
        {
          "output_type": "stream",
          "name": "stderr",
          "text": [
            "2021-12-01 13:22:04,575 : INFO : topic #0 (0.200): 0.026*\"@mhrsd_care\" + 0.018*\"في\" + 0.014*\"من\" + 0.011*\"هل\" + 0.010*\"@mcgovsa\" + 0.007*\"او\" + 0.006*\"؟\" + 0.006*\"انا\" + 0.006*\"يتم\" + 0.006*\"على\"\n",
            "2021-12-01 13:22:04,585 : INFO : topic #1 (0.200): 0.021*\"في\" + 0.019*\"الله\" + 0.010*\"وزارة\" + 0.010*\"من\" + 0.008*\"ارجو\" + 0.006*\"على\" + 0.006*\"الدعم\" + 0.005*\"،\" + 0.005*\"لا\" + 0.004*\"سمحت\"\n",
            "2021-12-01 13:22:04,589 : INFO : topic #2 (0.200): 0.036*\"عليكم\" + 0.035*\"السلام\" + 0.022*\"من\" + 0.018*\"هل\" + 0.016*\"@mcgovsa\" + 0.011*\"رقم\" + 0.010*\"في\" + 0.010*\"على\" + 0.010*\"؟\" + 0.009*\"كيف\"\n",
            "2021-12-01 13:22:04,593 : INFO : topic #3 (0.200): 0.017*\"@mhrsd_care\" + 0.012*\"في\" + 0.010*\"@saudimomra\" + 0.009*\"العمل\" + 0.009*\"من\" + 0.009*\"@saudimoh\" + 0.009*\"@saudihousingcc\" + 0.008*\"@moe_gov_sa\" + 0.008*\"على\" + 0.007*\"الان\"\n",
            "2021-12-01 13:22:04,598 : INFO : topic #4 (0.200): 0.028*\"في\" + 0.023*\"من\" + 0.011*\"كورونا\" + 0.010*\"لا\" + 0.010*\"و\" + 0.009*\"ما\" + 0.007*\"..\" + 0.007*\"موسم\" + 0.007*\"،\" + 0.007*\"ولا\"\n"
          ]
        },
        {
          "output_type": "execute_result",
          "data": {
            "text/plain": [
              "[(0,\n",
              "  '0.026*\"@mhrsd_care\" + 0.018*\"في\" + 0.014*\"من\" + 0.011*\"هل\" + 0.010*\"@mcgovsa\" + 0.007*\"او\" + 0.006*\"؟\" + 0.006*\"انا\" + 0.006*\"يتم\" + 0.006*\"على\"'),\n",
              " (1,\n",
              "  '0.021*\"في\" + 0.019*\"الله\" + 0.010*\"وزارة\" + 0.010*\"من\" + 0.008*\"ارجو\" + 0.006*\"على\" + 0.006*\"الدعم\" + 0.005*\"،\" + 0.005*\"لا\" + 0.004*\"سمحت\"'),\n",
              " (2,\n",
              "  '0.036*\"عليكم\" + 0.035*\"السلام\" + 0.022*\"من\" + 0.018*\"هل\" + 0.016*\"@mcgovsa\" + 0.011*\"رقم\" + 0.010*\"في\" + 0.010*\"على\" + 0.010*\"؟\" + 0.009*\"كيف\"'),\n",
              " (3,\n",
              "  '0.017*\"@mhrsd_care\" + 0.012*\"في\" + 0.010*\"@saudimomra\" + 0.009*\"العمل\" + 0.009*\"من\" + 0.009*\"@saudimoh\" + 0.009*\"@saudihousingcc\" + 0.008*\"@moe_gov_sa\" + 0.008*\"على\" + 0.007*\"الان\"'),\n",
              " (4,\n",
              "  '0.028*\"في\" + 0.023*\"من\" + 0.011*\"كورونا\" + 0.010*\"لا\" + 0.010*\"و\" + 0.009*\"ما\" + 0.007*\"..\" + 0.007*\"موسم\" + 0.007*\"،\" + 0.007*\"ولا\"')]"
            ]
          },
          "metadata": {},
          "execution_count": 33
        }
      ]
    },
    {
      "cell_type": "code",
      "metadata": {
        "collapsed": true,
        "id": "GTBHYMioERgQ"
      },
      "source": [
        "#datafile = 'Bahrain_tweets_cleaned.csv'\n",
        "datafile = '/content/Sentiments_and_Topic.csv'"
      ],
      "execution_count": 34,
      "outputs": []
    }
  ]
}