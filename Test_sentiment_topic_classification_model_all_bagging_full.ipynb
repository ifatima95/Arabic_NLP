{
  "cells": [
    {
      "cell_type": "markdown",
      "metadata": {
        "id": "view-in-github",
        "colab_type": "text"
      },
      "source": [
        "<a href=\"https://colab.research.google.com/github/ifatima95/Arabic_NLP/blob/main/Test_sentiment_topic_classification_model_all_bagging_full.ipynb\" target=\"_parent\"><img src=\"https://colab.research.google.com/assets/colab-badge.svg\" alt=\"Open In Colab\"/></a>"
      ]
    },
    {
      "cell_type": "markdown",
      "metadata": {
        "id": "allied-wales"
      },
      "source": [
        "# Importing Libraries"
      ],
      "id": "allied-wales"
    },
    {
      "cell_type": "code",
      "execution_count": null,
      "metadata": {
        "id": "constitutional-essay"
      },
      "outputs": [],
      "source": [
        "# Imports\n",
        "import numpy as np\n",
        "import pandas as pd\n",
        "import matplotlib.pyplot as plt\n",
        "\n",
        "import re\n",
        "\n",
        "import tensorflow as tf\n",
        "import keras.backend as K\n",
        "\n",
        "from tensorflow.keras.preprocessing.text import Tokenizer\n",
        "from tensorflow.keras.preprocessing.sequence import pad_sequences\n",
        "from tensorflow.keras import utils #to_categorical\n",
        "from tensorflow.keras.models import Model\n",
        "from tensorflow.keras.layers import Input\n",
        "from keras.layers import Embedding, LSTM, Dense, Dropout, Flatten\n",
        "from keras.callbacks import ModelCheckpoint, EarlyStopping\n",
        "\n",
        "from sklearn.model_selection import train_test_split\n",
        "from sklearn.preprocessing import LabelEncoder\n",
        "from sklearn.metrics import confusion_matrix, plot_confusion_matrix\n",
        "from sklearn.metrics import classification_report\n",
        "\n",
        "from sklearn.model_selection import cross_val_score\n",
        "from sklearn.model_selection import KFold\n",
        "\n",
        "# ML Baseline\n",
        "from sklearn.pipeline import Pipeline\n",
        "\n",
        "from sklearn.feature_extraction.text import CountVectorizer\n",
        "from sklearn.feature_extraction.text import TfidfTransformer\n",
        "from sklearn.decomposition import TruncatedSVD\n",
        "\n",
        "from sklearn.neighbors import KNeighborsClassifier\n",
        "from sklearn.svm import SVC, LinearSVC\n",
        "from sklearn.linear_model import LogisticRegression\n",
        "from sklearn.naive_bayes import MultinomialNB, GaussianNB\n",
        "\n",
        "from sklearn.ensemble import BaggingClassifier\n",
        "\n",
        "from sklearn.metrics import f1_score\n",
        "\n",
        "import nltk\n",
        "from nltk.tokenize import TweetTokenizer\n",
        "from nltk.corpus import stopwords as stop\n",
        "\n",
        "import joblib"
      ],
      "id": "constitutional-essay"
    },
    {
      "cell_type": "markdown",
      "metadata": {
        "id": "excellent-copying"
      },
      "source": [
        "## Data Wrangling"
      ],
      "id": "excellent-copying"
    },
    {
      "cell_type": "code",
      "execution_count": null,
      "metadata": {
        "colab": {
          "base_uri": "https://localhost:8080/",
          "height": 206
        },
        "id": "analyzed-gauge",
        "outputId": "2b9d7460-1fa2-426b-860d-e1985cfc1b99"
      },
      "outputs": [
        {
          "data": {
            "text/html": [
              "\n",
              "  <div id=\"df-575896ae-cbe0-41cd-bf7a-4b44bee4ae6e\">\n",
              "    <div class=\"colab-df-container\">\n",
              "      <div>\n",
              "<style scoped>\n",
              "    .dataframe tbody tr th:only-of-type {\n",
              "        vertical-align: middle;\n",
              "    }\n",
              "\n",
              "    .dataframe tbody tr th {\n",
              "        vertical-align: top;\n",
              "    }\n",
              "\n",
              "    .dataframe thead th {\n",
              "        text-align: right;\n",
              "    }\n",
              "</style>\n",
              "<table border=\"1\" class=\"dataframe\">\n",
              "  <thead>\n",
              "    <tr style=\"text-align: right;\">\n",
              "      <th></th>\n",
              "      <th>Tweet_id</th>\n",
              "      <th>Text</th>\n",
              "      <th>sentiment(Target)</th>\n",
              "      <th>Topic (Target)</th>\n",
              "    </tr>\n",
              "  </thead>\n",
              "  <tbody>\n",
              "    <tr>\n",
              "      <th>0</th>\n",
              "      <td>1221875106206638080</td>\n",
              "      <td>@nas_alharbi8 والله حسب الأرقام سيكون مخيب للآ...</td>\n",
              "      <td>Positive</td>\n",
              "      <td>politics</td>\n",
              "    </tr>\n",
              "    <tr>\n",
              "      <th>1</th>\n",
              "      <td>1221884257490042887</td>\n",
              "      <td>\"الزعل بيغير ملامحك ، بيغير نظرة العين ، بيغير...</td>\n",
              "      <td>Neutral</td>\n",
              "      <td>Health</td>\n",
              "    </tr>\n",
              "    <tr>\n",
              "      <th>2</th>\n",
              "      <td>1226422627436310528</td>\n",
              "      <td>الحب الحقيقي هو اقتسام بعض نفسك مع شخص أخر أقر...</td>\n",
              "      <td>Positive</td>\n",
              "      <td>Health</td>\n",
              "    </tr>\n",
              "    <tr>\n",
              "      <th>3</th>\n",
              "      <td>1221880820815798277</td>\n",
              "      <td>@Mo_Fat7 النهضة في فتيل 😂</td>\n",
              "      <td>Positive</td>\n",
              "      <td>politics</td>\n",
              "    </tr>\n",
              "    <tr>\n",
              "      <th>4</th>\n",
              "      <td>1221884400377499651</td>\n",
              "      <td>@halgawi @DmfMohe ليس حباً في ايران بقدر ماهو ...</td>\n",
              "      <td>Neutral</td>\n",
              "      <td>politics</td>\n",
              "    </tr>\n",
              "  </tbody>\n",
              "</table>\n",
              "</div>\n",
              "      <button class=\"colab-df-convert\" onclick=\"convertToInteractive('df-575896ae-cbe0-41cd-bf7a-4b44bee4ae6e')\"\n",
              "              title=\"Convert this dataframe to an interactive table.\"\n",
              "              style=\"display:none;\">\n",
              "        \n",
              "  <svg xmlns=\"http://www.w3.org/2000/svg\" height=\"24px\"viewBox=\"0 0 24 24\"\n",
              "       width=\"24px\">\n",
              "    <path d=\"M0 0h24v24H0V0z\" fill=\"none\"/>\n",
              "    <path d=\"M18.56 5.44l.94 2.06.94-2.06 2.06-.94-2.06-.94-.94-2.06-.94 2.06-2.06.94zm-11 1L8.5 8.5l.94-2.06 2.06-.94-2.06-.94L8.5 2.5l-.94 2.06-2.06.94zm10 10l.94 2.06.94-2.06 2.06-.94-2.06-.94-.94-2.06-.94 2.06-2.06.94z\"/><path d=\"M17.41 7.96l-1.37-1.37c-.4-.4-.92-.59-1.43-.59-.52 0-1.04.2-1.43.59L10.3 9.45l-7.72 7.72c-.78.78-.78 2.05 0 2.83L4 21.41c.39.39.9.59 1.41.59.51 0 1.02-.2 1.41-.59l7.78-7.78 2.81-2.81c.8-.78.8-2.07 0-2.86zM5.41 20L4 18.59l7.72-7.72 1.47 1.35L5.41 20z\"/>\n",
              "  </svg>\n",
              "      </button>\n",
              "      \n",
              "  <style>\n",
              "    .colab-df-container {\n",
              "      display:flex;\n",
              "      flex-wrap:wrap;\n",
              "      gap: 12px;\n",
              "    }\n",
              "\n",
              "    .colab-df-convert {\n",
              "      background-color: #E8F0FE;\n",
              "      border: none;\n",
              "      border-radius: 50%;\n",
              "      cursor: pointer;\n",
              "      display: none;\n",
              "      fill: #1967D2;\n",
              "      height: 32px;\n",
              "      padding: 0 0 0 0;\n",
              "      width: 32px;\n",
              "    }\n",
              "\n",
              "    .colab-df-convert:hover {\n",
              "      background-color: #E2EBFA;\n",
              "      box-shadow: 0px 1px 2px rgba(60, 64, 67, 0.3), 0px 1px 3px 1px rgba(60, 64, 67, 0.15);\n",
              "      fill: #174EA6;\n",
              "    }\n",
              "\n",
              "    [theme=dark] .colab-df-convert {\n",
              "      background-color: #3B4455;\n",
              "      fill: #D2E3FC;\n",
              "    }\n",
              "\n",
              "    [theme=dark] .colab-df-convert:hover {\n",
              "      background-color: #434B5C;\n",
              "      box-shadow: 0px 1px 3px 1px rgba(0, 0, 0, 0.15);\n",
              "      filter: drop-shadow(0px 1px 2px rgba(0, 0, 0, 0.3));\n",
              "      fill: #FFFFFF;\n",
              "    }\n",
              "  </style>\n",
              "\n",
              "      <script>\n",
              "        const buttonEl =\n",
              "          document.querySelector('#df-575896ae-cbe0-41cd-bf7a-4b44bee4ae6e button.colab-df-convert');\n",
              "        buttonEl.style.display =\n",
              "          google.colab.kernel.accessAllowed ? 'block' : 'none';\n",
              "\n",
              "        async function convertToInteractive(key) {\n",
              "          const element = document.querySelector('#df-575896ae-cbe0-41cd-bf7a-4b44bee4ae6e');\n",
              "          const dataTable =\n",
              "            await google.colab.kernel.invokeFunction('convertToInteractive',\n",
              "                                                     [key], {});\n",
              "          if (!dataTable) return;\n",
              "\n",
              "          const docLinkHtml = 'Like what you see? Visit the ' +\n",
              "            '<a target=\"_blank\" href=https://colab.research.google.com/notebooks/data_table.ipynb>data table notebook</a>'\n",
              "            + ' to learn more about interactive tables.';\n",
              "          element.innerHTML = '';\n",
              "          dataTable['output_type'] = 'display_data';\n",
              "          await google.colab.output.renderOutput(dataTable, element);\n",
              "          const docLink = document.createElement('div');\n",
              "          docLink.innerHTML = docLinkHtml;\n",
              "          element.appendChild(docLink);\n",
              "        }\n",
              "      </script>\n",
              "    </div>\n",
              "  </div>\n",
              "  "
            ],
            "text/plain": [
              "              Tweet_id                                               Text  \\\n",
              "0  1221875106206638080  @nas_alharbi8 والله حسب الأرقام سيكون مخيب للآ...   \n",
              "1  1221884257490042887  \"الزعل بيغير ملامحك ، بيغير نظرة العين ، بيغير...   \n",
              "2  1226422627436310528  الحب الحقيقي هو اقتسام بعض نفسك مع شخص أخر أقر...   \n",
              "3  1221880820815798277                          @Mo_Fat7 النهضة في فتيل 😂   \n",
              "4  1221884400377499651  @halgawi @DmfMohe ليس حباً في ايران بقدر ماهو ...   \n",
              "\n",
              "  sentiment(Target) Topic (Target)  \n",
              "0          Positive       politics  \n",
              "1           Neutral         Health  \n",
              "2          Positive         Health  \n",
              "3          Positive       politics  \n",
              "4           Neutral       politics  "
            ]
          },
          "execution_count": 3,
          "metadata": {},
          "output_type": "execute_result"
        }
      ],
      "source": [
        "PATH = '/content/Sentiments_and_Topics .csv' # CHANGE THIS\n",
        "tweets = pd.read_csv(PATH)\n",
        "tweets.head()"
      ],
      "id": "analyzed-gauge"
    },
    {
      "cell_type": "code",
      "execution_count": null,
      "metadata": {
        "colab": {
          "base_uri": "https://localhost:8080/"
        },
        "id": "stylish-mattress",
        "outputId": "e97ae3bf-b148-41e8-c29a-285bb5c9c91a"
      },
      "outputs": [
        {
          "name": "stdout",
          "output_type": "stream",
          "text": [
            "Data Size: (32763, 4)\n"
          ]
        }
      ],
      "source": [
        "print(\"Data Size:\", tweets.shape)"
      ],
      "id": "stylish-mattress"
    },
    {
      "cell_type": "markdown",
      "metadata": {
        "id": "KlycYsTSWato"
      },
      "source": [
        "## Data Cleaning"
      ],
      "id": "KlycYsTSWato"
    },
    {
      "cell_type": "code",
      "execution_count": null,
      "metadata": {
        "colab": {
          "base_uri": "https://localhost:8080/"
        },
        "id": "uJUm3COAmGnb",
        "outputId": "2bed85e4-4541-405c-add6-e2c5b40865f3"
      },
      "outputs": [
        {
          "data": {
            "text/plain": [
              "Tweet_id             1\n",
              "Text                 1\n",
              "sentiment(Target)    2\n",
              "Topic (Target)       3\n",
              "dtype: int64"
            ]
          },
          "execution_count": 5,
          "metadata": {},
          "output_type": "execute_result"
        }
      ],
      "source": [
        "# see if exist nan values\n",
        "tweets.isna().sum()"
      ],
      "id": "uJUm3COAmGnb"
    },
    {
      "cell_type": "code",
      "execution_count": null,
      "metadata": {
        "colab": {
          "base_uri": "https://localhost:8080/"
        },
        "id": "Ga8kkppjmL8u",
        "outputId": "bb81e0be-4f94-4cde-e3fc-6a6ad848f34d"
      },
      "outputs": [
        {
          "name": "stdout",
          "output_type": "stream",
          "text": [
            "Data Size after drop nan values: (32760, 4)\n"
          ]
        }
      ],
      "source": [
        "# drop nan values\n",
        "tweets.dropna(axis=0, inplace=True)\n",
        "\n",
        "print(\"Data Size after drop nan values:\", tweets.shape)"
      ],
      "id": "Ga8kkppjmL8u"
    },
    {
      "cell_type": "code",
      "execution_count": null,
      "metadata": {
        "colab": {
          "base_uri": "https://localhost:8080/",
          "height": 36
        },
        "id": "yZrNeyUbX0_J",
        "outputId": "e3162721-fe5b-4208-a3a6-671e645c414b"
      },
      "outputs": [
        {
          "data": {
            "application/vnd.google.colaboratory.intrinsic+json": {
              "type": "string"
            },
            "text/plain": [
              "'@nas_alharbi8 والله حسب الأرقام سيكون مخيب للآمال\\r\\nولكن الأهلي قدها برجاله في الملعب 💚🤍'"
            ]
          },
          "execution_count": 7,
          "metadata": {},
          "output_type": "execute_result"
        }
      ],
      "source": [
        "# show sample text\n",
        "tweets['Text'][0]"
      ],
      "id": "yZrNeyUbX0_J"
    },
    {
      "cell_type": "code",
      "execution_count": null,
      "metadata": {
        "id": "f51546db"
      },
      "outputs": [],
      "source": [
        "def cleaner(tweet):\n",
        "    #tweet = re.sub(\"@[A-Za-z0-9]+\",\"\",tweet) #Remove @ sign\n",
        "    tweet = re.sub(\"@[^\\s]+\",\"\",tweet) #Remove @ sign\n",
        "    tweet = re.sub(r\"(?:\\@|http?\\://|https?\\://|www)\\S+\", \"\", tweet) #Remove http links\n",
        "    tweet = \" \".join(tweet.split())\n",
        "    tweet = tweet.replace(\"#\", \"\").replace(\"_\", \" \") #Remove hashtag sign but keep the text\n",
        "    return tweet\n",
        "\n",
        "#tweets['Text'] = tweets['Text'].map(lambda x: cleaner(x))"
      ],
      "id": "f51546db"
    },
    {
      "cell_type": "markdown",
      "metadata": {
        "id": "70bXqtWcQQvZ"
      },
      "source": [
        "### Stop Word"
      ],
      "id": "70bXqtWcQQvZ"
    },
    {
      "cell_type": "code",
      "execution_count": null,
      "metadata": {
        "colab": {
          "base_uri": "https://localhost:8080/"
        },
        "id": "wiLh5hxjP5lu",
        "outputId": "4d30d5b5-7656-4143-bf24-58741850ba90"
      },
      "outputs": [
        {
          "name": "stderr",
          "output_type": "stream",
          "text": [
            "[nltk_data] Downloading package stopwords to /root/nltk_data...\n",
            "[nltk_data]   Package stopwords is already up-to-date!\n"
          ]
        }
      ],
      "source": [
        "nltk.download('stopwords')\n",
        "sw = stop.words('arabic')\n",
        "\n",
        "def stopwords(text):\n",
        "    '''a function for removing the stopword'''\n",
        "    # removing the stop words and lowercasing the selected words\n",
        "    tokenizer = TweetTokenizer()\n",
        "    text = [word.lower() for word in tokenizer.tokenize(text) if word.lower() not in sw]\n",
        "    # joining the list of words with space separator\n",
        "    return \" \".join(text)"
      ],
      "id": "wiLh5hxjP5lu"
    },
    {
      "cell_type": "code",
      "execution_count": null,
      "metadata": {
        "colab": {
          "base_uri": "https://localhost:8080/",
          "height": 36
        },
        "id": "lP0uXIUyQT2U",
        "outputId": "ad12b3f7-a295-49b1-90a4-d708964e1852"
      },
      "outputs": [
        {
          "data": {
            "application/vnd.google.colaboratory.intrinsic+json": {
              "type": "string"
            },
            "text/plain": [
              "'@nas_alharbi8 والله الأرقام سيكون مخيب للآمال الأهلي قدها برجاله الملعب 💚 🤍'"
            ]
          },
          "execution_count": 10,
          "metadata": {},
          "output_type": "execute_result"
        }
      ],
      "source": [
        "tweets['Text'] = tweets['Text'].apply(stopwords)\n",
        "tweets['Text'][0]"
      ],
      "id": "lP0uXIUyQT2U"
    },
    {
      "cell_type": "markdown",
      "metadata": {
        "id": "vm5CM0KsWnuJ"
      },
      "source": [
        "### Remove Punctuation"
      ],
      "id": "vm5CM0KsWnuJ"
    },
    {
      "cell_type": "code",
      "execution_count": null,
      "metadata": {
        "id": "x6ucF-kOWpjW"
      },
      "outputs": [],
      "source": [
        "def remove_punctuation(text):\n",
        "    '''a function for removing punctuation'''\n",
        "    text = str(text)\n",
        "    import string\n",
        "    # replacing the punctuations with no space,\n",
        "    # which in effect deletes the punctuation marks\n",
        "    translator = str.maketrans('', '', string.punctuation)\n",
        "    # return the text stripped of punctuation marks\n",
        "    return text.translate(translator)"
      ],
      "id": "x6ucF-kOWpjW"
    },
    {
      "cell_type": "code",
      "execution_count": null,
      "metadata": {
        "colab": {
          "base_uri": "https://localhost:8080/",
          "height": 36
        },
        "id": "2SNi_jvdXGUO",
        "outputId": "4e11878f-205a-47b6-be4a-9de0ed3ed3cd"
      },
      "outputs": [
        {
          "data": {
            "application/vnd.google.colaboratory.intrinsic+json": {
              "type": "string"
            },
            "text/plain": [
              "'nasalharbi8 والله الأرقام سيكون مخيب للآمال الأهلي قدها برجاله الملعب 💚 🤍'"
            ]
          },
          "execution_count": 12,
          "metadata": {},
          "output_type": "execute_result"
        }
      ],
      "source": [
        "tweets['Text'] = tweets['Text'].apply(remove_punctuation)\n",
        "tweets['Text'][0]"
      ],
      "id": "2SNi_jvdXGUO"
    },
    {
      "cell_type": "code",
      "execution_count": null,
      "metadata": {
        "id": "cB3f-A78ZVIo"
      },
      "outputs": [],
      "source": [
        "def remove_emojis(data):\n",
        "    data = str(data)\n",
        "    emoj = re.compile(\"[\"\n",
        "        u\"\\U0001F600-\\U0001F64F\"  # emoticons\n",
        "        u\"\\U0001F300-\\U0001F5FF\"  # symbols & pictographs\n",
        "        u\"\\U0001F680-\\U0001F6FF\"  # transport & map symbols\n",
        "        u\"\\U0001F1E0-\\U0001F1FF\"  # flags (iOS)\n",
        "        u\"\\U00002500-\\U00002BEF\"  # chinese char\n",
        "        u\"\\U00002702-\\U000027B0\"\n",
        "        u\"\\U00002702-\\U000027B0\"\n",
        "        u\"\\U000024C2-\\U0001F251\"\n",
        "        u\"\\U0001f926-\\U0001f937\"\n",
        "        u\"\\U00010000-\\U0010ffff\"\n",
        "        u\"\\u2640-\\u2642\"\n",
        "        u\"\\u2600-\\u2B55\"\n",
        "        u\"\\u200d\"\n",
        "        u\"\\u23cf\"\n",
        "        u\"\\u23e9\"\n",
        "        u\"\\u231a\"\n",
        "        u\"\\ufe0f\"  # dingbats\n",
        "        u\"\\u3030\"\n",
        "                      \"]+\", re.UNICODE)\n",
        "    return re.sub(emoj, '', data).strip()"
      ],
      "id": "cB3f-A78ZVIo"
    },
    {
      "cell_type": "code",
      "execution_count": null,
      "metadata": {
        "colab": {
          "base_uri": "https://localhost:8080/",
          "height": 36
        },
        "id": "4YSg8edbbGYl",
        "outputId": "1569f6cc-1a4a-4c05-83ea-bce76a6ee228"
      },
      "outputs": [
        {
          "data": {
            "application/vnd.google.colaboratory.intrinsic+json": {
              "type": "string"
            },
            "text/plain": [
              "'nasalharbi8 والله الأرقام سيكون مخيب للآمال الأهلي قدها برجاله الملعب'"
            ]
          },
          "execution_count": 14,
          "metadata": {},
          "output_type": "execute_result"
        }
      ],
      "source": [
        "tweets['Text'] = tweets['Text'].apply(remove_emojis)\n",
        "tweets['Text'][0]"
      ],
      "id": "4YSg8edbbGYl"
    },
    {
      "cell_type": "code",
      "execution_count": null,
      "metadata": {
        "id": "3Q6BYIfZglLq"
      },
      "outputs": [],
      "source": [
        "train, test = train_test_split(tweets, random_state=42, test_size=0.2)"
      ],
      "id": "3Q6BYIfZglLq"
    },
    {
      "cell_type": "markdown",
      "metadata": {
        "id": "rstTeGQBJ_-n"
      },
      "source": [
        "# **1. Topic (Target)**"
      ],
      "id": "rstTeGQBJ_-n"
    },
    {
      "cell_type": "markdown",
      "metadata": {
        "id": "Itw0A66rb3jb"
      },
      "source": [
        "## Text Processing"
      ],
      "id": "Itw0A66rb3jb"
    },
    {
      "cell_type": "code",
      "execution_count": null,
      "metadata": {
        "id": "fOKnFGZqhFTf"
      },
      "outputs": [],
      "source": [
        "MAX_FEATURES = 2048\n",
        "MAX_TEXT_LENGTH = 1024\n",
        "MAX_LENGTH = 512"
      ],
      "id": "fOKnFGZqhFTf"
    },
    {
      "cell_type": "code",
      "execution_count": null,
      "metadata": {
        "id": "CW8vUWSehHiL"
      },
      "outputs": [],
      "source": [
        "train_text = train['Text']\n",
        "test_text = test['Text']"
      ],
      "id": "CW8vUWSehHiL"
    },
    {
      "cell_type": "code",
      "execution_count": null,
      "metadata": {
        "id": "bMr5uWIeSHKK"
      },
      "outputs": [],
      "source": [
        "# tokenize the sentences\n",
        "tokenizer = Tokenizer(lower=False, num_words=MAX_TEXT_LENGTH)\n",
        "tokenizer.fit_on_texts(train_text)\n",
        "\n",
        "train_text_seq = tokenizer.texts_to_sequences(train_text)\n",
        "test_text_seq = tokenizer.texts_to_sequences(test_text)\n",
        "\n",
        "# pad the sequences\n",
        "train_text_vec = pad_sequences(train_text_seq, maxlen=MAX_LENGTH)\n",
        "test_text_vec = pad_sequences(test_text_seq, maxlen=MAX_LENGTH)"
      ],
      "id": "bMr5uWIeSHKK"
    },
    {
      "cell_type": "code",
      "execution_count": null,
      "metadata": {
        "id": "SLhksA01SVCe"
      },
      "outputs": [],
      "source": [
        "train_vec = tokenizer.sequences_to_matrix(train_text_seq, mode='count')\n",
        "test_vec = tokenizer.sequences_to_matrix(test_text_seq, mode='count')"
      ],
      "id": "SLhksA01SVCe"
    },
    {
      "cell_type": "code",
      "execution_count": null,
      "metadata": {
        "colab": {
          "base_uri": "https://localhost:8080/"
        },
        "id": "cooperative-registration",
        "outputId": "bc8b9b07-5f2c-4783-ab26-308fa7990412"
      },
      "outputs": [
        {
          "name": "stdout",
          "output_type": "stream",
          "text": [
            "Number of Tokens: 78277\n",
            "Max Token Index: 1023 \n",
            "\n"
          ]
        }
      ],
      "source": [
        "print('Number of Tokens:', len(tokenizer.word_index))\n",
        "print(\"Max Token Index:\", train_text_vec.max(), \"\\n\")"
      ],
      "id": "cooperative-registration"
    },
    {
      "cell_type": "markdown",
      "metadata": {
        "id": "3vVnqp7elVxR"
      },
      "source": [
        "### Label Processing"
      ],
      "id": "3vVnqp7elVxR"
    },
    {
      "cell_type": "code",
      "execution_count": null,
      "metadata": {
        "colab": {
          "base_uri": "https://localhost:8080/"
        },
        "id": "xaoYf1HQlqD8",
        "outputId": "c1434c93-3874-436b-d0f4-a699423f980e"
      },
      "outputs": [
        {
          "data": {
            "text/plain": [
              "array(['politics', 'Health', 'Politics', 'business ', 'Business',\n",
              "       'Business-and-economy', 'Business '], dtype=object)"
            ]
          },
          "execution_count": 21,
          "metadata": {},
          "output_type": "execute_result"
        }
      ],
      "source": [
        "target_col = 'Topic (Target)'\n",
        "\n",
        "tweets[target_col].unique()"
      ],
      "id": "xaoYf1HQlqD8"
    },
    {
      "cell_type": "code",
      "execution_count": null,
      "metadata": {
        "id": "_M6n1r4smvGs"
      },
      "outputs": [],
      "source": [
        "def edit_target(text):\n",
        "    if text.lower().startswith('p'):\n",
        "        return \"Politics\"\n",
        "    elif text.lower().startswith('b'):\n",
        "        return \"Business\"\n",
        "    else:\n",
        "        return \"Health\""
      ],
      "id": "_M6n1r4smvGs"
    },
    {
      "cell_type": "code",
      "execution_count": null,
      "metadata": {
        "colab": {
          "base_uri": "https://localhost:8080/"
        },
        "id": "NzUOO3zCnRnQ",
        "outputId": "52ededca-3bce-4860-b958-282720f38789"
      },
      "outputs": [
        {
          "data": {
            "text/plain": [
              "['Business', 'Health', 'Politics']"
            ]
          },
          "execution_count": 23,
          "metadata": {},
          "output_type": "execute_result"
        }
      ],
      "source": [
        "train.loc[:, target_col] = train.loc[:, target_col].apply(edit_target)\n",
        "test.loc[:, target_col] = test.loc[:, target_col].apply(edit_target)\n",
        "\n",
        "classes = sorted(train[target_col].unique())\n",
        "n_classes = len(classes)\n",
        "\n",
        "classes"
      ],
      "id": "NzUOO3zCnRnQ"
    },
    {
      "cell_type": "code",
      "execution_count": null,
      "metadata": {
        "id": "LNHQFXVrt5KD"
      },
      "outputs": [],
      "source": [
        "# One Hot Encode Y values:\n",
        "le = LabelEncoder()\n",
        "\n",
        "y_train = le.fit_transform(train[target_col].values)\n",
        "y_test = le.transform(test[target_col].values)\n",
        "\n",
        "y_train = utils.to_categorical(y_train)\n",
        "y_test = utils.to_categorical(y_test)"
      ],
      "id": "LNHQFXVrt5KD"
    },
    {
      "cell_type": "code",
      "execution_count": null,
      "metadata": {
        "id": "uX6Lo4sLxqVI"
      },
      "outputs": [],
      "source": [
        "def f1_scores(y_true, y_pred): #taken from old keras source code\n",
        "    true_positives = K.sum(K.round(K.clip(y_true * y_pred, 0, 1)))\n",
        "    possible_positives = K.sum(K.round(K.clip(y_true, 0, 1)))\n",
        "    predicted_positives = K.sum(K.round(K.clip(y_pred, 0, 1)))\n",
        "    precision = true_positives / (predicted_positives + K.epsilon())\n",
        "    recall = true_positives / (possible_positives + K.epsilon())\n",
        "    f1_val = 2*(precision*recall)/(precision+recall+K.epsilon())\n",
        "    return f1_val"
      ],
      "id": "uX6Lo4sLxqVI"
    },
    {
      "cell_type": "markdown",
      "metadata": {
        "id": "tr9k9qoKKRBV"
      },
      "source": [
        "## 1.1 LSTM"
      ],
      "id": "tr9k9qoKKRBV"
    },
    {
      "cell_type": "code",
      "execution_count": null,
      "metadata": {
        "id": "smaller-bolivia"
      },
      "outputs": [],
      "source": [
        "def lstm_model(EMBED_SIZE=128, MAX_LENGTH=MAX_LENGTH):\n",
        "    inputs = Input(shape=(MAX_LENGTH,))\n",
        "\n",
        "    x = Embedding(input_dim = (len(tokenizer.word_counts) + 1),\n",
        "                  output_dim = 128,)(inputs)\n",
        "\n",
        "    x = LSTM(units=256, return_sequences=True, return_state=False)(x)\n",
        "    x = Dropout(0.25)(x)\n",
        "\n",
        "    x = LSTM(units=128, return_sequences=True)(x)\n",
        "    x = Dropout(0.25)(x)\n",
        "\n",
        "    #x = LSTM(units=64, return_sequences=True, return_state=False)(x)\n",
        "    #x = Dropout(0.25)(x)\n",
        "\n",
        "    #x = LSTM(units=32, return_sequences=True, return_state=False)(x)\n",
        "    #x = Dropout(0.25)(x)\n",
        "\n",
        "    #x = LSTM(units=16, return_sequences=True, return_state=False)(x)\n",
        "    #x = Dropout(0.1)(x)\n",
        "\n",
        "    x = Flatten()(x)\n",
        "\n",
        "    x = Dense(64, activation='relu')(x)\n",
        "    x = Dropout(0.25)(x)\n",
        "\n",
        "    outputs = Dense(n_classes, activation='softmax')(x)\n",
        "\n",
        "    model = Model(inputs=inputs, outputs=outputs)\n",
        "\n",
        "    model.compile(loss='categorical_crossentropy', optimizer='adam', metrics=[f1_scores])\n",
        "\n",
        "    return model"
      ],
      "id": "smaller-bolivia"
    },
    {
      "cell_type": "code",
      "execution_count": null,
      "metadata": {
        "colab": {
          "base_uri": "https://localhost:8080/"
        },
        "id": "5nOeuzCkytJ6",
        "outputId": "b5929c30-0995-4d62-c264-cd99cc1705a8"
      },
      "outputs": [
        {
          "name": "stdout",
          "output_type": "stream",
          "text": [
            "Model: \"model\"\n",
            "_________________________________________________________________\n",
            " Layer (type)                Output Shape              Param #   \n",
            "=================================================================\n",
            " input_1 (InputLayer)        [(None, 512)]             0         \n",
            "                                                                 \n",
            " embedding (Embedding)       (None, 512, 128)          10019584  \n",
            "                                                                 \n",
            " lstm (LSTM)                 (None, 512, 256)          394240    \n",
            "                                                                 \n",
            " dropout (Dropout)           (None, 512, 256)          0         \n",
            "                                                                 \n",
            " lstm_1 (LSTM)               (None, 512, 128)          197120    \n",
            "                                                                 \n",
            " dropout_1 (Dropout)         (None, 512, 128)          0         \n",
            "                                                                 \n",
            " flatten (Flatten)           (None, 65536)             0         \n",
            "                                                                 \n",
            " dense (Dense)               (None, 64)                4194368   \n",
            "                                                                 \n",
            " dropout_2 (Dropout)         (None, 64)                0         \n",
            "                                                                 \n",
            " dense_1 (Dense)             (None, 3)                 195       \n",
            "                                                                 \n",
            "=================================================================\n",
            "Total params: 14,805,507\n",
            "Trainable params: 14,805,507\n",
            "Non-trainable params: 0\n",
            "_________________________________________________________________\n"
          ]
        }
      ],
      "source": [
        "model = lstm_model(EMBED_SIZE=256, MAX_LENGTH=MAX_LENGTH)\n",
        "\n",
        "model.summary()"
      ],
      "id": "5nOeuzCkytJ6"
    },
    {
      "cell_type": "code",
      "execution_count": null,
      "metadata": {
        "id": "m-VvwQxz1BZk"
      },
      "outputs": [],
      "source": [
        "# Model hyperparameters\n",
        "BATCH_SIZE = 256\n",
        "EPOCHS = 10 #CHANGE THIS TO 10\n",
        "\n",
        "cp_file = './lstm_model.h5'\n",
        "cp = ModelCheckpoint(cp_file,\n",
        "                     monitor='val_f1_scores',\n",
        "                     verbose=0,\n",
        "                     save_best_only=True, mode='max')\n",
        "\n",
        "es = EarlyStopping(patience=2,\n",
        "                   monitor='val_f1_scores',\n",
        "                   restore_best_weights=True,\n",
        "                   mode='max',\n",
        "                   verbose=1)"
      ],
      "id": "m-VvwQxz1BZk"
    },
    {
      "cell_type": "code",
      "execution_count": null,
      "metadata": {
        "colab": {
          "base_uri": "https://localhost:8080/"
        },
        "id": "jEX0ratiymCX",
        "outputId": "cbc840c1-3579-4421-b3ea-6b23618590af"
      },
      "outputs": [
        {
          "name": "stdout",
          "output_type": "stream",
          "text": [
            "Epoch 1/10\n",
            "103/103 [==============================] - 39s 286ms/step - loss: 0.7852 - f1_scores: 0.6718 - val_loss: 0.5395 - val_f1_scores: 0.7655\n",
            "Epoch 2/10\n",
            "103/103 [==============================] - 24s 233ms/step - loss: 0.4411 - f1_scores: 0.8335 - val_loss: 0.3285 - val_f1_scores: 0.9040\n",
            "Epoch 3/10\n",
            "103/103 [==============================] - 23s 228ms/step - loss: 0.2946 - f1_scores: 0.9205 - val_loss: 0.2582 - val_f1_scores: 0.9337\n",
            "Epoch 4/10\n",
            "103/103 [==============================] - 23s 228ms/step - loss: 0.2522 - f1_scores: 0.9343 - val_loss: 0.2468 - val_f1_scores: 0.9338\n",
            "Epoch 5/10\n",
            "103/103 [==============================] - 24s 229ms/step - loss: 0.2353 - f1_scores: 0.9378 - val_loss: 0.2484 - val_f1_scores: 0.9350\n",
            "Epoch 6/10\n",
            "103/103 [==============================] - 23s 228ms/step - loss: 0.2232 - f1_scores: 0.9406 - val_loss: 0.2523 - val_f1_scores: 0.9317\n",
            "Epoch 7/10\n",
            "103/103 [==============================] - 24s 234ms/step - loss: 0.2136 - f1_scores: 0.9420 - val_loss: 0.2462 - val_f1_scores: 0.9358\n",
            "Epoch 8/10\n",
            "103/103 [==============================] - 23s 220ms/step - loss: 0.2046 - f1_scores: 0.9446 - val_loss: 0.2570 - val_f1_scores: 0.9327\n",
            "Epoch 9/10\n",
            "103/103 [==============================] - ETA: 0s - loss: 0.2024 - f1_scores: 0.9449Restoring model weights from the end of the best epoch: 7.\n",
            "103/103 [==============================] - 24s 230ms/step - loss: 0.2024 - f1_scores: 0.9449 - val_loss: 0.2575 - val_f1_scores: 0.9317\n",
            "Epoch 9: early stopping\n"
          ]
        }
      ],
      "source": [
        "history = model.fit(train_text_vec, y_train,\n",
        "                    batch_size=BATCH_SIZE,\n",
        "                    epochs=EPOCHS,\n",
        "                    validation_data=(test_text_vec, y_test),\n",
        "                    callbacks=[es, cp],\n",
        "                    #shuffle=False,\n",
        "                    )"
      ],
      "id": "jEX0ratiymCX"
    },
    {
      "cell_type": "code",
      "execution_count": null,
      "metadata": {
        "colab": {
          "base_uri": "https://localhost:8080/"
        },
        "id": "vTiAebWD39L3",
        "outputId": "c22c7f6f-6fbb-40ce-ed25-7d5dd4b6bc52"
      },
      "outputs": [
        {
          "name": "stdout",
          "output_type": "stream",
          "text": [
            "LSTM F1 Score: 0.936\n"
          ]
        }
      ],
      "source": [
        "loss, lstm_score = model.evaluate(test_text_vec, y_test, verbose=0)\n",
        "\n",
        "print(f\"LSTM F1 Score: {lstm_score:.3f}\")"
      ],
      "id": "vTiAebWD39L3"
    },
    {
      "cell_type": "markdown",
      "metadata": {
        "id": "ucoK93gLKUgN"
      },
      "source": [
        "## 1.2 Naive Bayes (NB)"
      ],
      "id": "ucoK93gLKUgN"
    },
    {
      "cell_type": "code",
      "execution_count": null,
      "metadata": {
        "id": "OcnUBCI6Mjkc"
      },
      "outputs": [],
      "source": [
        "# helper function\n",
        "def train_evaluate_models(model, X_train_, X_test_, y_train_, y_test_, name='CLF', cm_plot=False):\n",
        "    print(f\"{name} Training...\")\n",
        "\n",
        "    clf = Pipeline([\n",
        "            #('tfidf', TfidfTransformer()),\n",
        "            ('clf', model),\n",
        "        ])\n",
        "\n",
        "    clf.fit(X_train_, y_train_)\n",
        "\n",
        "    y_pred = clf.predict(X_test_)\n",
        "\n",
        "    score = f1_score(y_pred, y_test_, average='micro')\n",
        "\n",
        "    print(f\"{name} F1-score {score*100:.2f}%\")\n",
        "    print('-' * 30)\n",
        "\n",
        "    print(\"Classification Reports...\\n\")\n",
        "    print(classification_report(y_test_, y_pred, target_names=classes, ))\n",
        "\n",
        "\n",
        "    # calculate confusion matrix\n",
        "    cm = confusion_matrix(y_pred, y_test_)\n",
        "\n",
        "    if cm_plot:\n",
        "        # plot confusion matrix\n",
        "        #print(\"Ploting Confusions Matrix...\")\n",
        "        fig, ax = plt.subplots(figsize=(5, 5))\n",
        "        plt.title(f'{name} Confusions Matrix', fontsize=14)\n",
        "        plot_confusion_matrix(clf, X_test_, y_test_, values_format='1', display_labels=classes, ax=ax);\n",
        "        plt.savefig(f'{name}_cm.png')\n",
        "\n",
        "\n",
        "    return clf, score, y_pred"
      ],
      "id": "OcnUBCI6Mjkc"
    },
    {
      "cell_type": "code",
      "execution_count": null,
      "metadata": {
        "id": "148f7576"
      },
      "outputs": [],
      "source": [
        "# helper function\n",
        "# keep n_folds ~(5-10)\n",
        "def evaluate_CV(model, n_folds=5, name='CLF'):\n",
        "    print(\"CV Score...\")\n",
        "    kfolds_val = KFold(n_splits=n_folds, shuffle=True, random_state=42)\n",
        "    folds_result = cross_val_score(model, X_train_, y_train_, cv = kfolds_val)\n",
        "    results = np.mean(folds_result)\n",
        "\n",
        "    print('Accuracy:', results)\n",
        "    # draw results\n",
        "    plt.plot(range(n_folds), folds_result)\n",
        "    plt.title(f'{name} CV results')\n",
        "    plt.xticks(np.arange(1, n_folds+1, 1))\n",
        "    plt.xlabel('folds')\n",
        "    plt.ylabel('Accuray')\n",
        "    plt.show()\n",
        "\n",
        "    return results"
      ],
      "id": "148f7576"
    },
    {
      "cell_type": "markdown",
      "metadata": {
        "id": "KTD82aeQMFIf"
      },
      "source": [
        "### Data Preprocessing"
      ],
      "id": "KTD82aeQMFIf"
    },
    {
      "cell_type": "code",
      "execution_count": null,
      "metadata": {
        "colab": {
          "base_uri": "https://localhost:8080/"
        },
        "id": "9oJypEPDJqVd",
        "outputId": "cd96d893-725a-44f4-fa70-7138ac770f26"
      },
      "outputs": [
        {
          "name": "stderr",
          "output_type": "stream",
          "text": [
            "/usr/local/lib/python3.8/dist-packages/sklearn/feature_extraction/text.py:396: UserWarning: Your stop_words may be inconsistent with your preprocessing. Tokenizing the stop words generated tokens ['آمين', 'أب', 'أخ', 'أفعل', 'أفعله', 'ؤلاء', 'إل', 'إم', 'ات', 'اتان', 'ارتد', 'ان', 'انفك', 'برح', 'تان', 'تبد', 'تحو', 'تعل', 'حد', 'حم', 'حي', 'خب', 'ذار', 'سيما', 'صه', 'ظل', 'ظن', 'عد', 'قط', 'مر', 'مكان', 'مكانكن', 'نب', 'هات', 'هب', 'واها', 'وراء'] not in stop_words.\n",
            "  warnings.warn(\n"
          ]
        },
        {
          "data": {
            "text/plain": [
              "((26208, 2048), (6552,))"
            ]
          },
          "execution_count": 28,
          "metadata": {},
          "output_type": "execute_result"
        }
      ],
      "source": [
        "# features extract\n",
        "countvec = CountVectorizer(max_features=MAX_FEATURES, analyzer='word', stop_words=sw).fit(tweets['Text'])\n",
        "\n",
        "X_train_ = countvec.transform(train['Text']).toarray()\n",
        "X_test_ = countvec.transform(test['Text']).toarray()\n",
        "\n",
        "# labels reverse one-hotencoder\n",
        "y_train_, y_test_ = y_train.argmax(axis=1), y_test.argmax(axis=1)\n",
        "\n",
        "X_train_.shape, y_test_.shape"
      ],
      "id": "9oJypEPDJqVd"
    },
    {
      "cell_type": "code",
      "execution_count": null,
      "metadata": {
        "id": "9e02dfae"
      },
      "outputs": [],
      "source": [
        "#y_train_, y_test_ = y_train, y_test"
      ],
      "id": "9e02dfae"
    },
    {
      "cell_type": "code",
      "execution_count": null,
      "metadata": {
        "colab": {
          "base_uri": "https://localhost:8080/",
          "height": 624
        },
        "id": "5alkl7xnKHfl",
        "outputId": "7deaeeb0-fa1a-4b1e-eebe-10bde2da58d9"
      },
      "outputs": [
        {
          "name": "stdout",
          "output_type": "stream",
          "text": [
            "Multinomial NB Training...\n",
            "Multinomial NB F1-score 90.71%\n",
            "------------------------------\n",
            "Classification Reports...\n",
            "\n",
            "              precision    recall  f1-score   support\n",
            "\n",
            "    Business       0.85      0.84      0.84      1141\n",
            "      Health       0.94      0.94      0.94      4444\n",
            "    Politics       0.81      0.83      0.82       967\n",
            "\n",
            "    accuracy                           0.91      6552\n",
            "   macro avg       0.87      0.87      0.87      6552\n",
            "weighted avg       0.91      0.91      0.91      6552\n",
            "\n"
          ]
        },
        {
          "name": "stderr",
          "output_type": "stream",
          "text": [
            "/usr/local/lib/python3.7/dist-packages/sklearn/utils/deprecation.py:87: FutureWarning: Function plot_confusion_matrix is deprecated; Function `plot_confusion_matrix` is deprecated in 1.0 and will be removed in 1.2. Use one of the class methods: ConfusionMatrixDisplay.from_predictions or ConfusionMatrixDisplay.from_estimator.\n",
            "  warnings.warn(msg, category=FutureWarning)\n"
          ]
        },
        {
          "data": {
            "image/png": "[encoded data removed]",
            "text/plain": [
              "<Figure size 360x360 with 2 Axes>"
            ]
          },
          "metadata": {},
          "output_type": "display_data"
        }
      ],
      "source": [
        "# NB model\n",
        "model = MultinomialNB(alpha=1e-8)\n",
        "\n",
        "model_, nb_score, y_pred = train_evaluate_models(model,\n",
        "                                                X_train_, X_test_,\n",
        "                                                y_train_, y_test_,\n",
        "                                                name='Multinomial NB', cm_plot=True)\n"
      ],
      "id": "5alkl7xnKHfl"
    },
    {
      "cell_type": "markdown",
      "metadata": {
        "id": "jXq2tLFzKHfm"
      },
      "source": [
        "### Bagging"
      ],
      "id": "jXq2tLFzKHfm"
    },
    {
      "cell_type": "code",
      "execution_count": null,
      "metadata": {
        "colab": {
          "base_uri": "https://localhost:8080/",
          "height": 624
        },
        "id": "xD-FMHKyKHfn",
        "outputId": "3680c03b-5128-4714-f6da-2c9ddbdd8465"
      },
      "outputs": [
        {
          "name": "stdout",
          "output_type": "stream",
          "text": [
            "Bagging Multinomial NB Training...\n",
            "Bagging Multinomial NB F1-score 90.72%\n",
            "------------------------------\n",
            "Classification Reports...\n",
            "\n",
            "              precision    recall  f1-score   support\n",
            "\n",
            "    Business       0.86      0.82      0.84      1141\n",
            "      Health       0.94      0.94      0.94      4444\n",
            "    Politics       0.81      0.84      0.82       967\n",
            "\n",
            "    accuracy                           0.91      6552\n",
            "   macro avg       0.87      0.87      0.87      6552\n",
            "weighted avg       0.91      0.91      0.91      6552\n",
            "\n"
          ]
        },
        {
          "name": "stderr",
          "output_type": "stream",
          "text": [
            "/usr/local/lib/python3.7/dist-packages/sklearn/utils/deprecation.py:87: FutureWarning: Function plot_confusion_matrix is deprecated; Function `plot_confusion_matrix` is deprecated in 1.0 and will be removed in 1.2. Use one of the class methods: ConfusionMatrixDisplay.from_predictions or ConfusionMatrixDisplay.from_estimator.\n",
            "  warnings.warn(msg, category=FutureWarning)\n"
          ]
        },
        {
          "data": {
            "image/png": "[encoded data removed]",
            "text/plain": [
              "<Figure size 360x360 with 2 Axes>"
            ]
          },
          "metadata": {},
          "output_type": "display_data"
        }
      ],
      "source": [
        "nb_bagg_clf = BaggingClassifier(base_estimator=model_, n_estimators=5, random_state=42, n_jobs=-1)\n",
        "\n",
        "model, nb_bagg_score, y_pred = train_evaluate_models(nb_bagg_clf,\n",
        "                                                    X_train_, X_test_,\n",
        "                                                    y_train_, y_test_,\n",
        "                                                    name='Bagging Multinomial NB', cm_plot=True)"
      ],
      "id": "xD-FMHKyKHfn"
    },
    {
      "cell_type": "code",
      "execution_count": null,
      "metadata": {
        "colab": {
          "base_uri": "https://localhost:8080/",
          "height": 329
        },
        "id": "QHXwauajKHfn",
        "outputId": "05510a58-df28-45fe-e90a-54d01b4e7198"
      },
      "outputs": [
        {
          "name": "stdout",
          "output_type": "stream",
          "text": [
            "CV Score...\n",
            "Accuracy: 0.9086541032354646\n"
          ]
        },
        {
          "data": {
            "image/png": "[encoded data removed]",
            "text/plain": [
              "<Figure size 432x288 with 1 Axes>"
            ]
          },
          "metadata": {},
          "output_type": "display_data"
        }
      ],
      "source": [
        "# cv\n",
        "nb_res = evaluate_CV(model_, n_folds=10, name='Multinomial NB')"
      ],
      "id": "QHXwauajKHfn"
    },
    {
      "cell_type": "markdown",
      "metadata": {
        "id": "lVNjCm1SKecM"
      },
      "source": [
        "## 1.3 KNN"
      ],
      "id": "lVNjCm1SKecM"
    },
    {
      "cell_type": "code",
      "execution_count": null,
      "metadata": {
        "colab": {
          "base_uri": "https://localhost:8080/",
          "height": 624
        },
        "id": "D0JKPWIRKbaK",
        "outputId": "7f8d9733-8d03-43fa-cded-7aedfd23ef21"
      },
      "outputs": [
        {
          "name": "stdout",
          "output_type": "stream",
          "text": [
            "KNN Training...\n",
            "KNN F1-score 81.21%\n",
            "------------------------------\n",
            "Classification Reports...\n",
            "\n",
            "              precision    recall  f1-score   support\n",
            "\n",
            "    Business       0.88      0.40      0.55      1141\n",
            "      Health       0.80      0.99      0.88      4444\n",
            "    Politics       0.92      0.47      0.62       967\n",
            "\n",
            "    accuracy                           0.81      6552\n",
            "   macro avg       0.87      0.62      0.69      6552\n",
            "weighted avg       0.83      0.81      0.79      6552\n",
            "\n"
          ]
        },
        {
          "name": "stderr",
          "output_type": "stream",
          "text": [
            "/usr/local/lib/python3.7/dist-packages/sklearn/utils/deprecation.py:87: FutureWarning: Function plot_confusion_matrix is deprecated; Function `plot_confusion_matrix` is deprecated in 1.0 and will be removed in 1.2. Use one of the class methods: ConfusionMatrixDisplay.from_predictions or ConfusionMatrixDisplay.from_estimator.\n",
            "  warnings.warn(msg, category=FutureWarning)\n"
          ]
        },
        {
          "data": {
            "image/png": "[encoded data removed]",
            "text/plain": [
              "<Figure size 360x360 with 2 Axes>"
            ]
          },
          "metadata": {},
          "output_type": "display_data"
        }
      ],
      "source": [
        "# KNN model\n",
        "model = KNeighborsClassifier(n_neighbors=5)\n",
        "\n",
        "model_, knn_score, y_pred = train_evaluate_models(model,\n",
        "                                                X_train_, X_test_,\n",
        "                                                y_train_, y_test_,\n",
        "                                                name='KNN', cm_plot=True)"
      ],
      "id": "D0JKPWIRKbaK"
    },
    {
      "cell_type": "code",
      "execution_count": null,
      "metadata": {
        "colab": {
          "base_uri": "https://localhost:8080/"
        },
        "id": "37dQd4zcKbaT",
        "outputId": "293a691a-6f52-41c0-a276-7575ff17bc3c"
      },
      "outputs": [
        {
          "name": "stdout",
          "output_type": "stream",
          "text": [
            "Bagging KNN Training...\n",
            "Bagging KNN F1-score 80.24%\n",
            "------------------------------\n",
            "Classification Reports...\n",
            "\n",
            "              precision    recall  f1-score   support\n",
            "\n",
            "    Business       0.88      0.36      0.52      1141\n",
            "      Health       0.79      0.99      0.88      4444\n",
            "    Politics       0.92      0.44      0.60       967\n",
            "\n",
            "    accuracy                           0.80      6552\n",
            "   macro avg       0.86      0.60      0.66      6552\n",
            "weighted avg       0.82      0.80      0.77      6552\n",
            "\n"
          ]
        }
      ],
      "source": [
        "# bagging\n",
        "knn_bagg_clf = BaggingClassifier(base_estimator=model_, n_estimators=5, random_state=42)\n",
        "\n",
        "model, knn_bagg_score, y_pred = train_evaluate_models(knn_bagg_clf,\n",
        "                                                        X_train_, X_test_,\n",
        "                                                        y_train_, y_test_,\n",
        "                                                        name='Bagging KNN', cm_plot=False)"
      ],
      "id": "37dQd4zcKbaT"
    },
    {
      "cell_type": "code",
      "execution_count": null,
      "metadata": {
        "colab": {
          "base_uri": "https://localhost:8080/",
          "height": 329
        },
        "id": "11SdmCtpKbaT",
        "outputId": "c75ac4f5-70a0-41cb-8411-ccc8509b7108"
      },
      "outputs": [
        {
          "name": "stdout",
          "output_type": "stream",
          "text": [
            "CV Score...\n",
            "Accuracy: 0.8023501751851605\n"
          ]
        },
        {
          "data": {
            "image/png": "[encoded data removed]",
            "text/plain": [
              "<Figure size 432x288 with 1 Axes>"
            ]
          },
          "metadata": {},
          "output_type": "display_data"
        }
      ],
      "source": [
        "# cv\n",
        "knn_res = evaluate_CV(model_, n_folds=10, name='KNN')"
      ],
      "id": "11SdmCtpKbaT"
    },
    {
      "cell_type": "markdown",
      "metadata": {
        "id": "pSzFOte_Kd_j"
      },
      "source": [
        "## 1.4 SVM"
      ],
      "id": "pSzFOte_Kd_j"
    },
    {
      "cell_type": "code",
      "execution_count": null,
      "metadata": {
        "colab": {
          "background_save": true,
          "base_uri": "https://localhost:8080/"
        },
        "id": "rvjYkeztTE_O",
        "outputId": "b3e1cb21-0cd8-4498-9601-3f69a943dfda"
      },
      "outputs": [
        {
          "name": "stdout",
          "output_type": "stream",
          "text": [
            "SVM Training...\n",
            "SVM F1-score 95.59%\n",
            "------------------------------\n",
            "Classification Reports...\n",
            "\n",
            "              precision    recall  f1-score   support\n",
            "\n",
            "    Business       0.96      0.90      0.93      1141\n",
            "      Health       0.95      0.99      0.97      4444\n",
            "    Politics       0.97      0.87      0.92       967\n",
            "\n",
            "    accuracy                           0.96      6552\n",
            "   macro avg       0.96      0.92      0.94      6552\n",
            "weighted avg       0.96      0.96      0.96      6552\n",
            "\n"
          ]
        },
        {
          "name": "stderr",
          "output_type": "stream",
          "text": [
            "/usr/local/lib/python3.7/dist-packages/sklearn/utils/deprecation.py:87: FutureWarning: Function plot_confusion_matrix is deprecated; Function `plot_confusion_matrix` is deprecated in 1.0 and will be removed in 1.2. Use one of the class methods: ConfusionMatrixDisplay.from_predictions or ConfusionMatrixDisplay.from_estimator.\n",
            "  warnings.warn(msg, category=FutureWarning)\n"
          ]
        },
        {
          "data": {
            "image/png": "[encoded data removed]",
            "text/plain": [
              "<Figure size 360x360 with 2 Axes>"
            ]
          },
          "metadata": {},
          "output_type": "display_data"
        }
      ],
      "source": [
        "# # SVM model\n",
        "model = SVC(C=1., kernel='linear')\n",
        "\n",
        "model_, svm_score, y_pred = train_evaluate_models(model,\n",
        "                                           X_train_, X_test_,\n",
        "                                            y_train_, y_test_,\n",
        "                                           name='SVM', cm_plot=True)"
      ],
      "id": "rvjYkeztTE_O"
    },
    {
      "cell_type": "code",
      "execution_count": null,
      "metadata": {
        "id": "7_0TmbwIIvw3"
      },
      "outputs": [],
      "source": [
        "# # bagging\n",
        "svm_bagg_clf = BaggingClassifier(base_estimator=model_, n_estimators=5, random_state=42)\n",
        "\n",
        "model, svm_bagg_score, svm_pred = train_evaluate_models(svm_bagg_clf,\n",
        "                                                        X_train_, X_test_,\n",
        "                                                        y_train_, y_test_,\n",
        "                                                        name='Bagging SVM', cm_plot=False)"
      ],
      "id": "7_0TmbwIIvw3"
    },
    {
      "cell_type": "code",
      "execution_count": null,
      "metadata": {
        "id": "e721d98d"
      },
      "outputs": [],
      "source": [
        "# # cv\n",
        "svm_res = evaluate_CV(model_, n_folds=10, name='SVM')"
      ],
      "id": "e721d98d"
    },
    {
      "cell_type": "markdown",
      "metadata": {
        "id": "8eixkpLZKwCg"
      },
      "source": [
        "## 1.5 Logistic Regressions"
      ],
      "id": "8eixkpLZKwCg"
    },
    {
      "cell_type": "code",
      "execution_count": null,
      "metadata": {
        "id": "-N38Y46uKwu4"
      },
      "outputs": [],
      "source": [
        "# LR model\n",
        "model = LogisticRegression(max_iter=1e3)\n",
        "\n",
        "model_, lr_score, y_pred = train_evaluate_models(model,\n",
        "                                         X_train_, X_test_,\n",
        "                                         y_train_, y_test_,\n",
        "                                         name='Logistic Regressions', cm_plot=False)"
      ],
      "id": "-N38Y46uKwu4"
    },
    {
      "cell_type": "code",
      "execution_count": null,
      "metadata": {
        "id": "KCpjuJ1mKwu4"
      },
      "outputs": [],
      "source": [
        "# bagging\n",
        "lr_bagg_clf = BaggingClassifier(base_estimator=model_, n_estimators=5, random_state=42)\n",
        "\n",
        "model, lr_bagg_score, y_pred = train_evaluate_models(lr_bagg_clf,\n",
        "                                                    X_train_, X_test_,\n",
        "                                                    y_train_, y_test_,\n",
        "                                                    name='Bagging Logistic Regressions', cm_plot=False)"
      ],
      "id": "KCpjuJ1mKwu4"
    },
    {
      "cell_type": "code",
      "execution_count": null,
      "metadata": {
        "id": "D--GSnVbKwu4"
      },
      "outputs": [],
      "source": [
        "# cv\n",
        "lr_res = evaluate_CV(model_, n_folds=10, name='Logistic Regressions')"
      ],
      "id": "D--GSnVbKwu4"
    },
    {
      "cell_type": "markdown",
      "metadata": {
        "id": "gQEQd096XyMj"
      },
      "source": [
        "## 1.6 CLFs Comparison"
      ],
      "id": "gQEQd096XyMj"
    },
    {
      "cell_type": "code",
      "execution_count": null,
      "metadata": {
        "id": "qxswsMR1Xx1d"
      },
      "outputs": [],
      "source": [
        "clfs = ['LSTM', 'Naive Bayes', 'KNN','SVM', 'LogReg.']\n",
        "scores = [lstm_score, nb_score, knn_score, svm_score, lr_score]\n",
        "cv_res = [0, nb_res, knn_res, svm_res, lr_res]\n",
        "res_bagg = [0, nb_bagg_score, knn_bagg_score, svm_bagg_score, lr_bagg_score]\n",
        "\n",
        "topic_scores = pd.DataFrame(scores, index=clfs, columns=['F1-Score'])\n",
        "topic_scores['CV-Score'] = cv_res\n",
        "topic_scores['BAGGING-Score'] = res_bagg\n",
        "\n",
        "\n",
        "topic_scores"
      ],
      "id": "qxswsMR1Xx1d"
    },
    {
      "cell_type": "code",
      "execution_count": null,
      "metadata": {
        "id": "V1xDvMi0a0n1"
      },
      "outputs": [],
      "source": [
        "def plot_comparision(acc_df, column, par='Topic'):\n",
        "    acc_df.plot(kind='bar', y=[f'{column}'], figsize=(11, 5), alpha=0.7);\n",
        "\n",
        "    for i in range(len(acc_df)):\n",
        "        text = '{:.2f}%'.format(acc_df[f'{column}'][i] * 100)\n",
        "        y_val = round(acc_df[f'{column}'][i], 4)\n",
        "        plt.text(i-0.15, y_val, text, color='r', alpha=1, fontsize=15);\n",
        "\n",
        "    plt.title(f'{par} CLFs Scores Comparision.', fontsize=18);\n",
        "    plt.xticks(rotation=0);\n",
        "    plt.yticks(np.arange(0, 1.1, 0.2));\n",
        "    plt.xlabel('Models', fontsize=14);\n",
        "    plt.ylabel(f'{column}', fontsize=14);\n",
        "    plt.legend([]);\n",
        "    plt.savefig(f'{par}_clfs_comparision.png')\n",
        "    plt.show()"
      ],
      "id": "V1xDvMi0a0n1"
    },
    {
      "cell_type": "code",
      "execution_count": null,
      "metadata": {
        "id": "slnUCtXhY1VS"
      },
      "outputs": [],
      "source": [
        "plot_comparision(topic_scores, 'F1-Score')"
      ],
      "id": "slnUCtXhY1VS"
    },
    {
      "cell_type": "code",
      "execution_count": null,
      "metadata": {
        "id": "f5ed635c"
      },
      "outputs": [],
      "source": [
        "topic_scores.plot(kind='bar', figsize=(11, 5), alpha=0.7)\n",
        "plt.title(f'CLFs Single vs Cross-Valid vs Bagging Scores Comparision.', fontsize=18);\n",
        "plt.xticks(rotation=30);\n",
        "\n",
        "plt.show()"
      ],
      "id": "f5ed635c"
    },
    {
      "cell_type": "markdown",
      "metadata": {
        "id": "blank-burton"
      },
      "source": [
        "# **2. Sentiment (Target)**"
      ],
      "id": "blank-burton"
    },
    {
      "cell_type": "markdown",
      "metadata": {
        "id": "2Dc3swdxGo7C"
      },
      "source": [
        "## Target Preprocessing"
      ],
      "id": "2Dc3swdxGo7C"
    },
    {
      "cell_type": "code",
      "execution_count": null,
      "metadata": {
        "colab": {
          "base_uri": "https://localhost:8080/"
        },
        "id": "P6YeI2VfOcu7",
        "outputId": "b53904ae-55b0-4d9e-9c75-9b2dd2540f44"
      },
      "outputs": [
        {
          "data": {
            "text/plain": [
              "['Negative', 'Neutral', 'Positive']"
            ]
          },
          "execution_count": 29,
          "metadata": {},
          "output_type": "execute_result"
        }
      ],
      "source": [
        "target_col = 'sentiment(Target)'\n",
        "\n",
        "classes = sorted(tweets[target_col].unique())\n",
        "n_classes = len(classes)\n",
        "\n",
        "classes"
      ],
      "id": "P6YeI2VfOcu7"
    },
    {
      "cell_type": "code",
      "execution_count": null,
      "metadata": {
        "colab": {
          "base_uri": "https://localhost:8080/",
          "height": 300
        },
        "id": "zLeeCrvaGVLc",
        "outputId": "077ef5f9-4d58-469d-e772-615cb9d35a15"
      },
      "outputs": [
        {
          "data": {
            "image/png": "[encoded data removed]",
            "text/plain": [
              "<Figure size 432x288 with 1 Axes>"
            ]
          },
          "metadata": {},
          "output_type": "display_data"
        }
      ],
      "source": [
        "tweets[target_col].value_counts().plot(kind='bar');"
      ],
      "id": "zLeeCrvaGVLc"
    },
    {
      "cell_type": "code",
      "execution_count": null,
      "metadata": {
        "colab": {
          "base_uri": "https://localhost:8080/"
        },
        "id": "CUKl6rIwF9eu",
        "outputId": "2632dc1f-ed0b-498c-9a45-84b4cb880899"
      },
      "outputs": [
        {
          "data": {
            "text/plain": [
              "(32760,)"
            ]
          },
          "execution_count": 31,
          "metadata": {},
          "output_type": "execute_result"
        }
      ],
      "source": [
        "# One Hot Encode Y values:\n",
        "le = LabelEncoder()\n",
        "y = le.fit_transform(tweets[target_col].values)\n",
        "y.shape"
      ],
      "id": "CUKl6rIwF9eu"
    },
    {
      "cell_type": "markdown",
      "metadata": {
        "id": "epOHLwUaEUl8"
      },
      "source": [
        "### Features Preprocessing"
      ],
      "id": "epOHLwUaEUl8"
    },
    {
      "cell_type": "code",
      "execution_count": null,
      "metadata": {
        "colab": {
          "base_uri": "https://localhost:8080/"
        },
        "id": "MwwlYSMaKjCQ",
        "outputId": "ad5c5058-123c-491c-fd5d-cd3f7116a70a"
      },
      "outputs": [
        {
          "data": {
            "text/plain": [
              "(32760,)"
            ]
          },
          "execution_count": 32,
          "metadata": {},
          "output_type": "execute_result"
        }
      ],
      "source": [
        "text = tweets['Text']\n",
        "text.shape"
      ],
      "id": "MwwlYSMaKjCQ"
    },
    {
      "cell_type": "code",
      "execution_count": null,
      "metadata": {
        "colab": {
          "base_uri": "https://localhost:8080/"
        },
        "id": "lPULf-YxQMYK",
        "outputId": "b7673daa-0ba7-4eb1-e5f2-8fb310da8f92"
      },
      "outputs": [
        {
          "data": {
            "text/plain": [
              "(32760, 86321)"
            ]
          },
          "execution_count": 33,
          "metadata": {},
          "output_type": "execute_result"
        }
      ],
      "source": [
        "count_vect = CountVectorizer(stop_words = sw)\n",
        "X = count_vect.fit_transform(text)\n",
        "\n",
        "tfidf_transformer = TfidfTransformer()\n",
        "X_tfidf = tfidf_transformer.fit_transform(X)\n",
        "X_tfidf.shape"
      ],
      "id": "lPULf-YxQMYK"
    },
    {
      "cell_type": "code",
      "execution_count": null,
      "metadata": {
        "colab": {
          "base_uri": "https://localhost:8080/"
        },
        "id": "FttaDj7oQd_L",
        "outputId": "c6bdabe1-963d-4ef5-b3f7-edc1756068cf"
      },
      "outputs": [
        {
          "data": {
            "text/plain": [
              "((68397, 86321), (68397,))"
            ]
          },
          "execution_count": 34,
          "metadata": {},
          "output_type": "execute_result"
        }
      ],
      "source": [
        "# Over Sampling\n",
        "from imblearn.over_sampling import SMOTE\n",
        "oversample = SMOTE()\n",
        "\n",
        "X_, y_ = oversample.fit_resample(X_tfidf, y)\n",
        "\n",
        "X_.shape, y_.shape"
      ],
      "id": "FttaDj7oQd_L"
    },
    {
      "cell_type": "code",
      "execution_count": null,
      "metadata": {
        "colab": {
          "base_uri": "https://localhost:8080/"
        },
        "id": "FWI15rKZe3W9",
        "outputId": "217ce598-cfc3-4f26-eb5b-e20e9229364d"
      },
      "outputs": [
        {
          "data": {
            "text/plain": [
              "((14787, 86321), (14787,))"
            ]
          },
          "execution_count": 33,
          "metadata": {},
          "output_type": "execute_result"
        }
      ],
      "source": [
        "from imblearn.under_sampling import RandomUnderSampler\n",
        "oversample=RandomUnderSampler(random_state=0)\n",
        "oversample.fit(X, y)\n",
        "X_, y_  = oversample.fit_resample(X_tfidf, y)\n",
        "X_.shape, y_.shape"
      ],
      "id": "FWI15rKZe3W9"
    },
    {
      "cell_type": "code",
      "execution_count": null,
      "metadata": {
        "colab": {
          "base_uri": "https://localhost:8080/"
        },
        "id": "5U2ck9ZLlXyK",
        "outputId": "23aaa752-ce95-4df9-fb6a-48047e43caa4"
      },
      "outputs": [
        {
          "data": {
            "text/plain": [
              "(array([0, 1, 2]), array([ 4929, 22799,  5032]))"
            ]
          },
          "execution_count": 35,
          "metadata": {},
          "output_type": "execute_result"
        }
      ],
      "source": [
        "np.unique(y, return_counts=True)"
      ],
      "id": "5U2ck9ZLlXyK"
    },
    {
      "cell_type": "code",
      "execution_count": null,
      "metadata": {
        "id": "Q6Pb0JFxL21W"
      },
      "outputs": [],
      "source": [
        "X_train_, X_test_, y_train_, y_test_ = train_test_split(X_, y_, test_size=0.2, random_state=42, stratify=y_)\n",
        "#X_train_, X_test_, y_train_, y_test_ = train_test_split(X_tfidf, y, test_size=0.2, random_state=42, stratify=y)"
      ],
      "id": "Q6Pb0JFxL21W"
    },
    {
      "cell_type": "markdown",
      "metadata": {
        "id": "KenBUWZPljrH"
      },
      "source": [
        "## 2.1 Naive Bayes"
      ],
      "id": "KenBUWZPljrH"
    },
    {
      "cell_type": "code",
      "execution_count": null,
      "metadata": {
        "colab": {
          "base_uri": "https://localhost:8080/",
          "height": 624
        },
        "id": "YorkKO9YEUl9",
        "outputId": "50d54406-05f5-44ae-aa30-4ec117b8ca72"
      },
      "outputs": [
        {
          "name": "stdout",
          "output_type": "stream",
          "text": [
            "Sentiment Multinomial NB Training...\n",
            "Sentiment Multinomial NB F1-score 92.53%\n",
            "------------------------------\n",
            "Classification Reports...\n",
            "\n",
            "              precision    recall  f1-score   support\n",
            "\n",
            "    Negative       0.91      0.99      0.95      4560\n",
            "     Neutral       0.98      0.79      0.88      4560\n",
            "    Positive       0.90      0.99      0.95      4560\n",
            "\n",
            "    accuracy                           0.93     13680\n",
            "   macro avg       0.93      0.93      0.92     13680\n",
            "weighted avg       0.93      0.93      0.92     13680\n",
            "\n"
          ]
        },
        {
          "name": "stderr",
          "output_type": "stream",
          "text": [
            "/usr/local/lib/python3.8/dist-packages/sklearn/utils/deprecation.py:87: FutureWarning: Function plot_confusion_matrix is deprecated; Function `plot_confusion_matrix` is deprecated in 1.0 and will be removed in 1.2. Use one of the class methods: ConfusionMatrixDisplay.from_predictions or ConfusionMatrixDisplay.from_estimator.\n",
            "  warnings.warn(msg, category=FutureWarning)\n"
          ]
        },
        {
          "data": {
            "image/png": "[encoded data removed]",
            "text/plain": [
              "<Figure size 360x360 with 2 Axes>"
            ]
          },
          "metadata": {},
          "output_type": "display_data"
        }
      ],
      "source": [
        "# NB model\n",
        "model = MultinomialNB(alpha=1e-8)\n",
        "\n",
        "model_, nb_score, y_pred = train_evaluate_models(model,\n",
        "                                         X_train_, X_test_,\n",
        "                                         y_train_, y_test_,\n",
        "                                         name='Sentiment Multinomial NB', cm_plot=True)\n"
      ],
      "id": "YorkKO9YEUl9"
    },
    {
      "cell_type": "markdown",
      "metadata": {
        "id": "4cIkIImRj91K"
      },
      "source": [
        "### Bagging"
      ],
      "id": "4cIkIImRj91K"
    },
    {
      "cell_type": "code",
      "execution_count": null,
      "metadata": {
        "colab": {
          "base_uri": "https://localhost:8080/",
          "height": 624
        },
        "id": "D5rpLitKktQu",
        "outputId": "5b20ae60-8f0a-4598-9730-d038f8ae7974"
      },
      "outputs": [
        {
          "name": "stdout",
          "output_type": "stream",
          "text": [
            "Sentiment Bagging Multinomial NB Training...\n",
            "Sentiment Bagging Multinomial NB F1-score 91.29%\n",
            "------------------------------\n",
            "Classification Reports...\n",
            "\n",
            "              precision    recall  f1-score   support\n",
            "\n",
            "    Negative       0.89      0.99      0.94      4560\n",
            "     Neutral       0.98      0.76      0.86      4560\n",
            "    Positive       0.89      0.99      0.94      4560\n",
            "\n",
            "    accuracy                           0.91     13680\n",
            "   macro avg       0.92      0.91      0.91     13680\n",
            "weighted avg       0.92      0.91      0.91     13680\n",
            "\n"
          ]
        },
        {
          "name": "stderr",
          "output_type": "stream",
          "text": [
            "/usr/local/lib/python3.8/dist-packages/sklearn/utils/deprecation.py:87: FutureWarning: Function plot_confusion_matrix is deprecated; Function `plot_confusion_matrix` is deprecated in 1.0 and will be removed in 1.2. Use one of the class methods: ConfusionMatrixDisplay.from_predictions or ConfusionMatrixDisplay.from_estimator.\n",
            "  warnings.warn(msg, category=FutureWarning)\n"
          ]
        },
        {
          "data": {
            "image/png": "[encoded data removed]",
            "text/plain": [
              "<Figure size 360x360 with 2 Axes>"
            ]
          },
          "metadata": {},
          "output_type": "display_data"
        }
      ],
      "source": [
        "nb_bagg_clf = BaggingClassifier(base_estimator=model_, n_estimators=5, random_state=42, n_jobs=-1)\n",
        "\n",
        "model, nb_bagg_score, y_pred = train_evaluate_models(nb_bagg_clf,\n",
        "                                                    X_train_, X_test_,\n",
        "                                                    y_train_, y_test_,\n",
        "                                                    name='Sentiment Bagging Multinomial NB', cm_plot=True)"
      ],
      "id": "D5rpLitKktQu"
    },
    {
      "cell_type": "code",
      "execution_count": null,
      "metadata": {
        "colab": {
          "base_uri": "https://localhost:8080/",
          "height": 329
        },
        "id": "e8253c03",
        "outputId": "8c8291cf-1167-421d-bcdb-1ce45dca1b0c"
      },
      "outputs": [
        {
          "name": "stdout",
          "output_type": "stream",
          "text": [
            "CV Score...\n",
            "Accuracy: 0.9191659792301996\n"
          ]
        },
        {
          "data": {
            "image/png": "[encoded data removed]",
            "text/plain": [
              "<Figure size 432x288 with 1 Axes>"
            ]
          },
          "metadata": {},
          "output_type": "display_data"
        }
      ],
      "source": [
        "# cv\n",
        "nb_res = evaluate_CV(model_, n_folds=10, name='Sentiment Multinomial NB')"
      ],
      "id": "e8253c03"
    },
    {
      "cell_type": "markdown",
      "metadata": {
        "id": "uGAetL6MEUl9"
      },
      "source": [
        "## 2.2 KNN"
      ],
      "id": "uGAetL6MEUl9"
    },
    {
      "cell_type": "code",
      "execution_count": null,
      "metadata": {
        "colab": {
          "base_uri": "https://localhost:8080/",
          "height": 624
        },
        "id": "HgWNHEzNEUl9",
        "outputId": "b6fa2031-77d3-414f-95da-0c894ee4784f"
      },
      "outputs": [
        {
          "name": "stdout",
          "output_type": "stream",
          "text": [
            "Sentiment KNN Training...\n",
            "Sentiment KNN F1-score 70.36%\n",
            "------------------------------\n",
            "Classification Reports...\n",
            "\n",
            "              precision    recall  f1-score   support\n",
            "\n",
            "    Negative       0.64      0.99      0.78      4560\n",
            "     Neutral       0.97      0.14      0.24      4560\n",
            "    Positive       0.75      0.98      0.85      4560\n",
            "\n",
            "    accuracy                           0.70     13680\n",
            "   macro avg       0.79      0.70      0.62     13680\n",
            "weighted avg       0.79      0.70      0.62     13680\n",
            "\n"
          ]
        },
        {
          "name": "stderr",
          "output_type": "stream",
          "text": [
            "/usr/local/lib/python3.8/dist-packages/sklearn/utils/deprecation.py:87: FutureWarning: Function plot_confusion_matrix is deprecated; Function `plot_confusion_matrix` is deprecated in 1.0 and will be removed in 1.2. Use one of the class methods: ConfusionMatrixDisplay.from_predictions or ConfusionMatrixDisplay.from_estimator.\n",
            "  warnings.warn(msg, category=FutureWarning)\n"
          ]
        },
        {
          "data": {
            "image/png": "[encoded data removed]",
            "text/plain": [
              "<Figure size 360x360 with 2 Axes>"
            ]
          },
          "metadata": {},
          "output_type": "display_data"
        }
      ],
      "source": [
        "# KNN model\n",
        "model = KNeighborsClassifier(n_neighbors=5)\n",
        "\n",
        "model_, knn_score, y_pred = train_evaluate_models(model,\n",
        "                                           X_train_, X_test_,\n",
        "                                           y_train_, y_test_,\n",
        "                                           name='Sentiment KNN', cm_plot=True)"
      ],
      "id": "HgWNHEzNEUl9"
    },
    {
      "cell_type": "code",
      "execution_count": null,
      "metadata": {
        "colab": {
          "base_uri": "https://localhost:8080/"
        },
        "id": "pwa7alO9mIeP",
        "outputId": "e8520115-753b-48da-d47d-bd6ed8b3202b"
      },
      "outputs": [
        {
          "name": "stdout",
          "output_type": "stream",
          "text": [
            "Sentiment Bagging KNN Training...\n",
            "Sentiment Bagging KNN F1-score 71.48%\n",
            "------------------------------\n",
            "Classification Reports...\n",
            "\n",
            "              precision    recall  f1-score   support\n",
            "\n",
            "    Negative       0.68      0.99      0.81      4560\n",
            "     Neutral       0.98      0.17      0.29      4560\n",
            "    Positive       0.72      0.99      0.83      4560\n",
            "\n",
            "    accuracy                           0.71     13680\n",
            "   macro avg       0.79      0.71      0.64     13680\n",
            "weighted avg       0.79      0.71      0.64     13680\n",
            "\n"
          ]
        }
      ],
      "source": [
        "# bagging\n",
        "knn_bagg_clf = BaggingClassifier(base_estimator=model_, n_estimators=5, random_state=42)\n",
        "\n",
        "model, knn_bagg_score, y_pred = train_evaluate_models(knn_bagg_clf,\n",
        "                                                    X_train_, X_test_,\n",
        "                                                    y_train_, y_test_,\n",
        "                                                    name='Sentiment Bagging KNN', cm_plot=False)"
      ],
      "id": "pwa7alO9mIeP"
    },
    {
      "cell_type": "code",
      "execution_count": null,
      "metadata": {
        "colab": {
          "base_uri": "https://localhost:8080/",
          "height": 329
        },
        "id": "4ba13e43",
        "outputId": "3e1e0990-fb88-48f5-dc1f-f0fd93feeee9"
      },
      "outputs": [
        {
          "name": "stdout",
          "output_type": "stream",
          "text": [
            "CV Score...\n",
            "Accuracy: 0.6941902699881672\n"
          ]
        },
        {
          "data": {
            "image/png": "[encoded data removed]",
            "text/plain": [
              "<Figure size 432x288 with 1 Axes>"
            ]
          },
          "metadata": {},
          "output_type": "display_data"
        }
      ],
      "source": [
        "# cv\n",
        "knn_res = evaluate_CV(model_, n_folds=10, name='Sentiment KNN')"
      ],
      "id": "4ba13e43"
    },
    {
      "cell_type": "markdown",
      "metadata": {
        "id": "6mIa-HcUEUl9"
      },
      "source": [
        "## 2.3 SVM"
      ],
      "id": "6mIa-HcUEUl9"
    },
    {
      "cell_type": "code",
      "execution_count": null,
      "metadata": {
        "colab": {
          "base_uri": "https://localhost:8080/",
          "height": 842
        },
        "id": "b2PMVN1ZEUl9",
        "outputId": "72949292-cb6d-4e0d-841b-545b4f9ab409"
      },
      "outputs": [
        {
          "name": "stdout",
          "output_type": "stream",
          "text": [
            "Sentiment SVM Training...\n",
            "Sentiment SVM F1-score 91.20%\n",
            "------------------------------\n",
            "Classification Reports...\n",
            "\n",
            "              precision    recall  f1-score   support\n",
            "\n",
            "    Negative       0.99      0.88      0.93      4560\n",
            "     Neutral       0.80      0.98      0.88      4560\n",
            "    Positive       0.99      0.88      0.93      4560\n",
            "\n",
            "    accuracy                           0.91     13680\n",
            "   macro avg       0.93      0.91      0.91     13680\n",
            "weighted avg       0.93      0.91      0.91     13680\n",
            "\n"
          ]
        },
        {
          "name": "stderr",
          "output_type": "stream",
          "text": [
            "/usr/local/lib/python3.8/dist-packages/sklearn/utils/deprecation.py:87: FutureWarning: Function plot_confusion_matrix is deprecated; Function `plot_confusion_matrix` is deprecated in 1.0 and will be removed in 1.2. Use one of the class methods: ConfusionMatrixDisplay.from_predictions or ConfusionMatrixDisplay.from_estimator.\n",
            "  warnings.warn(msg, category=FutureWarning)\n"
          ]
        },
        {
          "ename": "ValueError",
          "evalue": "ignored",
          "output_type": "error",
          "traceback": [
            "\u001b[0;31m---------------------------------------------------------------------------\u001b[0m",
            "\u001b[0;31mValueError\u001b[0m                                Traceback (most recent call last)",
            "\u001b[0;32m<ipython-input-46-6c52ed3a5359>\u001b[0m in \u001b[0;36m<module>\u001b[0;34m\u001b[0m\n\u001b[1;32m      2\u001b[0m \u001b[0mmodel\u001b[0m \u001b[0;34m=\u001b[0m \u001b[0mSVC\u001b[0m\u001b[0;34m(\u001b[0m\u001b[0;34m)\u001b[0m\u001b[0;34m\u001b[0m\u001b[0;34m\u001b[0m\u001b[0m\n\u001b[1;32m      3\u001b[0m \u001b[0;34m\u001b[0m\u001b[0m\n\u001b[0;32m----> 4\u001b[0;31m model_, svm_score = train_evaluate_models(model, \n\u001b[0m\u001b[1;32m      5\u001b[0m                                            \u001b[0mX_train_\u001b[0m\u001b[0;34m,\u001b[0m \u001b[0mX_test_\u001b[0m\u001b[0;34m,\u001b[0m\u001b[0;34m\u001b[0m\u001b[0;34m\u001b[0m\u001b[0m\n\u001b[1;32m      6\u001b[0m                                            \u001b[0my_train_\u001b[0m\u001b[0;34m,\u001b[0m \u001b[0my_test_\u001b[0m\u001b[0;34m,\u001b[0m\u001b[0;34m\u001b[0m\u001b[0;34m\u001b[0m\u001b[0m\n",
            "\u001b[0;31mValueError\u001b[0m: too many values to unpack (expected 2)"
          ]
        },
        {
          "data": {
            "image/png": "[encoded data removed]",
            "text/plain": [
              "<Figure size 360x360 with 2 Axes>"
            ]
          },
          "metadata": {},
          "output_type": "display_data"
        }
      ],
      "source": [
        "# # SVM model\n",
        "model = SVC()\n",
        "\n",
        "model_, svm_score = train_evaluate_models(model,\n",
        "                                           X_train_, X_test_,\n",
        "                                           y_train_, y_test_,\n",
        "                                           name='Sentiment SVM', cm_plot=True)"
      ],
      "id": "b2PMVN1ZEUl9"
    },
    {
      "cell_type": "code",
      "execution_count": null,
      "metadata": {
        "colab": {
          "background_save": true,
          "base_uri": "https://localhost:8080/"
        },
        "id": "8xBtLWcjIfIp",
        "outputId": "bd4103f3-66be-4276-e0ab-5c1871163084"
      },
      "outputs": [
        {
          "name": "stdout",
          "output_type": "stream",
          "text": [
            "Sentiment Bagging SVM Training...\n"
          ]
        }
      ],
      "source": [
        "# # bagging\n",
        "svm_bagg_clf = BaggingClassifier(base_estimator=model, n_estimators=5, random_state=42)\n",
        "\n",
        "model, svm_bagg_score, svm_pred = train_evaluate_models(svm_bagg_clf,\n",
        "                                                        X_train_, X_test_,\n",
        "                                                        y_train_, y_test_,\n",
        "                                                        name='Sentiment Bagging SVM', cm_plot=False)"
      ],
      "id": "8xBtLWcjIfIp"
    },
    {
      "cell_type": "code",
      "execution_count": null,
      "metadata": {
        "id": "92e620b0"
      },
      "outputs": [],
      "source": [
        "# # cv\n",
        "svm_res = evaluate_CV(model, n_folds=10, name='Sentiment SVM')"
      ],
      "id": "92e620b0"
    },
    {
      "cell_type": "markdown",
      "metadata": {
        "id": "IWhW27Pwlsm8"
      },
      "source": [
        "## 2.4 Logistic Regression"
      ],
      "id": "IWhW27Pwlsm8"
    },
    {
      "cell_type": "code",
      "execution_count": null,
      "metadata": {
        "colab": {
          "base_uri": "https://localhost:8080/"
        },
        "id": "Yh5EnO-6PAxe",
        "outputId": "2c00e2a4-468f-418b-f5b9-6bbb8fbe8a4d"
      },
      "outputs": [
        {
          "name": "stdout",
          "output_type": "stream",
          "text": [
            "Sentiment Logistic Regressions Training...\n"
          ]
        }
      ],
      "source": [
        "# LR model\n",
        "model = LogisticRegression(max_iter=1e3)\n",
        "\n",
        "model_, lr_score, y_pred = train_evaluate_models(model,\n",
        "                                         X_train_, X_test_,\n",
        "                                         y_train_, y_test_,\n",
        "                                         name='Sentiment Logistic Regressions', cm_plot=True)"
      ],
      "id": "Yh5EnO-6PAxe"
    },
    {
      "cell_type": "code",
      "execution_count": null,
      "metadata": {
        "colab": {
          "base_uri": "https://localhost:8080/",
          "height": 381
        },
        "id": "k4gbPQL5mSim",
        "outputId": "8dce09af-8b5c-41cc-a467-05e52b624485"
      },
      "outputs": [
        {
          "name": "stdout",
          "output_type": "stream",
          "text": [
            "Sentiment Bagging Logistic Regressions Training...\n"
          ]
        },
        {
          "ename": "KeyboardInterrupt",
          "evalue": "ignored",
          "output_type": "error",
          "traceback": [
            "\u001b[0;31m---------------------------------------------------------------------------\u001b[0m",
            "\u001b[0;31mKeyboardInterrupt\u001b[0m                         Traceback (most recent call last)",
            "\u001b[0;32m<ipython-input-46-d600669ca464>\u001b[0m in \u001b[0;36m<module>\u001b[0;34m()\u001b[0m\n\u001b[1;32m      5\u001b[0m                                                     \u001b[0mX_train_\u001b[0m\u001b[0;34m,\u001b[0m \u001b[0mX_test_\u001b[0m\u001b[0;34m,\u001b[0m\u001b[0;34m\u001b[0m\u001b[0;34m\u001b[0m\u001b[0m\n\u001b[1;32m      6\u001b[0m                                                     \u001b[0my_train_\u001b[0m\u001b[0;34m,\u001b[0m \u001b[0my_test_\u001b[0m\u001b[0;34m,\u001b[0m\u001b[0;34m\u001b[0m\u001b[0;34m\u001b[0m\u001b[0m\n\u001b[0;32m----> 7\u001b[0;31m                                                     name='Sentiment Bagging Logistic Regressions', cm_plot=False)\n\u001b[0m",
            "\u001b[0;32m<ipython-input-25-352b2367ecfc>\u001b[0m in \u001b[0;36mtrain_evaluate_models\u001b[0;34m(model, X_train_, X_test_, y_train_, y_test_, name, cm_plot)\u001b[0m\n\u001b[1;32m      8\u001b[0m         ])\n\u001b[1;32m      9\u001b[0m \u001b[0;34m\u001b[0m\u001b[0m\n\u001b[0;32m---> 10\u001b[0;31m     \u001b[0mclf\u001b[0m\u001b[0;34m.\u001b[0m\u001b[0mfit\u001b[0m\u001b[0;34m(\u001b[0m\u001b[0mX_train_\u001b[0m\u001b[0;34m,\u001b[0m \u001b[0my_train_\u001b[0m\u001b[0;34m)\u001b[0m\u001b[0;34m\u001b[0m\u001b[0;34m\u001b[0m\u001b[0m\n\u001b[0m\u001b[1;32m     11\u001b[0m \u001b[0;34m\u001b[0m\u001b[0m\n\u001b[1;32m     12\u001b[0m     \u001b[0my_pred\u001b[0m \u001b[0;34m=\u001b[0m \u001b[0mclf\u001b[0m\u001b[0;34m.\u001b[0m\u001b[0mpredict\u001b[0m\u001b[0;34m(\u001b[0m\u001b[0mX_test_\u001b[0m\u001b[0;34m)\u001b[0m\u001b[0;34m\u001b[0m\u001b[0;34m\u001b[0m\u001b[0m\n",
            "\u001b[0;32m/usr/local/lib/python3.7/dist-packages/sklearn/pipeline.py\u001b[0m in \u001b[0;36mfit\u001b[0;34m(self, X, y, **fit_params)\u001b[0m\n\u001b[1;32m    392\u001b[0m             \u001b[0;32mif\u001b[0m \u001b[0mself\u001b[0m\u001b[0;34m.\u001b[0m\u001b[0m_final_estimator\u001b[0m \u001b[0;34m!=\u001b[0m \u001b[0;34m\"passthrough\"\u001b[0m\u001b[0;34m:\u001b[0m\u001b[0;34m\u001b[0m\u001b[0;34m\u001b[0m\u001b[0m\n\u001b[1;32m    393\u001b[0m                 \u001b[0mfit_params_last_step\u001b[0m \u001b[0;34m=\u001b[0m \u001b[0mfit_params_steps\u001b[0m\u001b[0;34m[\u001b[0m\u001b[0mself\u001b[0m\u001b[0;34m.\u001b[0m\u001b[0msteps\u001b[0m\u001b[0;34m[\u001b[0m\u001b[0;34m-\u001b[0m\u001b[0;36m1\u001b[0m\u001b[0;34m]\u001b[0m\u001b[0;34m[\u001b[0m\u001b[0;36m0\u001b[0m\u001b[0;34m]\u001b[0m\u001b[0;34m]\u001b[0m\u001b[0;34m\u001b[0m\u001b[0;34m\u001b[0m\u001b[0m\n\u001b[0;32m--> 394\u001b[0;31m                 \u001b[0mself\u001b[0m\u001b[0;34m.\u001b[0m\u001b[0m_final_estimator\u001b[0m\u001b[0;34m.\u001b[0m\u001b[0mfit\u001b[0m\u001b[0;34m(\u001b[0m\u001b[0mXt\u001b[0m\u001b[0;34m,\u001b[0m \u001b[0my\u001b[0m\u001b[0;34m,\u001b[0m \u001b[0;34m**\u001b[0m\u001b[0mfit_params_last_step\u001b[0m\u001b[0;34m)\u001b[0m\u001b[0;34m\u001b[0m\u001b[0;34m\u001b[0m\u001b[0m\n\u001b[0m\u001b[1;32m    395\u001b[0m \u001b[0;34m\u001b[0m\u001b[0m\n\u001b[1;32m    396\u001b[0m         \u001b[0;32mreturn\u001b[0m \u001b[0mself\u001b[0m\u001b[0;34m\u001b[0m\u001b[0;34m\u001b[0m\u001b[0m\n",
            "\u001b[0;32m/usr/local/lib/python3.7/dist-packages/sklearn/ensemble/_bagging.py\u001b[0m in \u001b[0;36mfit\u001b[0;34m(self, X, y, sample_weight)\u001b[0m\n\u001b[1;32m    267\u001b[0m             \u001b[0mmulti_output\u001b[0m\u001b[0;34m=\u001b[0m\u001b[0;32mTrue\u001b[0m\u001b[0;34m,\u001b[0m\u001b[0;34m\u001b[0m\u001b[0;34m\u001b[0m\u001b[0m\n\u001b[1;32m    268\u001b[0m         )\n\u001b[0;32m--> 269\u001b[0;31m         \u001b[0;32mreturn\u001b[0m \u001b[0mself\u001b[0m\u001b[0;34m.\u001b[0m\u001b[0m_fit\u001b[0m\u001b[0;34m(\u001b[0m\u001b[0mX\u001b[0m\u001b[0;34m,\u001b[0m \u001b[0my\u001b[0m\u001b[0;34m,\u001b[0m \u001b[0mself\u001b[0m\u001b[0;34m.\u001b[0m\u001b[0mmax_samples\u001b[0m\u001b[0;34m,\u001b[0m \u001b[0msample_weight\u001b[0m\u001b[0;34m=\u001b[0m\u001b[0msample_weight\u001b[0m\u001b[0;34m)\u001b[0m\u001b[0;34m\u001b[0m\u001b[0;34m\u001b[0m\u001b[0m\n\u001b[0m\u001b[1;32m    270\u001b[0m \u001b[0;34m\u001b[0m\u001b[0m\n\u001b[1;32m    271\u001b[0m     \u001b[0;32mdef\u001b[0m \u001b[0m_parallel_args\u001b[0m\u001b[0;34m(\u001b[0m\u001b[0mself\u001b[0m\u001b[0;34m)\u001b[0m\u001b[0;34m:\u001b[0m\u001b[0;34m\u001b[0m\u001b[0;34m\u001b[0m\u001b[0m\n",
            "\u001b[0;32m/usr/local/lib/python3.7/dist-packages/sklearn/ensemble/_bagging.py\u001b[0m in \u001b[0;36m_fit\u001b[0;34m(self, X, y, max_samples, max_depth, sample_weight)\u001b[0m\n\u001b[1;32m    405\u001b[0m                 \u001b[0mverbose\u001b[0m\u001b[0;34m=\u001b[0m\u001b[0mself\u001b[0m\u001b[0;34m.\u001b[0m\u001b[0mverbose\u001b[0m\u001b[0;34m,\u001b[0m\u001b[0;34m\u001b[0m\u001b[0;34m\u001b[0m\u001b[0m\n\u001b[1;32m    406\u001b[0m             )\n\u001b[0;32m--> 407\u001b[0;31m             \u001b[0;32mfor\u001b[0m \u001b[0mi\u001b[0m \u001b[0;32min\u001b[0m \u001b[0mrange\u001b[0m\u001b[0;34m(\u001b[0m\u001b[0mn_jobs\u001b[0m\u001b[0;34m)\u001b[0m\u001b[0;34m\u001b[0m\u001b[0;34m\u001b[0m\u001b[0m\n\u001b[0m\u001b[1;32m    408\u001b[0m         )\n\u001b[1;32m    409\u001b[0m \u001b[0;34m\u001b[0m\u001b[0m\n",
            "\u001b[0;32m/usr/local/lib/python3.7/dist-packages/joblib/parallel.py\u001b[0m in \u001b[0;36m__call__\u001b[0;34m(self, iterable)\u001b[0m\n\u001b[1;32m   1041\u001b[0m             \u001b[0;31m# remaining jobs.\u001b[0m\u001b[0;34m\u001b[0m\u001b[0;34m\u001b[0m\u001b[0;34m\u001b[0m\u001b[0m\n\u001b[1;32m   1042\u001b[0m             \u001b[0mself\u001b[0m\u001b[0;34m.\u001b[0m\u001b[0m_iterating\u001b[0m \u001b[0;34m=\u001b[0m \u001b[0;32mFalse\u001b[0m\u001b[0;34m\u001b[0m\u001b[0;34m\u001b[0m\u001b[0m\n\u001b[0;32m-> 1043\u001b[0;31m             \u001b[0;32mif\u001b[0m \u001b[0mself\u001b[0m\u001b[0;34m.\u001b[0m\u001b[0mdispatch_one_batch\u001b[0m\u001b[0;34m(\u001b[0m\u001b[0miterator\u001b[0m\u001b[0;34m)\u001b[0m\u001b[0;34m:\u001b[0m\u001b[0;34m\u001b[0m\u001b[0;34m\u001b[0m\u001b[0m\n\u001b[0m\u001b[1;32m   1044\u001b[0m                 \u001b[0mself\u001b[0m\u001b[0;34m.\u001b[0m\u001b[0m_iterating\u001b[0m \u001b[0;34m=\u001b[0m \u001b[0mself\u001b[0m\u001b[0;34m.\u001b[0m\u001b[0m_original_iterator\u001b[0m \u001b[0;32mis\u001b[0m \u001b[0;32mnot\u001b[0m \u001b[0;32mNone\u001b[0m\u001b[0;34m\u001b[0m\u001b[0;34m\u001b[0m\u001b[0m\n\u001b[1;32m   1045\u001b[0m \u001b[0;34m\u001b[0m\u001b[0m\n",
            "\u001b[0;32m/usr/local/lib/python3.7/dist-packages/joblib/parallel.py\u001b[0m in \u001b[0;36mdispatch_one_batch\u001b[0;34m(self, iterator)\u001b[0m\n\u001b[1;32m    859\u001b[0m                 \u001b[0;32mreturn\u001b[0m \u001b[0;32mFalse\u001b[0m\u001b[0;34m\u001b[0m\u001b[0;34m\u001b[0m\u001b[0m\n\u001b[1;32m    860\u001b[0m             \u001b[0;32melse\u001b[0m\u001b[0;34m:\u001b[0m\u001b[0;34m\u001b[0m\u001b[0;34m\u001b[0m\u001b[0m\n\u001b[0;32m--> 861\u001b[0;31m                 \u001b[0mself\u001b[0m\u001b[0;34m.\u001b[0m\u001b[0m_dispatch\u001b[0m\u001b[0;34m(\u001b[0m\u001b[0mtasks\u001b[0m\u001b[0;34m)\u001b[0m\u001b[0;34m\u001b[0m\u001b[0;34m\u001b[0m\u001b[0m\n\u001b[0m\u001b[1;32m    862\u001b[0m                 \u001b[0;32mreturn\u001b[0m \u001b[0;32mTrue\u001b[0m\u001b[0;34m\u001b[0m\u001b[0;34m\u001b[0m\u001b[0m\n\u001b[1;32m    863\u001b[0m \u001b[0;34m\u001b[0m\u001b[0m\n",
            "\u001b[0;32m/usr/local/lib/python3.7/dist-packages/joblib/parallel.py\u001b[0m in \u001b[0;36m_dispatch\u001b[0;34m(self, batch)\u001b[0m\n\u001b[1;32m    777\u001b[0m         \u001b[0;32mwith\u001b[0m \u001b[0mself\u001b[0m\u001b[0;34m.\u001b[0m\u001b[0m_lock\u001b[0m\u001b[0;34m:\u001b[0m\u001b[0;34m\u001b[0m\u001b[0;34m\u001b[0m\u001b[0m\n\u001b[1;32m    778\u001b[0m             \u001b[0mjob_idx\u001b[0m \u001b[0;34m=\u001b[0m \u001b[0mlen\u001b[0m\u001b[0;34m(\u001b[0m\u001b[0mself\u001b[0m\u001b[0;34m.\u001b[0m\u001b[0m_jobs\u001b[0m\u001b[0;34m)\u001b[0m\u001b[0;34m\u001b[0m\u001b[0;34m\u001b[0m\u001b[0m\n\u001b[0;32m--> 779\u001b[0;31m             \u001b[0mjob\u001b[0m \u001b[0;34m=\u001b[0m \u001b[0mself\u001b[0m\u001b[0;34m.\u001b[0m\u001b[0m_backend\u001b[0m\u001b[0;34m.\u001b[0m\u001b[0mapply_async\u001b[0m\u001b[0;34m(\u001b[0m\u001b[0mbatch\u001b[0m\u001b[0;34m,\u001b[0m \u001b[0mcallback\u001b[0m\u001b[0;34m=\u001b[0m\u001b[0mcb\u001b[0m\u001b[0;34m)\u001b[0m\u001b[0;34m\u001b[0m\u001b[0;34m\u001b[0m\u001b[0m\n\u001b[0m\u001b[1;32m    780\u001b[0m             \u001b[0;31m# A job can complete so quickly than its callback is\u001b[0m\u001b[0;34m\u001b[0m\u001b[0;34m\u001b[0m\u001b[0;34m\u001b[0m\u001b[0m\n\u001b[1;32m    781\u001b[0m             \u001b[0;31m# called before we get here, causing self._jobs to\u001b[0m\u001b[0;34m\u001b[0m\u001b[0;34m\u001b[0m\u001b[0;34m\u001b[0m\u001b[0m\n",
            "\u001b[0;32m/usr/local/lib/python3.7/dist-packages/joblib/_parallel_backends.py\u001b[0m in \u001b[0;36mapply_async\u001b[0;34m(self, func, callback)\u001b[0m\n\u001b[1;32m    206\u001b[0m     \u001b[0;32mdef\u001b[0m \u001b[0mapply_async\u001b[0m\u001b[0;34m(\u001b[0m\u001b[0mself\u001b[0m\u001b[0;34m,\u001b[0m \u001b[0mfunc\u001b[0m\u001b[0;34m,\u001b[0m \u001b[0mcallback\u001b[0m\u001b[0;34m=\u001b[0m\u001b[0;32mNone\u001b[0m\u001b[0;34m)\u001b[0m\u001b[0;34m:\u001b[0m\u001b[0;34m\u001b[0m\u001b[0;34m\u001b[0m\u001b[0m\n\u001b[1;32m    207\u001b[0m         \u001b[0;34m\"\"\"Schedule a func to be run\"\"\"\u001b[0m\u001b[0;34m\u001b[0m\u001b[0;34m\u001b[0m\u001b[0m\n\u001b[0;32m--> 208\u001b[0;31m         \u001b[0mresult\u001b[0m \u001b[0;34m=\u001b[0m \u001b[0mImmediateResult\u001b[0m\u001b[0;34m(\u001b[0m\u001b[0mfunc\u001b[0m\u001b[0;34m)\u001b[0m\u001b[0;34m\u001b[0m\u001b[0;34m\u001b[0m\u001b[0m\n\u001b[0m\u001b[1;32m    209\u001b[0m         \u001b[0;32mif\u001b[0m \u001b[0mcallback\u001b[0m\u001b[0;34m:\u001b[0m\u001b[0;34m\u001b[0m\u001b[0;34m\u001b[0m\u001b[0m\n\u001b[1;32m    210\u001b[0m             \u001b[0mcallback\u001b[0m\u001b[0;34m(\u001b[0m\u001b[0mresult\u001b[0m\u001b[0;34m)\u001b[0m\u001b[0;34m\u001b[0m\u001b[0;34m\u001b[0m\u001b[0m\n",
            "\u001b[0;32m/usr/local/lib/python3.7/dist-packages/joblib/_parallel_backends.py\u001b[0m in \u001b[0;36m__init__\u001b[0;34m(self, batch)\u001b[0m\n\u001b[1;32m    570\u001b[0m         \u001b[0;31m# Don't delay the application, to avoid keeping the input\u001b[0m\u001b[0;34m\u001b[0m\u001b[0;34m\u001b[0m\u001b[0;34m\u001b[0m\u001b[0m\n\u001b[1;32m    571\u001b[0m         \u001b[0;31m# arguments in memory\u001b[0m\u001b[0;34m\u001b[0m\u001b[0;34m\u001b[0m\u001b[0;34m\u001b[0m\u001b[0m\n\u001b[0;32m--> 572\u001b[0;31m         \u001b[0mself\u001b[0m\u001b[0;34m.\u001b[0m\u001b[0mresults\u001b[0m \u001b[0;34m=\u001b[0m \u001b[0mbatch\u001b[0m\u001b[0;34m(\u001b[0m\u001b[0;34m)\u001b[0m\u001b[0;34m\u001b[0m\u001b[0;34m\u001b[0m\u001b[0m\n\u001b[0m\u001b[1;32m    573\u001b[0m \u001b[0;34m\u001b[0m\u001b[0m\n\u001b[1;32m    574\u001b[0m     \u001b[0;32mdef\u001b[0m \u001b[0mget\u001b[0m\u001b[0;34m(\u001b[0m\u001b[0mself\u001b[0m\u001b[0;34m)\u001b[0m\u001b[0;34m:\u001b[0m\u001b[0;34m\u001b[0m\u001b[0;34m\u001b[0m\u001b[0m\n",
            "\u001b[0;32m/usr/local/lib/python3.7/dist-packages/joblib/parallel.py\u001b[0m in \u001b[0;36m__call__\u001b[0;34m(self)\u001b[0m\n\u001b[1;32m    261\u001b[0m         \u001b[0;32mwith\u001b[0m \u001b[0mparallel_backend\u001b[0m\u001b[0;34m(\u001b[0m\u001b[0mself\u001b[0m\u001b[0;34m.\u001b[0m\u001b[0m_backend\u001b[0m\u001b[0;34m,\u001b[0m \u001b[0mn_jobs\u001b[0m\u001b[0;34m=\u001b[0m\u001b[0mself\u001b[0m\u001b[0;34m.\u001b[0m\u001b[0m_n_jobs\u001b[0m\u001b[0;34m)\u001b[0m\u001b[0;34m:\u001b[0m\u001b[0;34m\u001b[0m\u001b[0;34m\u001b[0m\u001b[0m\n\u001b[1;32m    262\u001b[0m             return [func(*args, **kwargs)\n\u001b[0;32m--> 263\u001b[0;31m                     for func, args, kwargs in self.items]\n\u001b[0m\u001b[1;32m    264\u001b[0m \u001b[0;34m\u001b[0m\u001b[0m\n\u001b[1;32m    265\u001b[0m     \u001b[0;32mdef\u001b[0m \u001b[0m__reduce__\u001b[0m\u001b[0;34m(\u001b[0m\u001b[0mself\u001b[0m\u001b[0;34m)\u001b[0m\u001b[0;34m:\u001b[0m\u001b[0;34m\u001b[0m\u001b[0;34m\u001b[0m\u001b[0m\n",
            "\u001b[0;32m/usr/local/lib/python3.7/dist-packages/joblib/parallel.py\u001b[0m in \u001b[0;36m<listcomp>\u001b[0;34m(.0)\u001b[0m\n\u001b[1;32m    261\u001b[0m         \u001b[0;32mwith\u001b[0m \u001b[0mparallel_backend\u001b[0m\u001b[0;34m(\u001b[0m\u001b[0mself\u001b[0m\u001b[0;34m.\u001b[0m\u001b[0m_backend\u001b[0m\u001b[0;34m,\u001b[0m \u001b[0mn_jobs\u001b[0m\u001b[0;34m=\u001b[0m\u001b[0mself\u001b[0m\u001b[0;34m.\u001b[0m\u001b[0m_n_jobs\u001b[0m\u001b[0;34m)\u001b[0m\u001b[0;34m:\u001b[0m\u001b[0;34m\u001b[0m\u001b[0;34m\u001b[0m\u001b[0m\n\u001b[1;32m    262\u001b[0m             return [func(*args, **kwargs)\n\u001b[0;32m--> 263\u001b[0;31m                     for func, args, kwargs in self.items]\n\u001b[0m\u001b[1;32m    264\u001b[0m \u001b[0;34m\u001b[0m\u001b[0m\n\u001b[1;32m    265\u001b[0m     \u001b[0;32mdef\u001b[0m \u001b[0m__reduce__\u001b[0m\u001b[0;34m(\u001b[0m\u001b[0mself\u001b[0m\u001b[0;34m)\u001b[0m\u001b[0;34m:\u001b[0m\u001b[0;34m\u001b[0m\u001b[0;34m\u001b[0m\u001b[0m\n",
            "\u001b[0;32m/usr/local/lib/python3.7/dist-packages/sklearn/utils/fixes.py\u001b[0m in \u001b[0;36m__call__\u001b[0;34m(self, *args, **kwargs)\u001b[0m\n\u001b[1;32m    214\u001b[0m     \u001b[0;32mdef\u001b[0m \u001b[0m__call__\u001b[0m\u001b[0;34m(\u001b[0m\u001b[0mself\u001b[0m\u001b[0;34m,\u001b[0m \u001b[0;34m*\u001b[0m\u001b[0margs\u001b[0m\u001b[0;34m,\u001b[0m \u001b[0;34m**\u001b[0m\u001b[0mkwargs\u001b[0m\u001b[0;34m)\u001b[0m\u001b[0;34m:\u001b[0m\u001b[0;34m\u001b[0m\u001b[0;34m\u001b[0m\u001b[0m\n\u001b[1;32m    215\u001b[0m         \u001b[0;32mwith\u001b[0m \u001b[0mconfig_context\u001b[0m\u001b[0;34m(\u001b[0m\u001b[0;34m**\u001b[0m\u001b[0mself\u001b[0m\u001b[0;34m.\u001b[0m\u001b[0mconfig\u001b[0m\u001b[0;34m)\u001b[0m\u001b[0;34m:\u001b[0m\u001b[0;34m\u001b[0m\u001b[0;34m\u001b[0m\u001b[0m\n\u001b[0;32m--> 216\u001b[0;31m             \u001b[0;32mreturn\u001b[0m \u001b[0mself\u001b[0m\u001b[0;34m.\u001b[0m\u001b[0mfunction\u001b[0m\u001b[0;34m(\u001b[0m\u001b[0;34m*\u001b[0m\u001b[0margs\u001b[0m\u001b[0;34m,\u001b[0m \u001b[0;34m**\u001b[0m\u001b[0mkwargs\u001b[0m\u001b[0;34m)\u001b[0m\u001b[0;34m\u001b[0m\u001b[0;34m\u001b[0m\u001b[0m\n\u001b[0m\u001b[1;32m    217\u001b[0m \u001b[0;34m\u001b[0m\u001b[0m\n\u001b[1;32m    218\u001b[0m \u001b[0;34m\u001b[0m\u001b[0m\n",
            "\u001b[0;32m/usr/local/lib/python3.7/dist-packages/sklearn/ensemble/_bagging.py\u001b[0m in \u001b[0;36m_parallel_build_estimators\u001b[0;34m(n_estimators, ensemble, X, y, sample_weight, seeds, total_n_estimators, verbose)\u001b[0m\n\u001b[1;32m    124\u001b[0m \u001b[0;34m\u001b[0m\u001b[0m\n\u001b[1;32m    125\u001b[0m         \u001b[0;32melse\u001b[0m\u001b[0;34m:\u001b[0m\u001b[0;34m\u001b[0m\u001b[0;34m\u001b[0m\u001b[0m\n\u001b[0;32m--> 126\u001b[0;31m             \u001b[0mestimator\u001b[0m\u001b[0;34m.\u001b[0m\u001b[0mfit\u001b[0m\u001b[0;34m(\u001b[0m\u001b[0;34m(\u001b[0m\u001b[0mX\u001b[0m\u001b[0;34m[\u001b[0m\u001b[0mindices\u001b[0m\u001b[0;34m]\u001b[0m\u001b[0;34m)\u001b[0m\u001b[0;34m[\u001b[0m\u001b[0;34m:\u001b[0m\u001b[0;34m,\u001b[0m \u001b[0mfeatures\u001b[0m\u001b[0;34m]\u001b[0m\u001b[0;34m,\u001b[0m \u001b[0my\u001b[0m\u001b[0;34m[\u001b[0m\u001b[0mindices\u001b[0m\u001b[0;34m]\u001b[0m\u001b[0;34m)\u001b[0m\u001b[0;34m\u001b[0m\u001b[0;34m\u001b[0m\u001b[0m\n\u001b[0m\u001b[1;32m    127\u001b[0m \u001b[0;34m\u001b[0m\u001b[0m\n\u001b[1;32m    128\u001b[0m         \u001b[0mestimators\u001b[0m\u001b[0;34m.\u001b[0m\u001b[0mappend\u001b[0m\u001b[0;34m(\u001b[0m\u001b[0mestimator\u001b[0m\u001b[0;34m)\u001b[0m\u001b[0;34m\u001b[0m\u001b[0;34m\u001b[0m\u001b[0m\n",
            "\u001b[0;32m/usr/local/lib/python3.7/dist-packages/sklearn/pipeline.py\u001b[0m in \u001b[0;36mfit\u001b[0;34m(self, X, y, **fit_params)\u001b[0m\n\u001b[1;32m    392\u001b[0m             \u001b[0;32mif\u001b[0m \u001b[0mself\u001b[0m\u001b[0;34m.\u001b[0m\u001b[0m_final_estimator\u001b[0m \u001b[0;34m!=\u001b[0m \u001b[0;34m\"passthrough\"\u001b[0m\u001b[0;34m:\u001b[0m\u001b[0;34m\u001b[0m\u001b[0;34m\u001b[0m\u001b[0m\n\u001b[1;32m    393\u001b[0m                 \u001b[0mfit_params_last_step\u001b[0m \u001b[0;34m=\u001b[0m \u001b[0mfit_params_steps\u001b[0m\u001b[0;34m[\u001b[0m\u001b[0mself\u001b[0m\u001b[0;34m.\u001b[0m\u001b[0msteps\u001b[0m\u001b[0;34m[\u001b[0m\u001b[0;34m-\u001b[0m\u001b[0;36m1\u001b[0m\u001b[0;34m]\u001b[0m\u001b[0;34m[\u001b[0m\u001b[0;36m0\u001b[0m\u001b[0;34m]\u001b[0m\u001b[0;34m]\u001b[0m\u001b[0;34m\u001b[0m\u001b[0;34m\u001b[0m\u001b[0m\n\u001b[0;32m--> 394\u001b[0;31m                 \u001b[0mself\u001b[0m\u001b[0;34m.\u001b[0m\u001b[0m_final_estimator\u001b[0m\u001b[0;34m.\u001b[0m\u001b[0mfit\u001b[0m\u001b[0;34m(\u001b[0m\u001b[0mXt\u001b[0m\u001b[0;34m,\u001b[0m \u001b[0my\u001b[0m\u001b[0;34m,\u001b[0m \u001b[0;34m**\u001b[0m\u001b[0mfit_params_last_step\u001b[0m\u001b[0;34m)\u001b[0m\u001b[0;34m\u001b[0m\u001b[0;34m\u001b[0m\u001b[0m\n\u001b[0m\u001b[1;32m    395\u001b[0m \u001b[0;34m\u001b[0m\u001b[0m\n\u001b[1;32m    396\u001b[0m         \u001b[0;32mreturn\u001b[0m \u001b[0mself\u001b[0m\u001b[0;34m\u001b[0m\u001b[0;34m\u001b[0m\u001b[0m\n",
            "\u001b[0;32m/usr/local/lib/python3.7/dist-packages/sklearn/linear_model/_logistic.py\u001b[0m in \u001b[0;36mfit\u001b[0;34m(self, X, y, sample_weight)\u001b[0m\n\u001b[1;32m   1612\u001b[0m                 \u001b[0msample_weight\u001b[0m\u001b[0;34m=\u001b[0m\u001b[0msample_weight\u001b[0m\u001b[0;34m,\u001b[0m\u001b[0;34m\u001b[0m\u001b[0;34m\u001b[0m\u001b[0m\n\u001b[1;32m   1613\u001b[0m             )\n\u001b[0;32m-> 1614\u001b[0;31m             \u001b[0;32mfor\u001b[0m \u001b[0mclass_\u001b[0m\u001b[0;34m,\u001b[0m \u001b[0mwarm_start_coef_\u001b[0m \u001b[0;32min\u001b[0m \u001b[0mzip\u001b[0m\u001b[0;34m(\u001b[0m\u001b[0mclasses_\u001b[0m\u001b[0;34m,\u001b[0m \u001b[0mwarm_start_coef\u001b[0m\u001b[0;34m)\u001b[0m\u001b[0;34m\u001b[0m\u001b[0;34m\u001b[0m\u001b[0m\n\u001b[0m\u001b[1;32m   1615\u001b[0m         )\n\u001b[1;32m   1616\u001b[0m \u001b[0;34m\u001b[0m\u001b[0m\n",
            "\u001b[0;32m/usr/local/lib/python3.7/dist-packages/joblib/parallel.py\u001b[0m in \u001b[0;36m__call__\u001b[0;34m(self, iterable)\u001b[0m\n\u001b[1;32m   1041\u001b[0m             \u001b[0;31m# remaining jobs.\u001b[0m\u001b[0;34m\u001b[0m\u001b[0;34m\u001b[0m\u001b[0;34m\u001b[0m\u001b[0m\n\u001b[1;32m   1042\u001b[0m             \u001b[0mself\u001b[0m\u001b[0;34m.\u001b[0m\u001b[0m_iterating\u001b[0m \u001b[0;34m=\u001b[0m \u001b[0;32mFalse\u001b[0m\u001b[0;34m\u001b[0m\u001b[0;34m\u001b[0m\u001b[0m\n\u001b[0;32m-> 1043\u001b[0;31m             \u001b[0;32mif\u001b[0m \u001b[0mself\u001b[0m\u001b[0;34m.\u001b[0m\u001b[0mdispatch_one_batch\u001b[0m\u001b[0;34m(\u001b[0m\u001b[0miterator\u001b[0m\u001b[0;34m)\u001b[0m\u001b[0;34m:\u001b[0m\u001b[0;34m\u001b[0m\u001b[0;34m\u001b[0m\u001b[0m\n\u001b[0m\u001b[1;32m   1044\u001b[0m                 \u001b[0mself\u001b[0m\u001b[0;34m.\u001b[0m\u001b[0m_iterating\u001b[0m \u001b[0;34m=\u001b[0m \u001b[0mself\u001b[0m\u001b[0;34m.\u001b[0m\u001b[0m_original_iterator\u001b[0m \u001b[0;32mis\u001b[0m \u001b[0;32mnot\u001b[0m \u001b[0;32mNone\u001b[0m\u001b[0;34m\u001b[0m\u001b[0;34m\u001b[0m\u001b[0m\n\u001b[1;32m   1045\u001b[0m \u001b[0;34m\u001b[0m\u001b[0m\n",
            "\u001b[0;32m/usr/local/lib/python3.7/dist-packages/joblib/parallel.py\u001b[0m in \u001b[0;36mdispatch_one_batch\u001b[0;34m(self, iterator)\u001b[0m\n\u001b[1;32m    859\u001b[0m                 \u001b[0;32mreturn\u001b[0m \u001b[0;32mFalse\u001b[0m\u001b[0;34m\u001b[0m\u001b[0;34m\u001b[0m\u001b[0m\n\u001b[1;32m    860\u001b[0m             \u001b[0;32melse\u001b[0m\u001b[0;34m:\u001b[0m\u001b[0;34m\u001b[0m\u001b[0;34m\u001b[0m\u001b[0m\n\u001b[0;32m--> 861\u001b[0;31m                 \u001b[0mself\u001b[0m\u001b[0;34m.\u001b[0m\u001b[0m_dispatch\u001b[0m\u001b[0;34m(\u001b[0m\u001b[0mtasks\u001b[0m\u001b[0;34m)\u001b[0m\u001b[0;34m\u001b[0m\u001b[0;34m\u001b[0m\u001b[0m\n\u001b[0m\u001b[1;32m    862\u001b[0m                 \u001b[0;32mreturn\u001b[0m \u001b[0;32mTrue\u001b[0m\u001b[0;34m\u001b[0m\u001b[0;34m\u001b[0m\u001b[0m\n\u001b[1;32m    863\u001b[0m \u001b[0;34m\u001b[0m\u001b[0m\n",
            "\u001b[0;32m/usr/local/lib/python3.7/dist-packages/joblib/parallel.py\u001b[0m in \u001b[0;36m_dispatch\u001b[0;34m(self, batch)\u001b[0m\n\u001b[1;32m    777\u001b[0m         \u001b[0;32mwith\u001b[0m \u001b[0mself\u001b[0m\u001b[0;34m.\u001b[0m\u001b[0m_lock\u001b[0m\u001b[0;34m:\u001b[0m\u001b[0;34m\u001b[0m\u001b[0;34m\u001b[0m\u001b[0m\n\u001b[1;32m    778\u001b[0m             \u001b[0mjob_idx\u001b[0m \u001b[0;34m=\u001b[0m \u001b[0mlen\u001b[0m\u001b[0;34m(\u001b[0m\u001b[0mself\u001b[0m\u001b[0;34m.\u001b[0m\u001b[0m_jobs\u001b[0m\u001b[0;34m)\u001b[0m\u001b[0;34m\u001b[0m\u001b[0;34m\u001b[0m\u001b[0m\n\u001b[0;32m--> 779\u001b[0;31m             \u001b[0mjob\u001b[0m \u001b[0;34m=\u001b[0m \u001b[0mself\u001b[0m\u001b[0;34m.\u001b[0m\u001b[0m_backend\u001b[0m\u001b[0;34m.\u001b[0m\u001b[0mapply_async\u001b[0m\u001b[0;34m(\u001b[0m\u001b[0mbatch\u001b[0m\u001b[0;34m,\u001b[0m \u001b[0mcallback\u001b[0m\u001b[0;34m=\u001b[0m\u001b[0mcb\u001b[0m\u001b[0;34m)\u001b[0m\u001b[0;34m\u001b[0m\u001b[0;34m\u001b[0m\u001b[0m\n\u001b[0m\u001b[1;32m    780\u001b[0m             \u001b[0;31m# A job can complete so quickly than its callback is\u001b[0m\u001b[0;34m\u001b[0m\u001b[0;34m\u001b[0m\u001b[0;34m\u001b[0m\u001b[0m\n\u001b[1;32m    781\u001b[0m             \u001b[0;31m# called before we get here, causing self._jobs to\u001b[0m\u001b[0;34m\u001b[0m\u001b[0;34m\u001b[0m\u001b[0;34m\u001b[0m\u001b[0m\n",
            "\u001b[0;32m/usr/local/lib/python3.7/dist-packages/joblib/_parallel_backends.py\u001b[0m in \u001b[0;36mapply_async\u001b[0;34m(self, func, callback)\u001b[0m\n\u001b[1;32m    206\u001b[0m     \u001b[0;32mdef\u001b[0m \u001b[0mapply_async\u001b[0m\u001b[0;34m(\u001b[0m\u001b[0mself\u001b[0m\u001b[0;34m,\u001b[0m \u001b[0mfunc\u001b[0m\u001b[0;34m,\u001b[0m \u001b[0mcallback\u001b[0m\u001b[0;34m=\u001b[0m\u001b[0;32mNone\u001b[0m\u001b[0;34m)\u001b[0m\u001b[0;34m:\u001b[0m\u001b[0;34m\u001b[0m\u001b[0;34m\u001b[0m\u001b[0m\n\u001b[1;32m    207\u001b[0m         \u001b[0;34m\"\"\"Schedule a func to be run\"\"\"\u001b[0m\u001b[0;34m\u001b[0m\u001b[0;34m\u001b[0m\u001b[0m\n\u001b[0;32m--> 208\u001b[0;31m         \u001b[0mresult\u001b[0m \u001b[0;34m=\u001b[0m \u001b[0mImmediateResult\u001b[0m\u001b[0;34m(\u001b[0m\u001b[0mfunc\u001b[0m\u001b[0;34m)\u001b[0m\u001b[0;34m\u001b[0m\u001b[0;34m\u001b[0m\u001b[0m\n\u001b[0m\u001b[1;32m    209\u001b[0m         \u001b[0;32mif\u001b[0m \u001b[0mcallback\u001b[0m\u001b[0;34m:\u001b[0m\u001b[0;34m\u001b[0m\u001b[0;34m\u001b[0m\u001b[0m\n\u001b[1;32m    210\u001b[0m             \u001b[0mcallback\u001b[0m\u001b[0;34m(\u001b[0m\u001b[0mresult\u001b[0m\u001b[0;34m)\u001b[0m\u001b[0;34m\u001b[0m\u001b[0;34m\u001b[0m\u001b[0m\n",
            "\u001b[0;32m/usr/local/lib/python3.7/dist-packages/joblib/_parallel_backends.py\u001b[0m in \u001b[0;36m__init__\u001b[0;34m(self, batch)\u001b[0m\n\u001b[1;32m    570\u001b[0m         \u001b[0;31m# Don't delay the application, to avoid keeping the input\u001b[0m\u001b[0;34m\u001b[0m\u001b[0;34m\u001b[0m\u001b[0;34m\u001b[0m\u001b[0m\n\u001b[1;32m    571\u001b[0m         \u001b[0;31m# arguments in memory\u001b[0m\u001b[0;34m\u001b[0m\u001b[0;34m\u001b[0m\u001b[0;34m\u001b[0m\u001b[0m\n\u001b[0;32m--> 572\u001b[0;31m         \u001b[0mself\u001b[0m\u001b[0;34m.\u001b[0m\u001b[0mresults\u001b[0m \u001b[0;34m=\u001b[0m \u001b[0mbatch\u001b[0m\u001b[0;34m(\u001b[0m\u001b[0;34m)\u001b[0m\u001b[0;34m\u001b[0m\u001b[0;34m\u001b[0m\u001b[0m\n\u001b[0m\u001b[1;32m    573\u001b[0m \u001b[0;34m\u001b[0m\u001b[0m\n\u001b[1;32m    574\u001b[0m     \u001b[0;32mdef\u001b[0m \u001b[0mget\u001b[0m\u001b[0;34m(\u001b[0m\u001b[0mself\u001b[0m\u001b[0;34m)\u001b[0m\u001b[0;34m:\u001b[0m\u001b[0;34m\u001b[0m\u001b[0;34m\u001b[0m\u001b[0m\n",
            "\u001b[0;32m/usr/local/lib/python3.7/dist-packages/joblib/parallel.py\u001b[0m in \u001b[0;36m__call__\u001b[0;34m(self)\u001b[0m\n\u001b[1;32m    261\u001b[0m         \u001b[0;32mwith\u001b[0m \u001b[0mparallel_backend\u001b[0m\u001b[0;34m(\u001b[0m\u001b[0mself\u001b[0m\u001b[0;34m.\u001b[0m\u001b[0m_backend\u001b[0m\u001b[0;34m,\u001b[0m \u001b[0mn_jobs\u001b[0m\u001b[0;34m=\u001b[0m\u001b[0mself\u001b[0m\u001b[0;34m.\u001b[0m\u001b[0m_n_jobs\u001b[0m\u001b[0;34m)\u001b[0m\u001b[0;34m:\u001b[0m\u001b[0;34m\u001b[0m\u001b[0;34m\u001b[0m\u001b[0m\n\u001b[1;32m    262\u001b[0m             return [func(*args, **kwargs)\n\u001b[0;32m--> 263\u001b[0;31m                     for func, args, kwargs in self.items]\n\u001b[0m\u001b[1;32m    264\u001b[0m \u001b[0;34m\u001b[0m\u001b[0m\n\u001b[1;32m    265\u001b[0m     \u001b[0;32mdef\u001b[0m \u001b[0m__reduce__\u001b[0m\u001b[0;34m(\u001b[0m\u001b[0mself\u001b[0m\u001b[0;34m)\u001b[0m\u001b[0;34m:\u001b[0m\u001b[0;34m\u001b[0m\u001b[0;34m\u001b[0m\u001b[0m\n",
            "\u001b[0;32m/usr/local/lib/python3.7/dist-packages/joblib/parallel.py\u001b[0m in \u001b[0;36m<listcomp>\u001b[0;34m(.0)\u001b[0m\n\u001b[1;32m    261\u001b[0m         \u001b[0;32mwith\u001b[0m \u001b[0mparallel_backend\u001b[0m\u001b[0;34m(\u001b[0m\u001b[0mself\u001b[0m\u001b[0;34m.\u001b[0m\u001b[0m_backend\u001b[0m\u001b[0;34m,\u001b[0m \u001b[0mn_jobs\u001b[0m\u001b[0;34m=\u001b[0m\u001b[0mself\u001b[0m\u001b[0;34m.\u001b[0m\u001b[0m_n_jobs\u001b[0m\u001b[0;34m)\u001b[0m\u001b[0;34m:\u001b[0m\u001b[0;34m\u001b[0m\u001b[0;34m\u001b[0m\u001b[0m\n\u001b[1;32m    262\u001b[0m             return [func(*args, **kwargs)\n\u001b[0;32m--> 263\u001b[0;31m                     for func, args, kwargs in self.items]\n\u001b[0m\u001b[1;32m    264\u001b[0m \u001b[0;34m\u001b[0m\u001b[0m\n\u001b[1;32m    265\u001b[0m     \u001b[0;32mdef\u001b[0m \u001b[0m__reduce__\u001b[0m\u001b[0;34m(\u001b[0m\u001b[0mself\u001b[0m\u001b[0;34m)\u001b[0m\u001b[0;34m:\u001b[0m\u001b[0;34m\u001b[0m\u001b[0;34m\u001b[0m\u001b[0m\n",
            "\u001b[0;32m/usr/local/lib/python3.7/dist-packages/sklearn/utils/fixes.py\u001b[0m in \u001b[0;36m__call__\u001b[0;34m(self, *args, **kwargs)\u001b[0m\n\u001b[1;32m    214\u001b[0m     \u001b[0;32mdef\u001b[0m \u001b[0m__call__\u001b[0m\u001b[0;34m(\u001b[0m\u001b[0mself\u001b[0m\u001b[0;34m,\u001b[0m \u001b[0;34m*\u001b[0m\u001b[0margs\u001b[0m\u001b[0;34m,\u001b[0m \u001b[0;34m**\u001b[0m\u001b[0mkwargs\u001b[0m\u001b[0;34m)\u001b[0m\u001b[0;34m:\u001b[0m\u001b[0;34m\u001b[0m\u001b[0;34m\u001b[0m\u001b[0m\n\u001b[1;32m    215\u001b[0m         \u001b[0;32mwith\u001b[0m \u001b[0mconfig_context\u001b[0m\u001b[0;34m(\u001b[0m\u001b[0;34m**\u001b[0m\u001b[0mself\u001b[0m\u001b[0;34m.\u001b[0m\u001b[0mconfig\u001b[0m\u001b[0;34m)\u001b[0m\u001b[0;34m:\u001b[0m\u001b[0;34m\u001b[0m\u001b[0;34m\u001b[0m\u001b[0m\n\u001b[0;32m--> 216\u001b[0;31m             \u001b[0;32mreturn\u001b[0m \u001b[0mself\u001b[0m\u001b[0;34m.\u001b[0m\u001b[0mfunction\u001b[0m\u001b[0;34m(\u001b[0m\u001b[0;34m*\u001b[0m\u001b[0margs\u001b[0m\u001b[0;34m,\u001b[0m \u001b[0;34m**\u001b[0m\u001b[0mkwargs\u001b[0m\u001b[0;34m)\u001b[0m\u001b[0;34m\u001b[0m\u001b[0;34m\u001b[0m\u001b[0m\n\u001b[0m\u001b[1;32m    217\u001b[0m \u001b[0;34m\u001b[0m\u001b[0m\n\u001b[1;32m    218\u001b[0m \u001b[0;34m\u001b[0m\u001b[0m\n",
            "\u001b[0;32m/usr/local/lib/python3.7/dist-packages/sklearn/linear_model/_logistic.py\u001b[0m in \u001b[0;36m_logistic_regression_path\u001b[0;34m(X, y, pos_class, Cs, fit_intercept, max_iter, tol, verbose, solver, coef, class_weight, dual, penalty, intercept_scaling, multi_class, random_state, check_input, max_squared_sum, sample_weight, l1_ratio)\u001b[0m\n\u001b[1;32m    810\u001b[0m                 \u001b[0mjac\u001b[0m\u001b[0;34m=\u001b[0m\u001b[0;32mTrue\u001b[0m\u001b[0;34m,\u001b[0m\u001b[0;34m\u001b[0m\u001b[0;34m\u001b[0m\u001b[0m\n\u001b[1;32m    811\u001b[0m                 \u001b[0margs\u001b[0m\u001b[0;34m=\u001b[0m\u001b[0;34m(\u001b[0m\u001b[0mX\u001b[0m\u001b[0;34m,\u001b[0m \u001b[0mtarget\u001b[0m\u001b[0;34m,\u001b[0m \u001b[0;36m1.0\u001b[0m \u001b[0;34m/\u001b[0m \u001b[0mC\u001b[0m\u001b[0;34m,\u001b[0m \u001b[0msample_weight\u001b[0m\u001b[0;34m)\u001b[0m\u001b[0;34m,\u001b[0m\u001b[0;34m\u001b[0m\u001b[0;34m\u001b[0m\u001b[0m\n\u001b[0;32m--> 812\u001b[0;31m                 \u001b[0moptions\u001b[0m\u001b[0;34m=\u001b[0m\u001b[0;34m{\u001b[0m\u001b[0;34m\"iprint\"\u001b[0m\u001b[0;34m:\u001b[0m \u001b[0miprint\u001b[0m\u001b[0;34m,\u001b[0m \u001b[0;34m\"gtol\"\u001b[0m\u001b[0;34m:\u001b[0m \u001b[0mtol\u001b[0m\u001b[0;34m,\u001b[0m \u001b[0;34m\"maxiter\"\u001b[0m\u001b[0;34m:\u001b[0m \u001b[0mmax_iter\u001b[0m\u001b[0;34m}\u001b[0m\u001b[0;34m,\u001b[0m\u001b[0;34m\u001b[0m\u001b[0;34m\u001b[0m\u001b[0m\n\u001b[0m\u001b[1;32m    813\u001b[0m             )\n\u001b[1;32m    814\u001b[0m             n_iter_i = _check_optimize_result(\n",
            "\u001b[0;32m/usr/local/lib/python3.7/dist-packages/scipy/optimize/_minimize.py\u001b[0m in \u001b[0;36mminimize\u001b[0;34m(fun, x0, args, method, jac, hess, hessp, bounds, constraints, tol, callback, options)\u001b[0m\n\u001b[1;32m    608\u001b[0m     \u001b[0;32melif\u001b[0m \u001b[0mmeth\u001b[0m \u001b[0;34m==\u001b[0m \u001b[0;34m'l-bfgs-b'\u001b[0m\u001b[0;34m:\u001b[0m\u001b[0;34m\u001b[0m\u001b[0;34m\u001b[0m\u001b[0m\n\u001b[1;32m    609\u001b[0m         return _minimize_lbfgsb(fun, x0, args, jac, bounds,\n\u001b[0;32m--> 610\u001b[0;31m                                 callback=callback, **options)\n\u001b[0m\u001b[1;32m    611\u001b[0m     \u001b[0;32melif\u001b[0m \u001b[0mmeth\u001b[0m \u001b[0;34m==\u001b[0m \u001b[0;34m'tnc'\u001b[0m\u001b[0;34m:\u001b[0m\u001b[0;34m\u001b[0m\u001b[0;34m\u001b[0m\u001b[0m\n\u001b[1;32m    612\u001b[0m         return _minimize_tnc(fun, x0, args, jac, bounds, callback=callback,\n",
            "\u001b[0;32m/usr/local/lib/python3.7/dist-packages/scipy/optimize/lbfgsb.py\u001b[0m in \u001b[0;36m_minimize_lbfgsb\u001b[0;34m(fun, x0, args, jac, bounds, disp, maxcor, ftol, gtol, eps, maxfun, maxiter, iprint, callback, maxls, **unknown_options)\u001b[0m\n\u001b[1;32m    336\u001b[0m         _lbfgsb.setulb(m, x, low_bnd, upper_bnd, nbd, f, g, factr,\n\u001b[1;32m    337\u001b[0m                        \u001b[0mpgtol\u001b[0m\u001b[0;34m,\u001b[0m \u001b[0mwa\u001b[0m\u001b[0;34m,\u001b[0m \u001b[0miwa\u001b[0m\u001b[0;34m,\u001b[0m \u001b[0mtask\u001b[0m\u001b[0;34m,\u001b[0m \u001b[0miprint\u001b[0m\u001b[0;34m,\u001b[0m \u001b[0mcsave\u001b[0m\u001b[0;34m,\u001b[0m \u001b[0mlsave\u001b[0m\u001b[0;34m,\u001b[0m\u001b[0;34m\u001b[0m\u001b[0;34m\u001b[0m\u001b[0m\n\u001b[0;32m--> 338\u001b[0;31m                        isave, dsave, maxls)\n\u001b[0m\u001b[1;32m    339\u001b[0m         \u001b[0mtask_str\u001b[0m \u001b[0;34m=\u001b[0m \u001b[0mtask\u001b[0m\u001b[0;34m.\u001b[0m\u001b[0mtostring\u001b[0m\u001b[0;34m(\u001b[0m\u001b[0;34m)\u001b[0m\u001b[0;34m\u001b[0m\u001b[0;34m\u001b[0m\u001b[0m\n\u001b[1;32m    340\u001b[0m         \u001b[0;32mif\u001b[0m \u001b[0mtask_str\u001b[0m\u001b[0;34m.\u001b[0m\u001b[0mstartswith\u001b[0m\u001b[0;34m(\u001b[0m\u001b[0;34mb'FG'\u001b[0m\u001b[0;34m)\u001b[0m\u001b[0;34m:\u001b[0m\u001b[0;34m\u001b[0m\u001b[0;34m\u001b[0m\u001b[0m\n",
            "\u001b[0;31mKeyboardInterrupt\u001b[0m: "
          ]
        }
      ],
      "source": [
        "# bagging\n",
        "lr_bagg_clf = BaggingClassifier(base_estimator=model_, n_estimators=5, random_state=42)\n",
        "\n",
        "model, lr_bagg_score, y_pred = train_evaluate_models(lr_bagg_clf,\n",
        "                                                    X_train_, X_test_,\n",
        "                                                    y_train_, y_test_,\n",
        "                                                    name='Sentiment Bagging Logistic Regressions', cm_plot=False)"
      ],
      "id": "k4gbPQL5mSim"
    },
    {
      "cell_type": "code",
      "execution_count": null,
      "metadata": {
        "id": "j4tZW64gu7nt"
      },
      "outputs": [],
      "source": [
        "# cv\n",
        "lr_res = evaluate_CV(model_, n_folds=10, name='Sentiment Logistic Regressions')"
      ],
      "id": "j4tZW64gu7nt"
    },
    {
      "cell_type": "markdown",
      "metadata": {
        "id": "TrqIg8_glyIN"
      },
      "source": [
        "## 2.5 Sentiment CLFs Comparison"
      ],
      "id": "TrqIg8_glyIN"
    },
    {
      "cell_type": "code",
      "execution_count": null,
      "metadata": {
        "id": "lHZgi4xBFErT"
      },
      "outputs": [],
      "source": [
        "clfs = ['Naive Bayes', 'KNN','SVM', 'LogReg.']\n",
        "scores = [nb_score, knn_score, svm_score, lr_score]\n",
        "cv_res = [nb_res, knn_res, svm_res, lr_res]\n",
        "res_bagg = [nb_bagg_score, knn_bagg_score, svm_bagg_score, lr_bagg_score]\n",
        "\n",
        "sent_scores = pd.DataFrame(scores, index=clfs, columns=['F1-Score'])\n",
        "sent_scores['CV-Score'] = cv_res\n",
        "sent_scores['BAGGING-Score'] = res_bagg\n",
        "\n",
        "sent_scores"
      ],
      "id": "lHZgi4xBFErT"
    },
    {
      "cell_type": "code",
      "execution_count": null,
      "metadata": {
        "id": "I8RPBMAoFErV"
      },
      "outputs": [],
      "source": [
        "plot_comparision(sent_scores, 'F1-Score', 'Sentiment')"
      ],
      "id": "I8RPBMAoFErV"
    },
    {
      "cell_type": "code",
      "execution_count": null,
      "metadata": {
        "id": "YM_TfQQ0U-cx"
      },
      "outputs": [],
      "source": [
        "sent_scores[['BAGGING-Score', 'CV-Score']].plot(kind='bar', figsize=(11, 5), alpha=0.7)\n",
        "plt.title(f'Sentiment CLFs Cross Valid vs Bagging Scores Comparision.', fontsize=18);\n",
        "plt.xticks(rotation=30);\n",
        "\n",
        "plt.show()"
      ],
      "id": "YM_TfQQ0U-cx"
    },
    {
      "cell_type": "code",
      "execution_count": null,
      "metadata": {
        "id": "9uURTAUFfT0I"
      },
      "outputs": [],
      "source": [],
      "id": "9uURTAUFfT0I"
    }
  ],
  "metadata": {
    "accelerator": "GPU",
    "colab": {
      "provenance": [],
      "include_colab_link": true
    },
    "kernelspec": {
      "display_name": "Python 3",
      "language": "python",
      "name": "python3"
    },
    "language_info": {
      "codemirror_mode": {
        "name": "ipython",
        "version": 3
      },
      "file_extension": ".py",
      "mimetype": "text/x-python",
      "name": "python",
      "nbconvert_exporter": "python",
      "pygments_lexer": "ipython3",
      "version": "3.8.8"
    }
  },
  "nbformat": 4,
  "nbformat_minor": 5
}